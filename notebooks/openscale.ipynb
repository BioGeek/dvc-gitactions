{
 "metadata": {
  "language_info": {
   "codemirror_mode": {
    "name": "ipython",
    "version": 3
   },
   "file_extension": ".py",
   "mimetype": "text/x-python",
   "name": "python",
   "nbconvert_exporter": "python",
   "pygments_lexer": "ipython3",
   "version": "3.6.9"
  },
  "orig_nbformat": 2,
  "kernelspec": {
   "name": "python3",
   "display_name": "Python 3.6.9 64-bit",
   "metadata": {
    "interpreter": {
     "hash": "31f2aee4e71d21fbe5cf8b01ff0e069b9275f58929596ceb00d14d90e3e16cd6"
    }
   }
  }
 },
 "nbformat": 4,
 "nbformat_minor": 2,
 "cells": [
  {
   "cell_type": "code",
   "execution_count": 28,
   "metadata": {},
   "outputs": [
    {
     "output_type": "stream",
     "name": "stdout",
     "text": [
      "7b220d7b-3196-43c3-8510-a4f710021a04\n",
      "2.2.1\n",
      "DEPRECATED!! Python 3.6 framework is deprecated and will be removed on Jan 20th, 2021. It will be read-only mode starting Nov 20th, 2020. i.e you won't be able to create new assets using this client. Use Python 3.7 instead. For details, see https://dataplatform.cloud.ibm.com/docs/content/wsj/analyze-data/pm_service_supported_frameworks.html\n"
     ]
    },
    {
     "output_type": "execute_result",
     "data": {
      "text/plain": [
       "'SUCCESS'"
      ]
     },
     "metadata": {},
     "execution_count": 28
    }
   ],
   "source": [
    "import os\n",
    "import sys\n",
    "import yaml\n",
    "from ibm_cloud_sdk_core.authenticators import IAMAuthenticator\n",
    "from ibm_ai_openscale import APIClient\n",
    "from ibm_ai_openscale.engines import *\n",
    "from ibm_ai_openscale.utils import *\n",
    "from ibm_ai_openscale.supporting_classes import PayloadRecord, Feature\n",
    "from ibm_ai_openscale.supporting_classes.enums import *\n",
    "import requests\n",
    "from ibm_ai_openscale.utils import get_instance_guid\n",
    "import ibm_watson_machine_learning\n",
    "import json\n",
    "import pandas as pd\n",
    "from sklearn.model_selection import train_test_split\n",
    "import numpy as np\n",
    "from sklearn.metrics import confusion_matrix, accuracy_score, precision_score, recall_score, f1_score\n",
    "from ibm_cloud_sdk_core.authenticators import IAMAuthenticator\n",
    "from ibm_watson_openscale import *\n",
    "from ibm_watson_openscale.supporting_classes.enums import *\n",
    "from ibm_watson_openscale.supporting_classes.payload_record import PayloadRecord\n",
    "import ibm_watson_openscale\n",
    "\n",
    "\n",
    "with open(\"../credentials.yaml\") as stream:\n",
    "    try:\n",
    "        credentials = yaml.safe_load(stream)\n",
    "    except yaml.YAMLError as exc:\n",
    "        print(exc)\n",
    "\n",
    "\n",
    "with open(\"../metadata.yaml\") as stream:\n",
    "    try:\n",
    "        metadata = yaml.safe_load(stream)\n",
    "    except yaml.YAMLError as exc:\n",
    "        print(exc)\n",
    "\n",
    "\n",
    "service_credentials = {\n",
    "    \"apikey\": credentials[\"apikey\"],\n",
    "    \"url\": \"https://api.aiopenscale.cloud.ibm.com\",\n",
    "}\n",
    "\n",
    "DEPLOYMENT_UID = metadata[\"deployment_uid\"]\n",
    "MODEL_UID = metadata[\"model_uid\"]\n",
    "MODEL_NAME = metadata[\"project_name\"] + \"_\" + metadata[\"project_version\"]\n",
    "SPACE_ID = credentials[\"space_id\"]\n",
    "WOS_GUID = get_instance_guid(api_key=service_credentials[\"apikey\"])\n",
    "WOS_CREDENTIALS = {\n",
    "    \"instance_guid\": WOS_GUID,\n",
    "    \"apikey\": service_credentials[\"apikey\"],\n",
    "    \"url\": \"https://api.aiopenscale.cloud.ibm.com\",\n",
    "}\n",
    "\n",
    "if WOS_GUID is None:\n",
    "    print(\"Watson OpenScale GUID NOT FOUND\")\n",
    "else:\n",
    "    print(WOS_GUID)\n",
    "    \n",
    "ai_client = APIClient(aios_credentials=WOS_CREDENTIALS)\n",
    "print(ai_client.version)\n",
    "\n",
    "wml_credentials = {\"url\": credentials[\"url\"], \"apikey\": credentials[\"apikey\"]}\n",
    "\n",
    "wml_client = ibm_watson_machine_learning.APIClient(wml_credentials)\n",
    "\n",
    "wml_credentials = {\n",
    "    \"url\": credentials[\"url\"],\n",
    "    \"apikey\": credentials[\"apikey\"],\n",
    "    \"instance_id\": \"wml_local\",\n",
    "}\n",
    "\n",
    "wml_client.set.default_space(\"16148a4d-9055-4220-af26-0c0369cdf31a\")\n",
    "\n",
    "authenticator = IAMAuthenticator(apikey=credentials[\"apikey\"])\n",
    "wos_client = ibm_watson_openscale.APIClient(\n",
    "    authenticator=authenticator, \n",
    "    service_url=\"https://api.aiopenscale.cloud.ibm.com\")\n",
    "\n",
    "\n"
   ]
  },
  {
   "cell_type": "code",
   "execution_count": 292,
   "metadata": {},
   "outputs": [
    {
     "output_type": "stream",
     "name": "stdout",
     "text": [
      "Using existing internal datamart.\n",
      "Operation 'engine binding' is supported for Watson Machine Learning in Dallas or Frankfurt regions\n",
      "Warning during bind instance.\n",
      "Status code: 409, body: {\"errors\":[{\"code\":\"AIQCS0010W\",\"message\":\"Service Binding with this id is already defined\"}],\"trace\":\"NWRlMDQ0NmQtNDRkZS00MjcwLWIyYWEtYTAwYjk2Y2M5N2Vm\"}\n"
     ]
    },
    {
     "output_type": "display_data",
     "data": {
      "text/plain": "<IPython.core.display.HTML object>",
      "text/html": "<HTML>\n        <body>\n            <h3>Service bindings</h3>\n            <table style='border: 1px solid #dddddd; font-family: Courier'>\n                <th style='border: 1px solid #dddddd'>uid</th><th style='border: 1px solid #dddddd'>name</th><th style='border: 1px solid #dddddd'>service_type</th><th style='border: 1px solid #dddddd'>created</th>\n                <tr><td style='border: 1px solid #dddddd'>wml_local</td><td style='border: 1px solid #dddddd'>Rain Australia</td><td style='border: 1px solid #dddddd'>watson_machine_learning</td><td style='border: 1px solid #dddddd'>2021-04-04T21:16:49.550Z</td></tr><tr><td style='border: 1px solid #dddddd'>974615e0-4c06-40a3-af1f-944192f7e472</td><td style='border: 1px solid #dddddd'>Rain Aus</td><td style='border: 1px solid #dddddd'>watson_machine_learning</td><td style='border: 1px solid #dddddd'>2021-04-01T18:34:08.733Z</td></tr>\n            </table>\n        </body>\n        </HTML>"
     },
     "metadata": {}
    },
    {
     "output_type": "stream",
     "name": "stdout",
     "text": [
      "Warning: Failure during getting artifacts for binding: wml_local. Failure during get deployments. (GET https://api.aiopenscale.cloud.ibm.com/v1/ml_instances/wml_local/deployments?datamart_id=7b220d7b-3196-43c3-8510-a4f710021a04&limit=1000)\nStatus code: 500, body: {\"trace\":\"java.lang.RuntimeException: AIQGS0023E : BindingOrInstanceId = wml_local, ServiceType = watson_machine_learning, SubscriptionId = null : GetDeployments failed org.apache.http.client.ClientProtocolException: AIQGS0167E : HTTP call failed (no of calls attempted = 1, method = GET, url = https://us-south.ml.cloud.ibm.com/v3/wml_instances/wml_local/deployments, status = 403)..\\n\\tat com.ibm.aios.mlgateway.discovery.impl.WMLDeployments.getDeploymentCollectionBySpaceId(WMLDeployments.java:399)\\n\\tat com.ibm.aios.mlgateway.discovery.impl.WMLDeployments.getDeploymentCollection(WMLDeployments.java:247)\\n\\tat com.ibm.aios.mlgateway.discovery.impl.WMLDeployments.getDeployments(WMLDeployments.java:224)\\n\\tat com.ibm.aios.mlgateway.api.server.impl.DeploymentCollectionFactory.getDeploymentCollection(DeploymentCollectionFactory.java:102)\\n\\tat com.ibm.aios.mlgateway.api.server.impl.V1ApiServiceImpl.getDeploymentsByBindingId(V1ApiServiceImpl.java:185)\\n\\tat com.ibm.aios.mlgateway.api.server.V1Api.getDeploymentsByBindingId(V1Api.java:75)\\n\\tat sun.reflect.GeneratedMethodAccessor182.invoke(Unknown Source)\\n\\tat sun.reflect.DelegatingMethodAccessorImpl.invoke(Unknown Source)\\n\\tat java.lang.reflect.Method.invoke(Unknown Source)\\n\\tat com.ibm.ws.jaxrs20.server.LibertyJaxRsServerFactoryBean.performInvocation(LibertyJaxRsServerFactoryBean.java:656)\\n\\tat com.ibm.ws.jaxrs20.server.LibertyJaxRsInvoker.performInvocation(LibertyJaxRsInvoker.java:160)\\n\\tat org.apache.cxf.service.invoker.AbstractInvoker.invoke(AbstractInvoker.java:96)\\n\\tat com.ibm.ws.jaxrs20.server.LibertyJaxRsInvoker.invoke(LibertyJaxRsInvoker.java:273)\\n\\tat org.apache.cxf.jaxrs.JAXRSInvoker.invoke(JAXRSInvoker.java:191)\\n\\tat com.ibm.ws.jaxrs20.server.LibertyJaxRsInvoker.invoke(LibertyJaxRsInvoker.java:444)\\n\\tat org.apache.cxf.jaxrs.JAXRSInvoker.invoke(JAXRSInvoker.java:101)\\n\\tat org.apache.cxf.interceptor.ServiceInvokerInterceptor$1.run(ServiceInvokerInterceptor.java:61)\\n\\tat org.apache.cxf.interceptor.ServiceInvokerInterceptor.handleMessage(ServiceInvokerInterceptor.java:99)\\n\\tat org.apache.cxf.phase.PhaseInterceptorChain.doIntercept(PhaseInterceptorChain.java:309)\\n\\tat org.apache.cxf.transport.ChainInitiationObserver.onMessage(ChainInitiationObserver.java:124)\\n\\tat org.apache.cxf.transport.http.AbstractHTTPDestination.invoke(AbstractHTTPDestination.java:271)\\n\\tat com.ibm.ws.jaxrs20.endpoint.AbstractJaxRsWebEndpoint.invoke(AbstractJaxRsWebEndpoint.java:136)\\n\\tat com.ibm.websphere.jaxrs.server.IBMRestServlet.handleRequest(IBMRestServlet.java:146)\\n\\tat com.ibm.websphere.jaxrs.server.IBMRestServlet.doGet(IBMRestServlet.java:112)\\n\\tat javax.servlet.http.HttpServlet.service(HttpServlet.java:687)\\n\\tat com.ibm.websphere.jaxrs.server.IBMRestServlet.service(IBMRestServlet.java:96)\\n\\tat com.ibm.ws.webcontainer.servlet.ServletWrapper.service(ServletWrapper.java:1225)\\n\\tat com.ibm.ws.webcontainer.servlet.ServletWrapper.handleRequest(ServletWrapper.java:729)\\n\\tat com.ibm.ws.webcontainer.servlet.ServletWrapper.handleRequest(ServletWrapper.java:426)\\n\\tat com.ibm.ws.webcontainer.filter.WebAppFilterChain.invokeTarget(WebAppFilterChain.java:182)\\n\\tat com.ibm.ws.webcontainer.filter.WebAppFilterChain.doFilter(WebAppFilterChain.java:93)\\n\\tat com.ibm.aios.service.common.auth.IAMTokenServletFilter.doFilter(IAMTokenServletFilter.java:420)\\n\\tat com.ibm.ws.webcontainer.filter.FilterInstanceWrapper.doFilter(FilterInstanceWrapper.java:201)\\n\\tat com.ibm.ws.webcontainer.filter.WebAppFilterChain.doFilter(WebAppFilterChain.java:90)\\n\\tat com.ibm.ws.webcontainer.filter.WebAppFilterManager.doFilter(WebAppFilterManager.java:1001)\\n\\tat com.ibm.ws.webcontainer.filter.WebAppFilterManager.invokeFilters(WebAppFilterManager.java:1139)\\n\\tat com.ibm.ws.webcontainer.filter.WebAppFilterManager.invokeFilters(WebAppFilterManager.java:1010)\\n\\tat com.ibm.ws.webcontainer.servlet.CacheServletWrapper.handleRequest(CacheServletWrapper.java:75)\\n\\tat com.ibm.ws.webcontainer.WebContainer.handleRequest(WebContainer.java:938)\\n\\tat com.ibm.ws.webcontainer.osgi.DynamicVirtualHost$2.run(DynamicVirtualHost.java:279)\\n\\tat com.ibm.ws.http.dispatcher.internal.channel.HttpDispatcherLink$TaskWrapper.run(HttpDispatcherLink.java:1134)\\n\\tat com.ibm.ws.http.dispatcher.internal.channel.HttpDispatcherLink.wrapHandlerAndExecute(HttpDispatcherLink.java:415)\\n\\tat com.ibm.ws.http.dispatcher.internal.channel.HttpDispatcherLink.ready(HttpDispatcherLink.java:374)\\n\\tat com.ibm.ws.http.channel.internal.inbound.HttpInboundLink.handleDiscrimination(HttpInboundLink.java:551)\\n\\tat com.ibm.ws.http.channel.internal.inbound.HttpInboundLink.handleNewRequest(HttpInboundLink.java:484)\\n\\tat com.ibm.ws.http.channel.internal.inbound.HttpInboundLink.processRequest(HttpInboundLink.java:346)\\n\\tat com.ibm.ws.http.channel.internal.inbound.HttpInboundLink.ready(HttpInboundLink.java:317)\\n\\tat com.ibm.ws.channel.ssl.internal.SSLConnectionLink.determineNextChannel(SSLConnectionLink.java:1100)\\n\\tat com.ibm.ws.channel.ssl.internal.SSLConnectionLink$MyReadCompletedCallback.complete(SSLConnectionLink.java:675)\\n\\tat com.ibm.ws.channel.ssl.internal.SSLReadServiceContext$SSLReadCompletedCallback.complete(SSLReadServiceContext.java:1824)\\n\\tat com.ibm.ws.tcpchannel.internal.WorkQueueManager.requestComplete(WorkQueueManager.java:504)\\n\\tat com.ibm.ws.tcpchannel.internal.WorkQueueManager.attemptIO(WorkQueueManager.java:574)\\n\\tat com.ibm.ws.tcpchannel.internal.WorkQueueManager.workerRun(WorkQueueManager.java:958)\\n\\tat com.ibm.ws.tcpchannel.internal.WorkQueueManager$Worker.run(WorkQueueManager.java:1047)\\n\\tat com.ibm.ws.threading.internal.ExecutorServiceImpl$RunnableWrapper.run(ExecutorServiceImpl.java:239)\\n\\tat java.util.concurrent.ThreadPoolExecutor.runWorker(Unknown Source)\\n\\tat java.util.concurrent.ThreadPoolExecutor$Worker.run(Unknown Source)\\n\\tat java.lang.Thread.run(Unknown Source)\\nCaused by: org.apache.http.client.ClientProtocolException: AIQGS0167E : HTTP call failed (no of calls attempted = 1, method = GET, url = https://us-south.ml.cloud.ibm.com/v3/wml_instances/wml_local/deployments, status = 403).\\n\\tat com.ibm.aios.service.common.rest.HttpRest.runHttpCall(HttpRest.java:1248)\\n\\tat com.ibm.aios.service.common.rest.HttpRest.runGetCall(HttpRest.java:949)\\n\\tat com.ibm.aios.service.common.rest.HttpRest.doGetCallWithCustomHeader(HttpRest.java:881)\\n\\tat com.ibm.aios.service.common.rest.HttpRest.doGetCallWithCustomHeader(HttpRest.java:852)\\n\\tat com.ibm.aios.mlgateway.discovery.impl.WMLDeployments.getDeploymentCollectionBySpaceId(WMLDeployments.java:312)\\n\\t... 57 more\\nCaused by: org.apache.http.client.ClientProtocolException: {\\\"status\\\":403,\\\"reason\\\":\\\"Forbidden\\\",\\\"details\\\":{\\\"trace\\\":\\\"8313371ae5c5b4e7c0445ebe0d0e308e\\\",\\\"errors\\\":[{\\\"code\\\":\\\"forbidden\\\",\\\"message\\\":\\\"Authorized user does not have an access to this resource\\\"}]}}\\n\\tat com.ibm.aios.service.common.rest.HttpRest$2.handleResponse(HttpRest.java:240)\\n\\tat com.ibm.aios.service.common.rest.HttpRest$2.handleResponse(HttpRest.java:189)\\n\\tat org.apache.http.client.HttpClient$WrappedResponseHandler.handleResponse(HttpClient.java:206)\\n\\tat org.apache.http.client.HttpClient$WrappedResponseHandler.handleResponse(HttpClient.java:206)\\n\\tat org.apache.http.client.HttpClient$WrappedResponseHandler.handleResponse(HttpClient.java:206)\\n\\tat org.apache.http.impl.client.CloseableHttpClient.execute(CloseableHttpClient.java:223)\\n\\tat org.apache.http.impl.client.CloseableHttpClient.execute(CloseableHttpClient.java:165)\\n\\tat org.apache.http.impl.client.CloseableHttpClient.execute(CloseableHttpClient.java:140)\\n\\tat com.ibm.aios.service.common.rest.HttpRest.runHttpCall(HttpRest.java:1221)\\n\\t... 61 more\\n\",\"errors\":[{}]}\n"
     ]
    },
    {
     "output_type": "display_data",
     "data": {
      "text/plain": "<IPython.core.display.HTML object>",
      "text/html": "<HTML>\n        <body>\n            <h3>Available assets (binding_uid='wml_local')</h3>\n            <table style='border: 1px solid #dddddd; font-family: Courier'>\n                <th style='border: 1px solid #dddddd'>source_uid</th><th style='border: 1px solid #dddddd'>name</th><th style='border: 1px solid #dddddd'>created</th><th style='border: 1px solid #dddddd'>type</th><th style='border: 1px solid #dddddd'>frameworks</th><th style='border: 1px solid #dddddd'>binding_uid</th><th style='border: 1px solid #dddddd'>is_subscribed</th>\n                \n            </table>\n        </body>\n        </HTML>"
     },
     "metadata": {}
    }
   ],
   "source": [
    "\n",
    "KEEP_MY_INTERNAL_POSTGRES = True\n",
    "DB_CREDENTIALS = None\n",
    "try:\n",
    "    data_mart_details = ai_client.data_mart.get_details()\n",
    "    if (\n",
    "        \"internal_database\" in data_mart_details\n",
    "        and data_mart_details[\"internal_database\"]\n",
    "    ):\n",
    "        if KEEP_MY_INTERNAL_POSTGRES:\n",
    "            print(\"Using existing internal datamart.\")\n",
    "        else:\n",
    "            if DB_CREDENTIALS is None:\n",
    "                print(\n",
    "                    \"No postgres credentials supplied. Using existing internal datamart\"\n",
    "                )\n",
    "            else:\n",
    "                print(\"Switching to external datamart\")\n",
    "                ai_client.data_mart.delete(force=True)\n",
    "                ai_client.data_mart.setup(db_credentials=DB_CREDENTIALS)\n",
    "    else:\n",
    "        print(\"Using existing external datamart\")\n",
    "except:\n",
    "    if DB_CREDENTIALS is None:\n",
    "        print(\"Setting up internal datamart\")\n",
    "        ai_client.data_mart.setup(internal_db=True)\n",
    "    else:\n",
    "        print(\"Setting up external datamart\")\n",
    "        try:\n",
    "            ai_client.data_mart.setup(db_credentials=DB_CREDENTIALS)\n",
    "        except:\n",
    "            print(\"Setup failed, trying Db2 setup\")\n",
    "            ai_client.data_mart.setup(\n",
    "                db_credentials=DB_CREDENTIALS, schema=DB_CREDENTIALS[\"username\"]\n",
    "            )\n",
    "data_mart_details = ai_client.data_mart.get_details()\n",
    "\n",
    "binding_uid = ai_client.data_mart.bindings.add(\n",
    "    \"Rain Aus\", WatsonMachineLearningInstance(wml_credentials)\n",
    ")\n",
    "\n",
    "bindings_details = ai_client.data_mart.bindings.get_details()\n",
    "\n",
    "if binding_uid is None:\n",
    "    binding_uid = [\n",
    "        binding[\"metadata\"][\"guid\"]\n",
    "        for binding in bindings_details[\"service_bindings\"]\n",
    "        if binding[\"entity\"][\"name\"] == \"WML Cloud Instance\"\n",
    "    ][0]\n",
    "ai_client.data_mart.bindings.list()\n",
    "\n",
    "ai_client.data_mart.bindings.list_assets(binding_uid=binding_uid)"
   ]
  },
  {
   "cell_type": "code",
   "execution_count": 30,
   "metadata": {},
   "outputs": [],
   "source": [
    "subscriptions_uids = ai_client.data_mart.subscriptions.get_uids()\n",
    "# for subscription in subscriptions_uids:\n",
    "#     sub_name = ai_client.data_mart.subscriptions.get_details(subscription)['entity']['asset']['name']\n",
    "#     if sub_name == MODEL_NAME:\n",
    "#         ai_client.data_mart.subscriptions.delete(subscription)\n",
    "#         print('Deleted existing subscription for', MODEL_NAME)"
   ]
  },
  {
   "cell_type": "code",
   "execution_count": 293,
   "metadata": {},
   "outputs": [
    {
     "output_type": "stream",
     "name": "stdout",
     "text": [
      "Subscription already exists; get the existing one\n"
     ]
    }
   ],
   "source": [
    "# subscription = ai_client.data_mart.subscriptions.add(WatsonMachineLearningAsset(\n",
    "#     MODEL_UID,\n",
    "#     problem_type=ProblemType.BINARY_CLASSIFICATION,\n",
    "#     input_data_type=InputDataType.STRUCTURED,\n",
    "#     label_column='RainTomorrow',\n",
    "#     prediction_column='predictedLabel',\n",
    "#     probability_column='probability',\n",
    "#     transaction_id_column='transaction_id',\n",
    "#     feature_columns = [\"Humidity3pm\", \"Humidity9am\", \"MaxTemp\", \"MinTemp\", \"Pressure3pm\", \"Pressure9am\", \"RainToday\", \"Rainfall\", \"Temp3pm\", \"Temp9am\", \"WindDir3pm_E\", \"WindDir3pm_ENE\", \"WindDir3pm_ESE\", \"WindDir3pm_N\", \"WindDir3pm_NE\", \"WindDir3pm_NNE\", \"WindDir3pm_NNW\", \"WindDir3pm_NW\", \"WindDir3pm_S\", \"WindDir3pm_SE\", \"WindDir3pm_SSE\", \"WindDir3pm_SSW\", \"WindDir3pm_SW\", \"WindDir3pm_W\", \"WindDir3pm_WNW\", \"WindDir3pm_WSW\", \"WindDir9am_E\", \"WindDir9am_ENE\", \"WindDir9am_ESE\", \"WindDir9am_N\", \"WindDir9am_NE\", \"WindDir9am_NNE\", \"WindDir9am_NNW\", \"WindDir9am_NW\", \"WindDir9am_S\", \"WindDir9am_SE\", \"WindDir9am_SSE\", \"WindDir9am_SSW\", \"WindDir9am_SW\", \"WindDir9am_W\", \"WindDir9am_WNW\", \"WindDir9am_WSW\", \"WindGustDir_E\", \"WindGustDir_ENE\", \"WindGustDir_ESE\", \"WindGustDir_N\", \"WindGustDir_NE\", \"WindGustDir_NNE\", \"WindGustDir_NNW\", \"WindGustDir_NW\", \"WindGustDir_S\", \"WindGustDir_SE\", \"WindGustDir_SSE\", \"WindGustDir_SSW\", \"WindGustDir_SW\", \"WindGustDir_W\", \"WindGustDir_WNW\", \"WindGustDir_WSW\", \"WindGustSpeed\", \"WindSpeed3pm\", \"WindSpeed9am\"],\n",
    "#     categorical_columns = [\"RainToday\", \"WindDir3pm_E\", \"WindDir3pm_ENE\", \"WindDir3pm_ESE\", \"WindDir3pm_N\", \"WindDir3pm_NE\", \"WindDir3pm_NNE\", \"WindDir3pm_NNW\", \"WindDir3pm_NW\", \"WindDir3pm_S\", \"WindDir3pm_SE\", \"WindDir3pm_SSE\", \"WindDir3pm_SSW\", \"WindDir3pm_SW\", \"WindDir3pm_W\", \"WindDir3pm_WNW\", \"WindDir3pm_WSW\", \"WindDir9am_E\", \"WindDir9am_ENE\", \"WindDir9am_ESE\", \"WindDir9am_N\", \"WindDir9am_NE\", \"WindDir9am_NNE\", \"WindDir9am_NNW\", \"WindDir9am_NW\", \"WindDir9am_S\", \"WindDir9am_SE\", \"WindDir9am_SSE\", \"WindDir9am_SSW\", \"WindDir9am_SW\", \"WindDir9am_W\", \"WindDir9am_WNW\", \"WindDir9am_WSW\", \"WindGustDir_E\", \"WindGustDir_ENE\", \"WindGustDir_ESE\", \"WindGustDir_N\", \"WindGustDir_NE\", \"WindGustDir_NNE\", \"WindGustDir_NNW\", \"WindGustDir_NW\", \"WindGustDir_S\", \"WindGustDir_SE\", \"WindGustDir_SSE\", \"WindGustDir_SSW\", \"WindGustDir_SW\", \"WindGustDir_W\", \"WindGustDir_WNW\", \"WindGustDir_WSW\", \"WindGustSpeed\", \"WindSpeed3pm\", \"WindSpeed9am\"]\n",
    "# ))\n",
    "\n",
    "subscription = None\n",
    "\n",
    "if subscription is None:\n",
    "    print('Subscription already exists; get the existing one')\n",
    "    subscriptions_uids = ai_client.data_mart.subscriptions.get_uids()\n",
    "\n",
    "    for sub in subscriptions_uids:\n",
    "        if ai_client.data_mart.subscriptions.get_details(sub)['entity']['asset']['name'] == MODEL_NAME:\n",
    "            subscription = ai_client.data_mart.subscriptions.get(sub)"
   ]
  },
  {
   "cell_type": "code",
   "execution_count": 294,
   "metadata": {},
   "outputs": [
    {
     "output_type": "display_data",
     "data": {
      "text/plain": "<IPython.core.display.HTML object>",
      "text/html": "<HTML>\n        <body>\n            <h3>Subscriptions</h3>\n            <table style='border: 1px solid #dddddd; font-family: Courier'>\n                <th style='border: 1px solid #dddddd'>uid</th><th style='border: 1px solid #dddddd'>name</th><th style='border: 1px solid #dddddd'>type</th><th style='border: 1px solid #dddddd'>binding_uid</th><th style='border: 1px solid #dddddd'>created</th>\n                <tr><td style='border: 1px solid #dddddd'>bb7a45c3-15ad-4932-aeb8-8d32d54b8b05</td><td style='border: 1px solid #dddddd'>Rain_aus_v0.3</td><td style='border: 1px solid #dddddd'>model</td><td style='border: 1px solid #dddddd'>974615e0-4c06-40a3-af1f-944192f7e472</td><td style='border: 1px solid #dddddd'>2021-04-04T21:23:38.668Z</td></tr>\n            </table>\n        </body>\n        </HTML>"
     },
     "metadata": {}
    }
   ],
   "source": [
    "subscriptions_uids = ai_client.data_mart.subscriptions.get_uids()\n",
    "ai_client.data_mart.subscriptions.list()"
   ]
  },
  {
   "cell_type": "code",
   "execution_count": 295,
   "metadata": {},
   "outputs": [
    {
     "output_type": "stream",
     "name": "stdout",
     "text": [
      "https://us-south.ml.cloud.ibm.com/ml/v4/deployments/e02e481d-4e56-470f-baa9-ae84a583c0a8/predictions\n"
     ]
    }
   ],
   "source": [
    "\n",
    "for deployment in wml_client.deployments.get_details()['resources']:\n",
    "    if DEPLOYMENT_UID in deployment['metadata']['id']:\n",
    "\n",
    "        scoring_endpoint = deployment['entity']['status']['online_url']['url']\n",
    "        \n",
    "print(scoring_endpoint)"
   ]
  },
  {
   "cell_type": "code",
   "execution_count": 282,
   "metadata": {},
   "outputs": [],
   "source": [
    "data = pd.read_csv(\"../data/weatherAUS_processed.csv\")\n",
    "\n",
    "X = data.iloc[:, :-1]\n",
    "y = data[data.columns[-1]]\n",
    "X_train, X_test, y_train, y_test = train_test_split(\n",
    "    X, y, test_size=0.01, random_state=1337\n",
    ")\n",
    "\n",
    "payload_scoring = {\n",
    "    \"input_data\": [\n",
    "        {\n",
    "            \"fields\": X.columns.to_numpy().tolist(),\n",
    "            \"values\": X_test.to_numpy().tolist(),\n",
    "        }\n",
    "    ]\n",
    "}"
   ]
  },
  {
   "cell_type": "code",
   "execution_count": 252,
   "metadata": {},
   "outputs": [],
   "source": [
    "scoring_response = wml_client.deployments.score(DEPLOYMENT_UID, payload_scoring)\n",
    "\n",
    "# scoring_response"
   ]
  },
  {
   "cell_type": "code",
   "execution_count": 253,
   "metadata": {},
   "outputs": [
    {
     "output_type": "stream",
     "name": "stdout",
     "text": [
      "{'accuracy': 0.8704318936877077, 'recall': 0.9724284199363733, 'precision': 0.8758357211079274, 'f1': 0.9216080402010052}\n"
     ]
    }
   ],
   "source": [
    "pred_values = np.squeeze(scoring_response[\"predictions\"][0][\"values\"])\n",
    "y_pred_values = [i[0] for i in pred_values]\n",
    "\n",
    "def comb_eval(y, y_pred):\n",
    "    acc = accuracy_score(y, y_pred)\n",
    "    recall = recall_score(y, y_pred)\n",
    "    precision = precision_score(y, y_pred)\n",
    "    f1 = f1_score(y, y_pred)\n",
    "\n",
    "    return {\"accuracy\": acc, \"recall\": recall, \"precision\": precision, \"f1\": f1}\n",
    "\n",
    "eval = comb_eval(y_test, y_pred_values)\n",
    "print(eval)\n"
   ]
  },
  {
   "cell_type": "code",
   "execution_count": 255,
   "metadata": {},
   "outputs": [
    {
     "output_type": "stream",
     "name": "stdout",
     "text": [
      "Payload data set id: f4791725-24f8-4a00-9c13-b331ebca47f6\n"
     ]
    }
   ],
   "source": [
    "payload_data_set_id = wos_client.data_sets.list(type=DataSetTypes.PAYLOAD_LOGGING, \n",
    "                                                target_target_id=subscription_id, \n",
    "                                                target_target_type=TargetTypes.SUBSCRIPTION).result.data_sets[0].metadata.id\n",
    "print(\"Payload data set id:\", payload_data_set_id)\n",
    "\n",
    "\n"
   ]
  },
  {
   "cell_type": "code",
   "execution_count": 256,
   "metadata": {},
   "outputs": [
    {
     "output_type": "stream",
     "name": "stdout",
     "text": [
      "Logging\n"
     ]
    }
   ],
   "source": [
    "print('Logging')\n",
    "records = [PayloadRecord(request=payload_scoring, response=scoring_response, response_time=72)]\n",
    "store_record_info = wos_client.data_sets.store_records(payload_data_set_id,records)\n"
   ]
  },
  {
   "cell_type": "code",
   "execution_count": 283,
   "metadata": {},
   "outputs": [
    {
     "output_type": "stream",
     "name": "stdout",
     "text": [
      "\n",
      "\n",
      "==========================================================================================\n",
      "\n",
      " Waiting for end of storing records with request id: 157c3777-25dd-4463-8920-45a32d164f93 \n",
      "\n",
      "==========================================================================================\n",
      "\n",
      "\n",
      "\n",
      "active\n",
      "\n",
      "---------------------------------------\n",
      " Successfully finished storing records \n",
      "---------------------------------------\n",
      "\n",
      "\n",
      "1325\n"
     ]
    }
   ],
   "source": [
    "feedback_dataset = wos_client.data_sets.list(type=DataSetTypes.FEEDBACK, \n",
    "                                                target_target_id=subscription_id, \n",
    "                                                target_target_type=TargetTypes.SUBSCRIPTION).result\n",
    "\n",
    "feedback_dataset_id = feedback_dataset.data_sets[0].metadata.id\n",
    "if feedback_dataset_id is None:\n",
    "    print(\"Feedback data set not found. Please check quality monitor status.\")\n",
    "    sys.exit(1)\n",
    "\n",
    "data = X_test.to_dict('records')\n",
    "\n",
    "wos_client.data_sets.store_records(\n",
    "    feedback_dataset_id, \n",
    "    request_body=data, \n",
    "    background_mode=False,\n",
    "    header=True,\n",
    "    delimiter=',',\n",
    "    csv_max_line_length=1000)\n",
    "\n",
    "print(wos_client.data_sets.get_records_count(data_set_id=feedback_dataset_id))"
   ]
  },
  {
   "cell_type": "code",
   "execution_count": null,
   "metadata": {},
   "outputs": [],
   "source": []
  },
  {
   "cell_type": "code",
   "execution_count": 296,
   "metadata": {},
   "outputs": [
    {
     "output_type": "stream",
     "name": "stdout",
     "text": [
      "\n",
      "Data marts: \n",
      "7b220d7b-3196-43c3-8510-a4f710021a04\n",
      "\n",
      "Service providers: \n",
      "wml_local / Name: Rain Australia\n",
      "974615e0-4c06-40a3-af1f-944192f7e472 / Name: Rain Aus\n",
      "\n",
      "Subscriptions: \n",
      "bb7a45c3-15ad-4932-aeb8-8d32d54b8b05   Rain_aus_v0.3\n",
      "\n",
      "\n",
      "Payload data set id: f4791725-24f8-4a00-9c13-b331ebca47f6\n",
      "Number of records in the payload logging table: 4460\n"
     ]
    }
   ],
   "source": [
    "\n",
    "from ibm_watson_openscale.supporting_classes.enums import *\n",
    "\n",
    "print('\\nData marts: ')\n",
    "datams = wos_client.data_marts.list().result.data_marts\n",
    "for d in datams:\n",
    "    print(d.metadata.id)\n",
    "datamart_id = d.metadata.id\n",
    "\n",
    "print('\\nService providers: ')\n",
    "services = wos_client.service_providers.list().result.service_providers\n",
    "for service in services:\n",
    "    print(service.metadata.id+\" / Name: \"+service.entity.name)\n",
    "service_id = service.metadata.id\n",
    "\n",
    "#wos_client.subscriptions.show()\n",
    "#wos_client.data_sets.show()\n",
    "\n",
    "print('\\nSubscriptions: ')\n",
    "subscriptions = wos_client.subscriptions.list(data_mart_id=datamart_id, service_provider_id=service_id).result.subscriptions\n",
    "for s in subscriptions:\n",
    "  print(s.metadata.id+\"   \"+s.entity.asset.name)\n",
    "subscription_id = s.metadata.id\n",
    "\n",
    "print('\\n')\n",
    "\n",
    "payload_data_set_id = wos_client.data_sets.list(type=DataSetTypes.PAYLOAD_LOGGING, \n",
    "                                                target_target_id=subscription_id, \n",
    "                                                target_target_type=TargetTypes.SUBSCRIPTION).result.data_sets[0].metadata.id\n",
    "print(\"Payload data set id:\", payload_data_set_id)\n",
    "\n",
    "\n",
    "pl_records_count = wos_client.data_sets.get_records_count(payload_data_set_id)\n",
    "print(\"Number of records in the payload logging table: {}\".format(pl_records_count))\n",
    "if pl_records_count == 0:\n",
    "    raise Exception(\"Payload logging did not happen!\")\n"
   ]
  },
  {
   "cell_type": "code",
   "execution_count": 278,
   "metadata": {},
   "outputs": [
    {
     "output_type": "error",
     "ename": "ApiException",
     "evalue": "Error: Resource could not be created because of conflict with existing resource `5ddff093-25fa-44f8-abae-fd29659fd0d0` of type `monitor_instance`, Code: 409 , X-global-transaction-id: NzE3YTdlNDUtMzlmYy00NGUxLWE5YWUtOTZhMmViMmUxYzk0",
     "traceback": [
      "\u001b[0;31m---------------------------------------------------------------------------\u001b[0m",
      "\u001b[0;31mApiException\u001b[0m                              Traceback (most recent call last)",
      "\u001b[0;32m<ipython-input-278-59e465828092>\u001b[0m in \u001b[0;36m<module>\u001b[0;34m\u001b[0m\n\u001b[1;32m     17\u001b[0m         \u001b[0mtarget\u001b[0m\u001b[0;34m=\u001b[0m\u001b[0mtarget\u001b[0m\u001b[0;34m,\u001b[0m\u001b[0;34m\u001b[0m\u001b[0;34m\u001b[0m\u001b[0m\n\u001b[1;32m     18\u001b[0m         \u001b[0mparameters\u001b[0m\u001b[0;34m=\u001b[0m\u001b[0mparameters\u001b[0m\u001b[0;34m,\u001b[0m\u001b[0;34m\u001b[0m\u001b[0;34m\u001b[0m\u001b[0m\n\u001b[0;32m---> 19\u001b[0;31m         \u001b[0mthresholds\u001b[0m\u001b[0;34m=\u001b[0m\u001b[0mthresholds\u001b[0m\u001b[0;34m\u001b[0m\u001b[0;34m\u001b[0m\u001b[0m\n\u001b[0m\u001b[1;32m     20\u001b[0m )\n",
      "\u001b[0;32m~/.local/lib/python3.6/site-packages/ibm_watson_openscale/monitor_instances.py\u001b[0m in \u001b[0;36mcreate\u001b[0;34m(self, monitor_definition_id, target, data_mart_id, parameters, thresholds, schedule, managed_by, training_data_stats, background_mode, **kwargs)\u001b[0m\n\u001b[1;32m    362\u001b[0m             response = super().add(data_mart_id=data_mart_id, monitor_definition_id=monitor_definition_id,\n\u001b[1;32m    363\u001b[0m                                             \u001b[0mtarget\u001b[0m\u001b[0;34m=\u001b[0m\u001b[0mtarget\u001b[0m\u001b[0;34m,\u001b[0m \u001b[0mparameters\u001b[0m\u001b[0;34m=\u001b[0m\u001b[0mparameters\u001b[0m\u001b[0;34m,\u001b[0m \u001b[0mthresholds\u001b[0m\u001b[0;34m=\u001b[0m\u001b[0mthresholds\u001b[0m\u001b[0;34m,\u001b[0m\u001b[0;34m\u001b[0m\u001b[0;34m\u001b[0m\u001b[0m\n\u001b[0;32m--> 364\u001b[0;31m                                             schedule=schedule, managed_by=managed_by)\n\u001b[0m\u001b[1;32m    365\u001b[0m             \u001b[0mmonitor_instance_id\u001b[0m \u001b[0;34m=\u001b[0m \u001b[0mresponse\u001b[0m\u001b[0;34m.\u001b[0m\u001b[0mresult\u001b[0m\u001b[0;34m.\u001b[0m\u001b[0mmetadata\u001b[0m\u001b[0;34m.\u001b[0m\u001b[0mid\u001b[0m\u001b[0;34m\u001b[0m\u001b[0;34m\u001b[0m\u001b[0m\n\u001b[1;32m    366\u001b[0m             \u001b[0;32mreturn\u001b[0m \u001b[0mself\u001b[0m\u001b[0;34m.\u001b[0m\u001b[0m__check_for_finished_status\u001b[0m\u001b[0;34m(\u001b[0m\u001b[0mbackground_mode\u001b[0m\u001b[0;34m,\u001b[0m \u001b[0mmonitor_instance_id\u001b[0m\u001b[0;34m,\u001b[0m\u001b[0mresponse\u001b[0m \u001b[0;34m=\u001b[0m \u001b[0mresponse\u001b[0m\u001b[0;34m)\u001b[0m\u001b[0;34m\u001b[0m\u001b[0;34m\u001b[0m\u001b[0m\n",
      "\u001b[0;32m~/.local/lib/python3.6/site-packages/ibm_watson_openscale/base_classes/watson_open_scale_v2.py\u001b[0m in \u001b[0;36madd\u001b[0;34m(self, data_mart_id, monitor_definition_id, target, parameters, thresholds, schedule, schedules, schedule_id, managed_by, unprocessed_records, total_records, skip_scheduler, **kwargs)\u001b[0m\n\u001b[1;32m   2588\u001b[0m                                        data=data)\n\u001b[1;32m   2589\u001b[0m \u001b[0;34m\u001b[0m\u001b[0m\n\u001b[0;32m-> 2590\u001b[0;31m         \u001b[0mresponse\u001b[0m \u001b[0;34m=\u001b[0m \u001b[0mself\u001b[0m\u001b[0;34m.\u001b[0m\u001b[0mwatson_open_scale\u001b[0m\u001b[0;34m.\u001b[0m\u001b[0msend\u001b[0m\u001b[0;34m(\u001b[0m\u001b[0mrequest\u001b[0m\u001b[0;34m)\u001b[0m\u001b[0;34m\u001b[0m\u001b[0;34m\u001b[0m\u001b[0m\n\u001b[0m\u001b[1;32m   2591\u001b[0m         \u001b[0;32mif\u001b[0m \u001b[0mhasattr\u001b[0m\u001b[0;34m(\u001b[0m\u001b[0mMonitorInstanceResponse\u001b[0m\u001b[0;34m,\u001b[0m \u001b[0;34m'from_dict'\u001b[0m\u001b[0;34m)\u001b[0m\u001b[0;34m:\u001b[0m\u001b[0;34m\u001b[0m\u001b[0;34m\u001b[0m\u001b[0m\n\u001b[1;32m   2592\u001b[0m             \u001b[0mresponse\u001b[0m\u001b[0;34m.\u001b[0m\u001b[0mresult\u001b[0m \u001b[0;34m=\u001b[0m \u001b[0mMonitorInstanceResponse\u001b[0m\u001b[0;34m.\u001b[0m\u001b[0mfrom_dict\u001b[0m\u001b[0;34m(\u001b[0m\u001b[0mresponse\u001b[0m\u001b[0;34m.\u001b[0m\u001b[0mresult\u001b[0m\u001b[0;34m)\u001b[0m\u001b[0;34m\u001b[0m\u001b[0;34m\u001b[0m\u001b[0m\n",
      "\u001b[0;32m~/.local/lib/python3.6/site-packages/ibm_cloud_sdk_core/base_service.py\u001b[0m in \u001b[0;36msend\u001b[0;34m(self, request, **kwargs)\u001b[0m\n\u001b[1;32m    244\u001b[0m \u001b[0;34m\u001b[0m\u001b[0m\n\u001b[1;32m    245\u001b[0m             raise ApiException(\n\u001b[0;32m--> 246\u001b[0;31m                 response.status_code, http_response=response)\n\u001b[0m\u001b[1;32m    247\u001b[0m         \u001b[0;32mexcept\u001b[0m \u001b[0mrequests\u001b[0m\u001b[0;34m.\u001b[0m\u001b[0mexceptions\u001b[0m\u001b[0;34m.\u001b[0m\u001b[0mSSLError\u001b[0m\u001b[0;34m:\u001b[0m\u001b[0;34m\u001b[0m\u001b[0;34m\u001b[0m\u001b[0m\n\u001b[1;32m    248\u001b[0m             \u001b[0mlogging\u001b[0m\u001b[0;34m.\u001b[0m\u001b[0mexception\u001b[0m\u001b[0;34m(\u001b[0m\u001b[0mself\u001b[0m\u001b[0;34m.\u001b[0m\u001b[0mERROR_MSG_DISABLE_SSL\u001b[0m\u001b[0;34m)\u001b[0m\u001b[0;34m\u001b[0m\u001b[0;34m\u001b[0m\u001b[0m\n",
      "\u001b[0;31mApiException\u001b[0m: Error: Resource could not be created because of conflict with existing resource `5ddff093-25fa-44f8-abae-fd29659fd0d0` of type `monitor_instance`, Code: 409 , X-global-transaction-id: NzE3YTdlNDUtMzlmYy00NGUxLWE5YWUtOTZhMmViMmUxYzk0"
     ]
    }
   ],
   "source": [
    "target = ibm_watson_openscale.base_classes.watson_open_scale_v2.Target(\n",
    "            target_type=TargetTypes.SUBSCRIPTION,\n",
    "            target_id=subscription.uid\n",
    "        )\n",
    "parameters =  {\n",
    "            \"min_feedback_data_size\": 200\n",
    "        }\n",
    "thresholds =  [{\n",
    "        \"metric_id\": \"area_under_roc\",\n",
    "        \"type\": \"lower_limit\",\n",
    "        \"value\": 0.75\n",
    "    }]\n",
    "wos_client.monitor_instances.create(\n",
    "        data_mart_id=datamart_id,\n",
    "        background_mode=False,\n",
    "        monitor_definition_id=wos_client.monitor_definitions.MONITORS.QUALITY.ID,\n",
    "        target=target,\n",
    "        parameters=parameters,\n",
    "        thresholds=thresholds\n",
    ")"
   ]
  },
  {
   "cell_type": "code",
   "execution_count": 277,
   "metadata": {},
   "outputs": [],
   "source": [
    "wos_client.data_sets.print_records_schema(data_set_id=payload_data_set_id)"
   ]
  },
  {
   "cell_type": "code",
   "execution_count": 134,
   "metadata": {},
   "outputs": [
    {
     "output_type": "display_data",
     "data": {
      "text/plain": "<IPython.core.display.HTML object>",
      "text/html": "<HTML>\n        <body>\n            <h3>Data Set f4791725-24f8-4a00-9c13-b331ebca47f6 Records</h3>\n            <table style='border: 1px solid #dddddd; font-family: Courier'>\n                <th style='border: 1px solid #dddddd'>WindDir9am_S</th><th style='border: 1px solid #dddddd'>asset_revision</th><th style='border: 1px solid #dddddd'>WindDir9am_ESE</th><th style='border: 1px solid #dddddd'>WindDir3pm_SSE</th><th style='border: 1px solid #dddddd'>WindGustSpeed</th><th style='border: 1px solid #dddddd'>CHOLESTEROL</th><th style='border: 1px solid #dddddd'>Rainfall</th><th style='border: 1px solid #dddddd'>scoring_id</th><th style='border: 1px solid #dddddd'>WindDir3pm_NW</th><th style='border: 1px solid #dddddd'>WindGustDir_NW</th><th style='border: 1px solid #dddddd'>WindGustDir_ESE</th><th style='border: 1px solid #dddddd'>Humidity3pm</th><th style='border: 1px solid #dddddd'>WindDir3pm_NNW</th><th style='border: 1px solid #dddddd'>BP</th><th style='border: 1px solid #dddddd'>scoring_timestamp</th><th style='border: 1px solid #dddddd'>WindGustDir_S</th><th style='border: 1px solid #dddddd'>WindGustDir_SW</th><th style='border: 1px solid #dddddd'>WindGustDir_WNW</th><th style='border: 1px solid #dddddd'>WindGustDir_NNW</th><th style='border: 1px solid #dddddd'>WindDir9am_NNW</th><th style='border: 1px solid #dddddd'>NA</th><th style='border: 1px solid #dddddd'>prediction_probability</th><th style='border: 1px solid #dddddd'>WindGustDir_SSW</th><th style='border: 1px solid #dddddd'>Pressure9am</th><th style='border: 1px solid #dddddd'>WindDir3pm_W</th><th style='border: 1px solid #dddddd'>WindDir9am_N</th><th style='border: 1px solid #dddddd'>WindDir3pm_WNW</th><th style='border: 1px solid #dddddd'>predictedLabel</th><th style='border: 1px solid #dddddd'>WindGustDir_W</th><th style='border: 1px solid #dddddd'>WindDir3pm_ENE</th><th style='border: 1px solid #dddddd'>WindDir3pm_SSW</th><th style='border: 1px solid #dddddd'>WindDir9am_NNE</th><th style='border: 1px solid #dddddd'>prediction</th><th style='border: 1px solid #dddddd'>WindDir9am_SSW</th><th style='border: 1px solid #dddddd'>Humidity9am</th><th style='border: 1px solid #dddddd'>WindDir3pm_N</th><th style='border: 1px solid #dddddd'>WindDir9am_WNW</th><th style='border: 1px solid #dddddd'>AGE</th><th style='border: 1px solid #dddddd'>SEX</th><th style='border: 1px solid #dddddd'>Pressure3pm</th><th style='border: 1px solid #dddddd'>WindGustDir_WSW</th><th style='border: 1px solid #dddddd'>WindDir3pm_ESE</th><th style='border: 1px solid #dddddd'>WindDir3pm_NNE</th><th style='border: 1px solid #dddddd'>WindSpeed9am</th><th style='border: 1px solid #dddddd'>WindDir3pm_S</th><th style='border: 1px solid #dddddd'>RainToday</th><th style='border: 1px solid #dddddd'>Temp3pm</th><th style='border: 1px solid #dddddd'>WindGustDir_N</th><th style='border: 1px solid #dddddd'>WindDir9am_WSW</th><th style='border: 1px solid #dddddd'>WindGustDir_NE</th><th style='border: 1px solid #dddddd'>WindDir3pm_SW</th><th style='border: 1px solid #dddddd'>WindDir9am_SSE</th><th style='border: 1px solid #dddddd'>WindDir3pm_E</th><th style='border: 1px solid #dddddd'>WindGustDir_ENE</th><th style='border: 1px solid #dddddd'>WindDir9am_SW</th><th style='border: 1px solid #dddddd'>WindDir9am_E</th><th style='border: 1px solid #dddddd'>Temp9am</th><th style='border: 1px solid #dddddd'>deployment_id</th><th style='border: 1px solid #dddddd'>WindGustDir_NNE</th><th style='border: 1px solid #dddddd'>MinTemp</th><th style='border: 1px solid #dddddd'>WindDir9am_W</th><th style='border: 1px solid #dddddd'>WindGustDir_SE</th><th style='border: 1px solid #dddddd'>K</th><th style='border: 1px solid #dddddd'>WindDir9am_ENE</th><th style='border: 1px solid #dddddd'>WindDir9am_NW</th><th style='border: 1px solid #dddddd'>WindGustDir_E</th><th style='border: 1px solid #dddddd'>WindDir3pm_NE</th><th style='border: 1px solid #dddddd'>WindSpeed3pm</th><th style='border: 1px solid #dddddd'>WindDir3pm_WSW</th><th style='border: 1px solid #dddddd'>WindDir9am_SE</th><th style='border: 1px solid #dddddd'>MaxTemp</th><th style='border: 1px solid #dddddd'>WindGustDir_SSE</th><th style='border: 1px solid #dddddd'>probability</th><th style='border: 1px solid #dddddd'>WindDir3pm_SE</th><th style='border: 1px solid #dddddd'>WindDir9am_NE</th>\n                <tr><td style='border: 1px solid #dddddd'>0.0</td><td style='border: 1px solid #dddddd'></td><td style='border: 1px solid #dddddd'>0.0</td><td style='border: 1px solid #dddddd'>0.0</td><td style='border: 1px solid #dddddd'>52.0</td><td style='border: 1px solid #dddddd'>None</td><td style='border: 1px solid #dddddd'>0.0</td><td style='border: 1px solid #dddddd'>4a84d1b0d13e795d735345f6cd18a90c-1</td><td style='border: 1px solid #dddddd'>0.0</td><td style='border: 1px solid #dddddd'>0.0</td><td style='border: 1px solid #dddddd'>0.0</td><td style='border: 1px solid #dddddd'>95.0</td><td style='border: 1px solid #dddddd'>0.0</td><td style='border: 1px solid #dddddd'>None</td><td style='border: 1px solid #dddddd'>2021-04-05T15:20:14.621222Z</td><td style='border: 1px solid #dddddd'>0.0</td><td style='border: 1px solid #dddddd'>0.0</td><td style='border: 1px solid #dddddd'>0.0</td><td style='border: 1px solid #dddddd'>0.0</td><td style='border: 1px solid #dddddd'>0.0</td><td style='border: 1px solid #dddddd'>None</td><td style='border: 1px solid #dddddd'>0.6449555088313681</td><td style='border: 1px solid #dddddd'>0.0</td><td style='border: 1px solid #dddddd'>1019.9</td><td style='border: 1px solid #dddddd'>0.0</td><td style='border: 1px solid #dddddd'>0.0</td><td style='border: 1px solid #dddddd'>0.0</td><td style='border: 1px solid #dddddd'>None</td><td style='border: 1px solid #dddddd'>0.0</td><td style='border: 1px solid #dddddd'>0.0</td><td style='border: 1px solid #dddddd'>0.0</td><td style='border: 1px solid #dddddd'>0.0</td><td style='border: 1px solid #dddddd'>0</td><td style='border: 1px solid #dddddd'>0.0</td><td style='border: 1px solid #dddddd'>81.0</td><td style='border: 1px solid #dddddd'>0.0</td><td style='border: 1px solid #dddddd'>0.0</td><td style='border: 1px solid #dddddd'>None</td><td style='border: 1px solid #dddddd'>None</td><td style='border: 1px solid #dddddd'>1014.7</td><td style='border: 1px solid #dddddd'>0.0</td><td style='border: 1px solid #dddddd'>0.0</td><td style='border: 1px solid #dddddd'>1.0</td><td style='border: 1px solid #dddddd'>24.0</td><td style='border: 1px solid #dddddd'>0.0</td><td style='border: 1px solid #dddddd'>1.0</td><td style='border: 1px solid #dddddd'>10.3</td><td style='border: 1px solid #dddddd'>1.0</td><td style='border: 1px solid #dddddd'>0.0</td><td style='border: 1px solid #dddddd'>0.0</td><td style='border: 1px solid #dddddd'>0.0</td><td style='border: 1px solid #dddddd'>0.0</td><td style='border: 1px solid #dddddd'>0.0</td><td style='border: 1px solid #dddddd'>0.0</td><td style='border: 1px solid #dddddd'>0.0</td><td style='border: 1px solid #dddddd'>0.0</td><td style='border: 1px solid #dddddd'>9.2</td><td style='border: 1px solid #dddddd'>e02e481d-4e56-470f-baa9-ae84a583c0a8</td><td style='border: 1px solid #dddddd'>0.0</td><td style='border: 1px solid #dddddd'>2.7</td><td style='border: 1px solid #dddddd'>0.0</td><td style='border: 1px solid #dddddd'>0.0</td><td style='border: 1px solid #dddddd'>None</td><td style='border: 1px solid #dddddd'>0.0</td><td style='border: 1px solid #dddddd'>0.0</td><td style='border: 1px solid #dddddd'>0.0</td><td style='border: 1px solid #dddddd'>0.0</td><td style='border: 1px solid #dddddd'>28.0</td><td style='border: 1px solid #dddddd'>0.0</td><td style='border: 1px solid #dddddd'>0.0</td><td style='border: 1px solid #dddddd'>11.2</td><td style='border: 1px solid #dddddd'>0.0</td><td style='border: 1px solid #dddddd'>[0.6449555088313681, 0.3550444911686318]</td><td style='border: 1px solid #dddddd'>0.0</td><td style='border: 1px solid #dddddd'>1.0</td></tr><tr><td style='border: 1px solid #dddddd'>0.0</td><td style='border: 1px solid #dddddd'></td><td style='border: 1px solid #dddddd'>0.0</td><td style='border: 1px solid #dddddd'>1.0</td><td style='border: 1px solid #dddddd'>61.0</td><td style='border: 1px solid #dddddd'>None</td><td style='border: 1px solid #dddddd'>0.0</td><td style='border: 1px solid #dddddd'>4a84d1b0d13e795d735345f6cd18a90c-10</td><td style='border: 1px solid #dddddd'>0.0</td><td style='border: 1px solid #dddddd'>0.0</td><td style='border: 1px solid #dddddd'>0.0</td><td style='border: 1px solid #dddddd'>56.0</td><td style='border: 1px solid #dddddd'>0.0</td><td style='border: 1px solid #dddddd'>None</td><td style='border: 1px solid #dddddd'>2021-04-05T15:20:14.621222Z</td><td style='border: 1px solid #dddddd'>0.0</td><td style='border: 1px solid #dddddd'>0.0</td><td style='border: 1px solid #dddddd'>0.0</td><td style='border: 1px solid #dddddd'>0.0</td><td style='border: 1px solid #dddddd'>0.0</td><td style='border: 1px solid #dddddd'>None</td><td style='border: 1px solid #dddddd'>0.8391123182628472</td><td style='border: 1px solid #dddddd'>0.0</td><td style='border: 1px solid #dddddd'>1013.6</td><td style='border: 1px solid #dddddd'>0.0</td><td style='border: 1px solid #dddddd'>0.0</td><td style='border: 1px solid #dddddd'>0.0</td><td style='border: 1px solid #dddddd'>None</td><td style='border: 1px solid #dddddd'>0.0</td><td style='border: 1px solid #dddddd'>0.0</td><td style='border: 1px solid #dddddd'>0.0</td><td style='border: 1px solid #dddddd'>0.0</td><td style='border: 1px solid #dddddd'>1</td><td style='border: 1px solid #dddddd'>0.0</td><td style='border: 1px solid #dddddd'>61.0</td><td style='border: 1px solid #dddddd'>0.0</td><td style='border: 1px solid #dddddd'>0.0</td><td style='border: 1px solid #dddddd'>None</td><td style='border: 1px solid #dddddd'>None</td><td style='border: 1px solid #dddddd'>1014.1</td><td style='border: 1px solid #dddddd'>0.0</td><td style='border: 1px solid #dddddd'>0.0</td><td style='border: 1px solid #dddddd'>0.0</td><td style='border: 1px solid #dddddd'>28.0</td><td style='border: 1px solid #dddddd'>0.0</td><td style='border: 1px solid #dddddd'>1.0</td><td style='border: 1px solid #dddddd'>23.5</td><td style='border: 1px solid #dddddd'>0.0</td><td style='border: 1px solid #dddddd'>0.0</td><td style='border: 1px solid #dddddd'>0.0</td><td style='border: 1px solid #dddddd'>0.0</td><td style='border: 1px solid #dddddd'>1.0</td><td style='border: 1px solid #dddddd'>0.0</td><td style='border: 1px solid #dddddd'>0.0</td><td style='border: 1px solid #dddddd'>0.0</td><td style='border: 1px solid #dddddd'>0.0</td><td style='border: 1px solid #dddddd'>21.6</td><td style='border: 1px solid #dddddd'>e02e481d-4e56-470f-baa9-ae84a583c0a8</td><td style='border: 1px solid #dddddd'>0.0</td><td style='border: 1px solid #dddddd'>16.8</td><td style='border: 1px solid #dddddd'>0.0</td><td style='border: 1px solid #dddddd'>0.0</td><td style='border: 1px solid #dddddd'>None</td><td style='border: 1px solid #dddddd'>0.0</td><td style='border: 1px solid #dddddd'>0.0</td><td style='border: 1px solid #dddddd'>0.0</td><td style='border: 1px solid #dddddd'>0.0</td><td style='border: 1px solid #dddddd'>39.0</td><td style='border: 1px solid #dddddd'>0.0</td><td style='border: 1px solid #dddddd'>0.0</td><td style='border: 1px solid #dddddd'>24.6</td><td style='border: 1px solid #dddddd'>1.0</td><td style='border: 1px solid #dddddd'>[0.1608876817371521, 0.8391123182628472]</td><td style='border: 1px solid #dddddd'>0.0</td><td style='border: 1px solid #dddddd'>0.0</td></tr><tr><td style='border: 1px solid #dddddd'>0.0</td><td style='border: 1px solid #dddddd'></td><td style='border: 1px solid #dddddd'>0.0</td><td style='border: 1px solid #dddddd'>0.0</td><td style='border: 1px solid #dddddd'>41.0</td><td style='border: 1px solid #dddddd'>None</td><td style='border: 1px solid #dddddd'>0.0</td><td style='border: 1px solid #dddddd'>4a84d1b0d13e795d735345f6cd18a90c-100</td><td style='border: 1px solid #dddddd'>0.0</td><td style='border: 1px solid #dddddd'>0.0</td><td style='border: 1px solid #dddddd'>0.0</td><td style='border: 1px solid #dddddd'>66.0</td><td style='border: 1px solid #dddddd'>0.0</td><td style='border: 1px solid #dddddd'>None</td><td style='border: 1px solid #dddddd'>2021-04-05T15:20:14.621222Z</td><td style='border: 1px solid #dddddd'>0.0</td><td style='border: 1px solid #dddddd'>0.0</td><td style='border: 1px solid #dddddd'>0.0</td><td style='border: 1px solid #dddddd'>0.0</td><td style='border: 1px solid #dddddd'>0.0</td><td style='border: 1px solid #dddddd'>None</td><td style='border: 1px solid #dddddd'>0.8846832430208341</td><td style='border: 1px solid #dddddd'>0.0</td><td style='border: 1px solid #dddddd'>1020.0</td><td style='border: 1px solid #dddddd'>0.0</td><td style='border: 1px solid #dddddd'>0.0</td><td style='border: 1px solid #dddddd'>0.0</td><td style='border: 1px solid #dddddd'>None</td><td style='border: 1px solid #dddddd'>0.0</td><td style='border: 1px solid #dddddd'>0.0</td><td style='border: 1px solid #dddddd'>0.0</td><td style='border: 1px solid #dddddd'>0.0</td><td style='border: 1px solid #dddddd'>1</td><td style='border: 1px solid #dddddd'>0.0</td><td style='border: 1px solid #dddddd'>55.0</td><td style='border: 1px solid #dddddd'>0.0</td><td style='border: 1px solid #dddddd'>0.0</td><td style='border: 1px solid #dddddd'>None</td><td style='border: 1px solid #dddddd'>None</td><td style='border: 1px solid #dddddd'>1017.3</td><td style='border: 1px solid #dddddd'>0.0</td><td style='border: 1px solid #dddddd'>0.0</td><td style='border: 1px solid #dddddd'>1.0</td><td style='border: 1px solid #dddddd'>19.0</td><td style='border: 1px solid #dddddd'>0.0</td><td style='border: 1px solid #dddddd'>1.0</td><td style='border: 1px solid #dddddd'>22.3</td><td style='border: 1px solid #dddddd'>0.0</td><td style='border: 1px solid #dddddd'>0.0</td><td style='border: 1px solid #dddddd'>0.0</td><td style='border: 1px solid #dddddd'>0.0</td><td style='border: 1px solid #dddddd'>0.0</td><td style='border: 1px solid #dddddd'>0.0</td><td style='border: 1px solid #dddddd'>0.0</td><td style='border: 1px solid #dddddd'>0.0</td><td style='border: 1px solid #dddddd'>0.0</td><td style='border: 1px solid #dddddd'>21.7</td><td style='border: 1px solid #dddddd'>e02e481d-4e56-470f-baa9-ae84a583c0a8</td><td style='border: 1px solid #dddddd'>1.0</td><td style='border: 1px solid #dddddd'>14.2</td><td style='border: 1px solid #dddddd'>0.0</td><td style='border: 1px solid #dddddd'>0.0</td><td style='border: 1px solid #dddddd'>None</td><td style='border: 1px solid #dddddd'>0.0</td><td style='border: 1px solid #dddddd'>1.0</td><td style='border: 1px solid #dddddd'>0.0</td><td style='border: 1px solid #dddddd'>0.0</td><td style='border: 1px solid #dddddd'>31.0</td><td style='border: 1px solid #dddddd'>0.0</td><td style='border: 1px solid #dddddd'>0.0</td><td style='border: 1px solid #dddddd'>24.2</td><td style='border: 1px solid #dddddd'>0.0</td><td style='border: 1px solid #dddddd'>[0.11531675697916585, 0.8846832430208341]</td><td style='border: 1px solid #dddddd'>0.0</td><td style='border: 1px solid #dddddd'>0.0</td></tr><tr><td style='border: 1px solid #dddddd'>0.0</td><td style='border: 1px solid #dddddd'></td><td style='border: 1px solid #dddddd'>0.0</td><td style='border: 1px solid #dddddd'>0.0</td><td style='border: 1px solid #dddddd'>46.0</td><td style='border: 1px solid #dddddd'>None</td><td style='border: 1px solid #dddddd'>0.0</td><td style='border: 1px solid #dddddd'>4a84d1b0d13e795d735345f6cd18a90c-101</td><td style='border: 1px solid #dddddd'>0.0</td><td style='border: 1px solid #dddddd'>0.0</td><td style='border: 1px solid #dddddd'>0.0</td><td style='border: 1px solid #dddddd'>60.0</td><td style='border: 1px solid #dddddd'>0.0</td><td style='border: 1px solid #dddddd'>None</td><td style='border: 1px solid #dddddd'>2021-04-05T15:20:14.621222Z</td><td style='border: 1px solid #dddddd'>1.0</td><td style='border: 1px solid #dddddd'>0.0</td><td style='border: 1px solid #dddddd'>0.0</td><td style='border: 1px solid #dddddd'>0.0</td><td style='border: 1px solid #dddddd'>0.0</td><td style='border: 1px solid #dddddd'>None</td><td style='border: 1px solid #dddddd'>0.8809851924975399</td><td style='border: 1px solid #dddddd'>0.0</td><td style='border: 1px solid #dddddd'>1014.9</td><td style='border: 1px solid #dddddd'>0.0</td><td style='border: 1px solid #dddddd'>0.0</td><td style='border: 1px solid #dddddd'>0.0</td><td style='border: 1px solid #dddddd'>None</td><td style='border: 1px solid #dddddd'>0.0</td><td style='border: 1px solid #dddddd'>0.0</td><td style='border: 1px solid #dddddd'>0.0</td><td style='border: 1px solid #dddddd'>0.0</td><td style='border: 1px solid #dddddd'>1</td><td style='border: 1px solid #dddddd'>0.0</td><td style='border: 1px solid #dddddd'>32.0</td><td style='border: 1px solid #dddddd'>0.0</td><td style='border: 1px solid #dddddd'>1.0</td><td style='border: 1px solid #dddddd'>None</td><td style='border: 1px solid #dddddd'>None</td><td style='border: 1px solid #dddddd'>1016.4</td><td style='border: 1px solid #dddddd'>0.0</td><td style='border: 1px solid #dddddd'>0.0</td><td style='border: 1px solid #dddddd'>0.0</td><td style='border: 1px solid #dddddd'>22.0</td><td style='border: 1px solid #dddddd'>0.0</td><td style='border: 1px solid #dddddd'>1.0</td><td style='border: 1px solid #dddddd'>19.8</td><td style='border: 1px solid #dddddd'>0.0</td><td style='border: 1px solid #dddddd'>0.0</td><td style='border: 1px solid #dddddd'>0.0</td><td style='border: 1px solid #dddddd'>0.0</td><td style='border: 1px solid #dddddd'>0.0</td><td style='border: 1px solid #dddddd'>0.0</td><td style='border: 1px solid #dddddd'>0.0</td><td style='border: 1px solid #dddddd'>0.0</td><td style='border: 1px solid #dddddd'>0.0</td><td style='border: 1px solid #dddddd'>24.9</td><td style='border: 1px solid #dddddd'>e02e481d-4e56-470f-baa9-ae84a583c0a8</td><td style='border: 1px solid #dddddd'>0.0</td><td style='border: 1px solid #dddddd'>12.4</td><td style='border: 1px solid #dddddd'>0.0</td><td style='border: 1px solid #dddddd'>0.0</td><td style='border: 1px solid #dddddd'>None</td><td style='border: 1px solid #dddddd'>0.0</td><td style='border: 1px solid #dddddd'>0.0</td><td style='border: 1px solid #dddddd'>0.0</td><td style='border: 1px solid #dddddd'>0.0</td><td style='border: 1px solid #dddddd'>28.0</td><td style='border: 1px solid #dddddd'>0.0</td><td style='border: 1px solid #dddddd'>0.0</td><td style='border: 1px solid #dddddd'>27.0</td><td style='border: 1px solid #dddddd'>0.0</td><td style='border: 1px solid #dddddd'>[0.11901480750246042, 0.8809851924975399]</td><td style='border: 1px solid #dddddd'>1.0</td><td style='border: 1px solid #dddddd'>0.0</td></tr><tr><td style='border: 1px solid #dddddd'>0.0</td><td style='border: 1px solid #dddddd'></td><td style='border: 1px solid #dddddd'>0.0</td><td style='border: 1px solid #dddddd'>0.0</td><td style='border: 1px solid #dddddd'>33.0</td><td style='border: 1px solid #dddddd'>None</td><td style='border: 1px solid #dddddd'>0.6</td><td style='border: 1px solid #dddddd'>4a84d1b0d13e795d735345f6cd18a90c-102</td><td style='border: 1px solid #dddddd'>0.0</td><td style='border: 1px solid #dddddd'>0.0</td><td style='border: 1px solid #dddddd'>0.0</td><td style='border: 1px solid #dddddd'>30.0</td><td style='border: 1px solid #dddddd'>0.0</td><td style='border: 1px solid #dddddd'>None</td><td style='border: 1px solid #dddddd'>2021-04-05T15:20:14.621222Z</td><td style='border: 1px solid #dddddd'>0.0</td><td style='border: 1px solid #dddddd'>0.0</td><td style='border: 1px solid #dddddd'>0.0</td><td style='border: 1px solid #dddddd'>0.0</td><td style='border: 1px solid #dddddd'>0.0</td><td style='border: 1px solid #dddddd'>None</td><td style='border: 1px solid #dddddd'>0.8491193551880492</td><td style='border: 1px solid #dddddd'>0.0</td><td style='border: 1px solid #dddddd'>1016.2</td><td style='border: 1px solid #dddddd'>0.0</td><td style='border: 1px solid #dddddd'>0.0</td><td style='border: 1px solid #dddddd'>0.0</td><td style='border: 1px solid #dddddd'>None</td><td style='border: 1px solid #dddddd'>0.0</td><td style='border: 1px solid #dddddd'>0.0</td><td style='border: 1px solid #dddddd'>0.0</td><td style='border: 1px solid #dddddd'>1.0</td><td style='border: 1px solid #dddddd'>1</td><td style='border: 1px solid #dddddd'>0.0</td><td style='border: 1px solid #dddddd'>63.0</td><td style='border: 1px solid #dddddd'>0.0</td><td style='border: 1px solid #dddddd'>0.0</td><td style='border: 1px solid #dddddd'>None</td><td style='border: 1px solid #dddddd'>None</td><td style='border: 1px solid #dddddd'>1012.4</td><td style='border: 1px solid #dddddd'>0.0</td><td style='border: 1px solid #dddddd'>0.0</td><td style='border: 1px solid #dddddd'>1.0</td><td style='border: 1px solid #dddddd'>20.0</td><td style='border: 1px solid #dddddd'>0.0</td><td style='border: 1px solid #dddddd'>1.0</td><td style='border: 1px solid #dddddd'>31.3</td><td style='border: 1px solid #dddddd'>1.0</td><td style='border: 1px solid #dddddd'>0.0</td><td style='border: 1px solid #dddddd'>0.0</td><td style='border: 1px solid #dddddd'>0.0</td><td style='border: 1px solid #dddddd'>0.0</td><td style='border: 1px solid #dddddd'>0.0</td><td style='border: 1px solid #dddddd'>0.0</td><td style='border: 1px solid #dddddd'>0.0</td><td style='border: 1px solid #dddddd'>0.0</td><td style='border: 1px solid #dddddd'>22.0</td><td style='border: 1px solid #dddddd'>e02e481d-4e56-470f-baa9-ae84a583c0a8</td><td style='border: 1px solid #dddddd'>0.0</td><td style='border: 1px solid #dddddd'>18.3</td><td style='border: 1px solid #dddddd'>0.0</td><td style='border: 1px solid #dddddd'>0.0</td><td style='border: 1px solid #dddddd'>None</td><td style='border: 1px solid #dddddd'>0.0</td><td style='border: 1px solid #dddddd'>0.0</td><td style='border: 1px solid #dddddd'>0.0</td><td style='border: 1px solid #dddddd'>0.0</td><td style='border: 1px solid #dddddd'>17.0</td><td style='border: 1px solid #dddddd'>0.0</td><td style='border: 1px solid #dddddd'>0.0</td><td style='border: 1px solid #dddddd'>32.9</td><td style='border: 1px solid #dddddd'>0.0</td><td style='border: 1px solid #dddddd'>[0.15088064481195082, 0.8491193551880492]</td><td style='border: 1px solid #dddddd'>0.0</td><td style='border: 1px solid #dddddd'>0.0</td></tr><tr><td style='border: 1px solid #dddddd'>0.0</td><td style='border: 1px solid #dddddd'></td><td style='border: 1px solid #dddddd'>0.0</td><td style='border: 1px solid #dddddd'>0.0</td><td style='border: 1px solid #dddddd'>33.0</td><td style='border: 1px solid #dddddd'>None</td><td style='border: 1px solid #dddddd'>0.0</td><td style='border: 1px solid #dddddd'>4a84d1b0d13e795d735345f6cd18a90c-103</td><td style='border: 1px solid #dddddd'>0.0</td><td style='border: 1px solid #dddddd'>0.0</td><td style='border: 1px solid #dddddd'>0.0</td><td style='border: 1px solid #dddddd'>49.0</td><td style='border: 1px solid #dddddd'>0.0</td><td style='border: 1px solid #dddddd'>None</td><td style='border: 1px solid #dddddd'>2021-04-05T15:20:14.621222Z</td><td style='border: 1px solid #dddddd'>0.0</td><td style='border: 1px solid #dddddd'>0.0</td><td style='border: 1px solid #dddddd'>0.0</td><td style='border: 1px solid #dddddd'>0.0</td><td style='border: 1px solid #dddddd'>0.0</td><td style='border: 1px solid #dddddd'>None</td><td style='border: 1px solid #dddddd'>0.8543884658319435</td><td style='border: 1px solid #dddddd'>0.0</td><td style='border: 1px solid #dddddd'>1004.4</td><td style='border: 1px solid #dddddd'>0.0</td><td style='border: 1px solid #dddddd'>0.0</td><td style='border: 1px solid #dddddd'>0.0</td><td style='border: 1px solid #dddddd'>None</td><td style='border: 1px solid #dddddd'>0.0</td><td style='border: 1px solid #dddddd'>1.0</td><td style='border: 1px solid #dddddd'>0.0</td><td style='border: 1px solid #dddddd'>0.0</td><td style='border: 1px solid #dddddd'>1</td><td style='border: 1px solid #dddddd'>0.0</td><td style='border: 1px solid #dddddd'>58.0</td><td style='border: 1px solid #dddddd'>0.0</td><td style='border: 1px solid #dddddd'>0.0</td><td style='border: 1px solid #dddddd'>None</td><td style='border: 1px solid #dddddd'>None</td><td style='border: 1px solid #dddddd'>1002.2</td><td style='border: 1px solid #dddddd'>0.0</td><td style='border: 1px solid #dddddd'>0.0</td><td style='border: 1px solid #dddddd'>0.0</td><td style='border: 1px solid #dddddd'>7.0</td><td style='border: 1px solid #dddddd'>0.0</td><td style='border: 1px solid #dddddd'>1.0</td><td style='border: 1px solid #dddddd'>35.4</td><td style='border: 1px solid #dddddd'>0.0</td><td style='border: 1px solid #dddddd'>1.0</td><td style='border: 1px solid #dddddd'>0.0</td><td style='border: 1px solid #dddddd'>0.0</td><td style='border: 1px solid #dddddd'>0.0</td><td style='border: 1px solid #dddddd'>0.0</td><td style='border: 1px solid #dddddd'>1.0</td><td style='border: 1px solid #dddddd'>0.0</td><td style='border: 1px solid #dddddd'>0.0</td><td style='border: 1px solid #dddddd'>32.6</td><td style='border: 1px solid #dddddd'>e02e481d-4e56-470f-baa9-ae84a583c0a8</td><td style='border: 1px solid #dddddd'>0.0</td><td style='border: 1px solid #dddddd'>27.3</td><td style='border: 1px solid #dddddd'>0.0</td><td style='border: 1px solid #dddddd'>0.0</td><td style='border: 1px solid #dddddd'>None</td><td style='border: 1px solid #dddddd'>0.0</td><td style='border: 1px solid #dddddd'>0.0</td><td style='border: 1px solid #dddddd'>0.0</td><td style='border: 1px solid #dddddd'>0.0</td><td style='border: 1px solid #dddddd'>15.0</td><td style='border: 1px solid #dddddd'>0.0</td><td style='border: 1px solid #dddddd'>0.0</td><td style='border: 1px solid #dddddd'>37.1</td><td style='border: 1px solid #dddddd'>0.0</td><td style='border: 1px solid #dddddd'>[0.14561153416805678, 0.8543884658319435]</td><td style='border: 1px solid #dddddd'>0.0</td><td style='border: 1px solid #dddddd'>0.0</td></tr><tr><td style='border: 1px solid #dddddd'>1.0</td><td style='border: 1px solid #dddddd'></td><td style='border: 1px solid #dddddd'>0.0</td><td style='border: 1px solid #dddddd'>0.0</td><td style='border: 1px solid #dddddd'>35.0</td><td style='border: 1px solid #dddddd'>None</td><td style='border: 1px solid #dddddd'>0.0</td><td style='border: 1px solid #dddddd'>4a84d1b0d13e795d735345f6cd18a90c-104</td><td style='border: 1px solid #dddddd'>0.0</td><td style='border: 1px solid #dddddd'>0.0</td><td style='border: 1px solid #dddddd'>0.0</td><td style='border: 1px solid #dddddd'>44.0</td><td style='border: 1px solid #dddddd'>0.0</td><td style='border: 1px solid #dddddd'>None</td><td style='border: 1px solid #dddddd'>2021-04-05T15:20:14.621222Z</td><td style='border: 1px solid #dddddd'>0.0</td><td style='border: 1px solid #dddddd'>0.0</td><td style='border: 1px solid #dddddd'>0.0</td><td style='border: 1px solid #dddddd'>0.0</td><td style='border: 1px solid #dddddd'>0.0</td><td style='border: 1px solid #dddddd'>None</td><td style='border: 1px solid #dddddd'>0.9484440672707255</td><td style='border: 1px solid #dddddd'>0.0</td><td style='border: 1px solid #dddddd'>1019.8</td><td style='border: 1px solid #dddddd'>0.0</td><td style='border: 1px solid #dddddd'>0.0</td><td style='border: 1px solid #dddddd'>0.0</td><td style='border: 1px solid #dddddd'>None</td><td style='border: 1px solid #dddddd'>0.0</td><td style='border: 1px solid #dddddd'>0.0</td><td style='border: 1px solid #dddddd'>0.0</td><td style='border: 1px solid #dddddd'>0.0</td><td style='border: 1px solid #dddddd'>1</td><td style='border: 1px solid #dddddd'>0.0</td><td style='border: 1px solid #dddddd'>42.0</td><td style='border: 1px solid #dddddd'>0.0</td><td style='border: 1px solid #dddddd'>0.0</td><td style='border: 1px solid #dddddd'>None</td><td style='border: 1px solid #dddddd'>None</td><td style='border: 1px solid #dddddd'>1016.0</td><td style='border: 1px solid #dddddd'>0.0</td><td style='border: 1px solid #dddddd'>0.0</td><td style='border: 1px solid #dddddd'>0.0</td><td style='border: 1px solid #dddddd'>15.0</td><td style='border: 1px solid #dddddd'>0.0</td><td style='border: 1px solid #dddddd'>1.0</td><td style='border: 1px solid #dddddd'>27.9</td><td style='border: 1px solid #dddddd'>0.0</td><td style='border: 1px solid #dddddd'>0.0</td><td style='border: 1px solid #dddddd'>0.0</td><td style='border: 1px solid #dddddd'>0.0</td><td style='border: 1px solid #dddddd'>0.0</td><td style='border: 1px solid #dddddd'>0.0</td><td style='border: 1px solid #dddddd'>1.0</td><td style='border: 1px solid #dddddd'>0.0</td><td style='border: 1px solid #dddddd'>0.0</td><td style='border: 1px solid #dddddd'>24.5</td><td style='border: 1px solid #dddddd'>e02e481d-4e56-470f-baa9-ae84a583c0a8</td><td style='border: 1px solid #dddddd'>0.0</td><td style='border: 1px solid #dddddd'>15.4</td><td style='border: 1px solid #dddddd'>0.0</td><td style='border: 1px solid #dddddd'>0.0</td><td style='border: 1px solid #dddddd'>None</td><td style='border: 1px solid #dddddd'>0.0</td><td style='border: 1px solid #dddddd'>0.0</td><td style='border: 1px solid #dddddd'>0.0</td><td style='border: 1px solid #dddddd'>1.0</td><td style='border: 1px solid #dddddd'>26.0</td><td style='border: 1px solid #dddddd'>0.0</td><td style='border: 1px solid #dddddd'>0.0</td><td style='border: 1px solid #dddddd'>29.8</td><td style='border: 1px solid #dddddd'>0.0</td><td style='border: 1px solid #dddddd'>[0.05155593272927421, 0.9484440672707255]</td><td style='border: 1px solid #dddddd'>0.0</td><td style='border: 1px solid #dddddd'>0.0</td></tr><tr><td style='border: 1px solid #dddddd'>0.0</td><td style='border: 1px solid #dddddd'></td><td style='border: 1px solid #dddddd'>0.0</td><td style='border: 1px solid #dddddd'>0.0</td><td style='border: 1px solid #dddddd'>28.0</td><td style='border: 1px solid #dddddd'>None</td><td style='border: 1px solid #dddddd'>0.0</td><td style='border: 1px solid #dddddd'>4a84d1b0d13e795d735345f6cd18a90c-105</td><td style='border: 1px solid #dddddd'>0.0</td><td style='border: 1px solid #dddddd'>0.0</td><td style='border: 1px solid #dddddd'>0.0</td><td style='border: 1px solid #dddddd'>34.0</td><td style='border: 1px solid #dddddd'>0.0</td><td style='border: 1px solid #dddddd'>None</td><td style='border: 1px solid #dddddd'>2021-04-05T15:20:14.621222Z</td><td style='border: 1px solid #dddddd'>1.0</td><td style='border: 1px solid #dddddd'>0.0</td><td style='border: 1px solid #dddddd'>0.0</td><td style='border: 1px solid #dddddd'>0.0</td><td style='border: 1px solid #dddddd'>0.0</td><td style='border: 1px solid #dddddd'>None</td><td style='border: 1px solid #dddddd'>0.926856429086007</td><td style='border: 1px solid #dddddd'>0.0</td><td style='border: 1px solid #dddddd'>1019.2</td><td style='border: 1px solid #dddddd'>0.0</td><td style='border: 1px solid #dddddd'>0.0</td><td style='border: 1px solid #dddddd'>0.0</td><td style='border: 1px solid #dddddd'>None</td><td style='border: 1px solid #dddddd'>0.0</td><td style='border: 1px solid #dddddd'>0.0</td><td style='border: 1px solid #dddddd'>1.0</td><td style='border: 1px solid #dddddd'>0.0</td><td style='border: 1px solid #dddddd'>1</td><td style='border: 1px solid #dddddd'>0.0</td><td style='border: 1px solid #dddddd'>75.0</td><td style='border: 1px solid #dddddd'>0.0</td><td style='border: 1px solid #dddddd'>0.0</td><td style='border: 1px solid #dddddd'>None</td><td style='border: 1px solid #dddddd'>None</td><td style='border: 1px solid #dddddd'>1015.5</td><td style='border: 1px solid #dddddd'>0.0</td><td style='border: 1px solid #dddddd'>0.0</td><td style='border: 1px solid #dddddd'>0.0</td><td style='border: 1px solid #dddddd'>13.0</td><td style='border: 1px solid #dddddd'>0.0</td><td style='border: 1px solid #dddddd'>1.0</td><td style='border: 1px solid #dddddd'>25.8</td><td style='border: 1px solid #dddddd'>0.0</td><td style='border: 1px solid #dddddd'>0.0</td><td style='border: 1px solid #dddddd'>0.0</td><td style='border: 1px solid #dddddd'>0.0</td><td style='border: 1px solid #dddddd'>1.0</td><td style='border: 1px solid #dddddd'>0.0</td><td style='border: 1px solid #dddddd'>0.0</td><td style='border: 1px solid #dddddd'>0.0</td><td style='border: 1px solid #dddddd'>0.0</td><td style='border: 1px solid #dddddd'>15.5</td><td style='border: 1px solid #dddddd'>e02e481d-4e56-470f-baa9-ae84a583c0a8</td><td style='border: 1px solid #dddddd'>0.0</td><td style='border: 1px solid #dddddd'>11.7</td><td style='border: 1px solid #dddddd'>0.0</td><td style='border: 1px solid #dddddd'>0.0</td><td style='border: 1px solid #dddddd'>None</td><td style='border: 1px solid #dddddd'>0.0</td><td style='border: 1px solid #dddddd'>0.0</td><td style='border: 1px solid #dddddd'>0.0</td><td style='border: 1px solid #dddddd'>0.0</td><td style='border: 1px solid #dddddd'>13.0</td><td style='border: 1px solid #dddddd'>0.0</td><td style='border: 1px solid #dddddd'>0.0</td><td style='border: 1px solid #dddddd'>27.1</td><td style='border: 1px solid #dddddd'>0.0</td><td style='border: 1px solid #dddddd'>[0.07314357091399265, 0.926856429086007]</td><td style='border: 1px solid #dddddd'>0.0</td><td style='border: 1px solid #dddddd'>0.0</td></tr><tr><td style='border: 1px solid #dddddd'>0.0</td><td style='border: 1px solid #dddddd'></td><td style='border: 1px solid #dddddd'>0.0</td><td style='border: 1px solid #dddddd'>1.0</td><td style='border: 1px solid #dddddd'>17.0</td><td style='border: 1px solid #dddddd'>None</td><td style='border: 1px solid #dddddd'>0.0</td><td style='border: 1px solid #dddddd'>4a84d1b0d13e795d735345f6cd18a90c-106</td><td style='border: 1px solid #dddddd'>0.0</td><td style='border: 1px solid #dddddd'>0.0</td><td style='border: 1px solid #dddddd'>0.0</td><td style='border: 1px solid #dddddd'>51.0</td><td style='border: 1px solid #dddddd'>0.0</td><td style='border: 1px solid #dddddd'>None</td><td style='border: 1px solid #dddddd'>2021-04-05T15:20:14.621222Z</td><td style='border: 1px solid #dddddd'>0.0</td><td style='border: 1px solid #dddddd'>0.0</td><td style='border: 1px solid #dddddd'>0.0</td><td style='border: 1px solid #dddddd'>0.0</td><td style='border: 1px solid #dddddd'>0.0</td><td style='border: 1px solid #dddddd'>None</td><td style='border: 1px solid #dddddd'>0.9265235513246206</td><td style='border: 1px solid #dddddd'>0.0</td><td style='border: 1px solid #dddddd'>1026.0</td><td style='border: 1px solid #dddddd'>0.0</td><td style='border: 1px solid #dddddd'>1.0</td><td style='border: 1px solid #dddddd'>0.0</td><td style='border: 1px solid #dddddd'>None</td><td style='border: 1px solid #dddddd'>1.0</td><td style='border: 1px solid #dddddd'>0.0</td><td style='border: 1px solid #dddddd'>0.0</td><td style='border: 1px solid #dddddd'>0.0</td><td style='border: 1px solid #dddddd'>1</td><td style='border: 1px solid #dddddd'>0.0</td><td style='border: 1px solid #dddddd'>71.0</td><td style='border: 1px solid #dddddd'>0.0</td><td style='border: 1px solid #dddddd'>0.0</td><td style='border: 1px solid #dddddd'>None</td><td style='border: 1px solid #dddddd'>None</td><td style='border: 1px solid #dddddd'>1023.1</td><td style='border: 1px solid #dddddd'>0.0</td><td style='border: 1px solid #dddddd'>0.0</td><td style='border: 1px solid #dddddd'>0.0</td><td style='border: 1px solid #dddddd'>6.0</td><td style='border: 1px solid #dddddd'>0.0</td><td style='border: 1px solid #dddddd'>1.0</td><td style='border: 1px solid #dddddd'>22.1</td><td style='border: 1px solid #dddddd'>0.0</td><td style='border: 1px solid #dddddd'>0.0</td><td style='border: 1px solid #dddddd'>0.0</td><td style='border: 1px solid #dddddd'>0.0</td><td style='border: 1px solid #dddddd'>0.0</td><td style='border: 1px solid #dddddd'>0.0</td><td style='border: 1px solid #dddddd'>0.0</td><td style='border: 1px solid #dddddd'>0.0</td><td style='border: 1px solid #dddddd'>0.0</td><td style='border: 1px solid #dddddd'>16.2</td><td style='border: 1px solid #dddddd'>e02e481d-4e56-470f-baa9-ae84a583c0a8</td><td style='border: 1px solid #dddddd'>0.0</td><td style='border: 1px solid #dddddd'>9.6</td><td style='border: 1px solid #dddddd'>0.0</td><td style='border: 1px solid #dddddd'>0.0</td><td style='border: 1px solid #dddddd'>None</td><td style='border: 1px solid #dddddd'>0.0</td><td style='border: 1px solid #dddddd'>0.0</td><td style='border: 1px solid #dddddd'>0.0</td><td style='border: 1px solid #dddddd'>0.0</td><td style='border: 1px solid #dddddd'>4.0</td><td style='border: 1px solid #dddddd'>0.0</td><td style='border: 1px solid #dddddd'>0.0</td><td style='border: 1px solid #dddddd'>22.7</td><td style='border: 1px solid #dddddd'>0.0</td><td style='border: 1px solid #dddddd'>[0.07347644867537932, 0.9265235513246206]</td><td style='border: 1px solid #dddddd'>0.0</td><td style='border: 1px solid #dddddd'>0.0</td></tr><tr><td style='border: 1px solid #dddddd'>0.0</td><td style='border: 1px solid #dddddd'></td><td style='border: 1px solid #dddddd'>0.0</td><td style='border: 1px solid #dddddd'>1.0</td><td style='border: 1px solid #dddddd'>39.0</td><td style='border: 1px solid #dddddd'>None</td><td style='border: 1px solid #dddddd'>0.0</td><td style='border: 1px solid #dddddd'>4a84d1b0d13e795d735345f6cd18a90c-107</td><td style='border: 1px solid #dddddd'>0.0</td><td style='border: 1px solid #dddddd'>0.0</td><td style='border: 1px solid #dddddd'>0.0</td><td style='border: 1px solid #dddddd'>57.0</td><td style='border: 1px solid #dddddd'>0.0</td><td style='border: 1px solid #dddddd'>None</td><td style='border: 1px solid #dddddd'>2021-04-05T15:20:14.621222Z</td><td style='border: 1px solid #dddddd'>0.0</td><td style='border: 1px solid #dddddd'>0.0</td><td style='border: 1px solid #dddddd'>0.0</td><td style='border: 1px solid #dddddd'>0.0</td><td style='border: 1px solid #dddddd'>0.0</td><td style='border: 1px solid #dddddd'>None</td><td style='border: 1px solid #dddddd'>0.8907020407427353</td><td style='border: 1px solid #dddddd'>0.0</td><td style='border: 1px solid #dddddd'>1016.5</td><td style='border: 1px solid #dddddd'>0.0</td><td style='border: 1px solid #dddddd'>0.0</td><td style='border: 1px solid #dddddd'>0.0</td><td style='border: 1px solid #dddddd'>None</td><td style='border: 1px solid #dddddd'>0.0</td><td style='border: 1px solid #dddddd'>0.0</td><td style='border: 1px solid #dddddd'>0.0</td><td style='border: 1px solid #dddddd'>0.0</td><td style='border: 1px solid #dddddd'>1</td><td style='border: 1px solid #dddddd'>0.0</td><td style='border: 1px solid #dddddd'>71.0</td><td style='border: 1px solid #dddddd'>0.0</td><td style='border: 1px solid #dddddd'>0.0</td><td style='border: 1px solid #dddddd'>None</td><td style='border: 1px solid #dddddd'>None</td><td style='border: 1px solid #dddddd'>1013.6</td><td style='border: 1px solid #dddddd'>0.0</td><td style='border: 1px solid #dddddd'>0.0</td><td style='border: 1px solid #dddddd'>0.0</td><td style='border: 1px solid #dddddd'>19.0</td><td style='border: 1px solid #dddddd'>0.0</td><td style='border: 1px solid #dddddd'>1.0</td><td style='border: 1px solid #dddddd'>25.3</td><td style='border: 1px solid #dddddd'>0.0</td><td style='border: 1px solid #dddddd'>0.0</td><td style='border: 1px solid #dddddd'>0.0</td><td style='border: 1px solid #dddddd'>0.0</td><td style='border: 1px solid #dddddd'>0.0</td><td style='border: 1px solid #dddddd'>0.0</td><td style='border: 1px solid #dddddd'>0.0</td><td style='border: 1px solid #dddddd'>0.0</td><td style='border: 1px solid #dddddd'>0.0</td><td style='border: 1px solid #dddddd'>20.0</td><td style='border: 1px solid #dddddd'>e02e481d-4e56-470f-baa9-ae84a583c0a8</td><td style='border: 1px solid #dddddd'>0.0</td><td style='border: 1px solid #dddddd'>15.5</td><td style='border: 1px solid #dddddd'>0.0</td><td style='border: 1px solid #dddddd'>1.0</td><td style='border: 1px solid #dddddd'>None</td><td style='border: 1px solid #dddddd'>0.0</td><td style='border: 1px solid #dddddd'>0.0</td><td style='border: 1px solid #dddddd'>0.0</td><td style='border: 1px solid #dddddd'>0.0</td><td style='border: 1px solid #dddddd'>26.0</td><td style='border: 1px solid #dddddd'>0.0</td><td style='border: 1px solid #dddddd'>1.0</td><td style='border: 1px solid #dddddd'>27.5</td><td style='border: 1px solid #dddddd'>0.0</td><td style='border: 1px solid #dddddd'>[0.10929795925726474, 0.8907020407427353]</td><td style='border: 1px solid #dddddd'>0.0</td><td style='border: 1px solid #dddddd'>0.0</td></tr>\n            </table>\n        </body>\n        </HTML>"
     },
     "metadata": {}
    }
   ],
   "source": [
    "# records = [PayloadRecord(request=payload_scoring, response=scoring_response, response_time=72)]\n",
    "\n",
    "\n",
    "x = wos_client.data_sets.show_records(data_set_id=payload_data_set_id)\n",
    "x"
   ]
  },
  {
   "cell_type": "code",
   "execution_count": 184,
   "metadata": {},
   "outputs": [],
   "source": [
    "records2 = wos_client.data_sets.get_list_of_records(data_set_id=payload_data_set_id,\n",
    "                                                   output_type=ResponseTypes.PANDAS\n",
    "   )\n",
    "df = records2.result\n",
    "\n",
    "import pandas as pd\n",
    "import numpy as np\n",
    "# df.to_csv('res.csv',index=False)\n",
    "df['RainTomorrow'] = np.random.randint(2, size=df.shape[0])#.toarray().tolist()\n",
    "df.to_csv('res.csv',index=False)\n",
    "\n"
   ]
  },
  {
   "cell_type": "code",
   "execution_count": 299,
   "metadata": {},
   "outputs": [
    {
     "output_type": "execute_result",
     "data": {
      "text/plain": [
       "4460"
      ]
     },
     "metadata": {},
     "execution_count": 299
    }
   ],
   "source": [
    "wos_client.data_sets.get_records_count(payload_data_set_id) # ibm_watson_openscale\n"
   ]
  },
  {
   "cell_type": "code",
   "execution_count": 248,
   "metadata": {},
   "outputs": [
    {
     "output_type": "display_data",
     "data": {
      "text/plain": "<IPython.core.display.HTML object>",
      "text/html": "<HTML>\n        <body>\n            <h3>Monitor instances</h3>\n            <table style='border: 1px solid #dddddd; font-family: Courier'>\n                <th style='border: 1px solid #dddddd'>data_mart_id</th><th style='border: 1px solid #dddddd'>status</th><th style='border: 1px solid #dddddd'>target_id</th><th style='border: 1px solid #dddddd'>target_type</th><th style='border: 1px solid #dddddd'>monitor_definition_id</th><th style='border: 1px solid #dddddd'>created_at</th><th style='border: 1px solid #dddddd'>id</th>\n                <tr><td style='border: 1px solid #dddddd'>7b220d7b-3196-43c3-8510-a4f710021a04</td><td style='border: 1px solid #dddddd'>active</td><td style='border: 1px solid #dddddd'>bb7a45c3-15ad-4932-aeb8-8d32d54b8b05</td><td style='border: 1px solid #dddddd'>subscription</td><td style='border: 1px solid #dddddd'>quality</td><td style='border: 1px solid #dddddd'>2021-04-08 16:25:48.434000+00:00</td><td style='border: 1px solid #dddddd'>5ddff093-25fa-44f8-abae-fd29659fd0d0</td></tr><tr><td style='border: 1px solid #dddddd'>7b220d7b-3196-43c3-8510-a4f710021a04</td><td style='border: 1px solid #dddddd'>active</td><td style='border: 1px solid #dddddd'>bb7a45c3-15ad-4932-aeb8-8d32d54b8b05</td><td style='border: 1px solid #dddddd'>subscription</td><td style='border: 1px solid #dddddd'>drift</td><td style='border: 1px solid #dddddd'>2021-04-05 15:16:56.829000+00:00</td><td style='border: 1px solid #dddddd'>9d51655d-1f57-4061-9df4-8ef20b6ebced</td></tr><tr><td style='border: 1px solid #dddddd'>7b220d7b-3196-43c3-8510-a4f710021a04</td><td style='border: 1px solid #dddddd'>error</td><td style='border: 1px solid #dddddd'>bb7a45c3-15ad-4932-aeb8-8d32d54b8b05</td><td style='border: 1px solid #dddddd'>subscription</td><td style='border: 1px solid #dddddd'>fairness</td><td style='border: 1px solid #dddddd'>2021-04-04 21:30:28.742000+00:00</td><td style='border: 1px solid #dddddd'>30bc90c4-8c54-413d-98aa-8d4ff5bb2680</td></tr><tr><td style='border: 1px solid #dddddd'>7b220d7b-3196-43c3-8510-a4f710021a04</td><td style='border: 1px solid #dddddd'>error</td><td style='border: 1px solid #dddddd'>bb7a45c3-15ad-4932-aeb8-8d32d54b8b05</td><td style='border: 1px solid #dddddd'>subscription</td><td style='border: 1px solid #dddddd'>explainability</td><td style='border: 1px solid #dddddd'>2021-04-04 21:28:01.896000+00:00</td><td style='border: 1px solid #dddddd'>dcb0abd5-b476-43c0-ba7f-be93ad250d6f</td></tr><tr><td style='border: 1px solid #dddddd'>7b220d7b-3196-43c3-8510-a4f710021a04</td><td style='border: 1px solid #dddddd'>active</td><td style='border: 1px solid #dddddd'>bb7a45c3-15ad-4932-aeb8-8d32d54b8b05</td><td style='border: 1px solid #dddddd'>subscription</td><td style='border: 1px solid #dddddd'>mrm</td><td style='border: 1px solid #dddddd'>2021-04-04 21:23:42.492000+00:00</td><td style='border: 1px solid #dddddd'>3748dfc5-7236-406b-be1d-1ca2363c9343</td></tr><tr><td style='border: 1px solid #dddddd'>7b220d7b-3196-43c3-8510-a4f710021a04</td><td style='border: 1px solid #dddddd'>active</td><td style='border: 1px solid #dddddd'>bb7a45c3-15ad-4932-aeb8-8d32d54b8b05</td><td style='border: 1px solid #dddddd'>subscription</td><td style='border: 1px solid #dddddd'>performance</td><td style='border: 1px solid #dddddd'>2021-04-04 21:23:42.488000+00:00</td><td style='border: 1px solid #dddddd'>570ab6f2-e0e3-4402-bb78-d8de41331a3e</td></tr><tr><td style='border: 1px solid #dddddd'>7b220d7b-3196-43c3-8510-a4f710021a04</td><td style='border: 1px solid #dddddd'>active</td><td style='border: 1px solid #dddddd'>6812f06b-1a26-4eba-93cf-91b520950a74</td><td style='border: 1px solid #dddddd'>instance</td><td style='border: 1px solid #dddddd'>performance</td><td style='border: 1px solid #dddddd'>2021-03-10 18:28:38.861000+00:00</td><td style='border: 1px solid #dddddd'>26bb6bb7-d140-4280-8044-63ec11f7af3b</td></tr>\n            </table>\n        </body>\n        </HTML>"
     },
     "metadata": {}
    }
   ],
   "source": [
    "monitor_instances_info = wos_client.monitor_instances.show(\n",
    "    data_mart_id=\"7b220d7b-3196-43c3-8510-a4f710021a04\",\n",
    "     )\n"
   ]
  },
  {
   "cell_type": "code",
   "execution_count": 246,
   "metadata": {},
   "outputs": [
    {
     "output_type": "display_data",
     "data": {
      "text/plain": "<IPython.core.display.HTML object>",
      "text/html": "<HTML>\n        <body>\n            <h3>5ddff093-25fa-44f8-abae-fd29659fd0d0 Monitor Runs Metrics from: 2021-04-01 13:36:48.101190  till: 2021-04-08 13:36:48.101198</h3>\n            <table style='border: 1px solid #dddddd; font-family: Courier'>\n                <th style='border: 1px solid #dddddd'>ts</th><th style='border: 1px solid #dddddd'>id</th><th style='border: 1px solid #dddddd'>measurement_id</th><th style='border: 1px solid #dddddd'>value</th><th style='border: 1px solid #dddddd'>lower_limit</th><th style='border: 1px solid #dddddd'>upper_limit</th><th style='border: 1px solid #dddddd'>tags</th><th style='border: 1px solid #dddddd'>monitor_definition_id</th><th style='border: 1px solid #dddddd'>monitor_instance_id</th><th style='border: 1px solid #dddddd'>run_id</th><th style='border: 1px solid #dddddd'>target_type</th><th style='border: 1px solid #dddddd'>target_id</th>\n                \n            </table>\n        </body>\n        </HTML>"
     },
     "metadata": {}
    }
   ],
   "source": [
    "wos_client.monitor_instances.show_metrics(monitor_instance_id='5ddff093-25fa-44f8-abae-fd29659fd0d0')"
   ]
  },
  {
   "cell_type": "code",
   "execution_count": 232,
   "metadata": {},
   "outputs": [
    {
     "output_type": "stream",
     "name": "stdout",
     "text": [
      "\n",
      "\n",
      "===================================================================================\n",
      "\n",
      " Waiting for end of deleting monitor instance 94e582d5-c244-4533-9697-c16046c5fc40 \n",
      "\n",
      "===================================================================================\n",
      "\n",
      "\n",
      "\n",
      "finished\n",
      "\n",
      "-------------------------------------------------\n",
      " Successfully finished deleting monitor instance \n",
      "-------------------------------------------------\n",
      "\n",
      "\n"
     ]
    },
    {
     "output_type": "execute_result",
     "data": {
      "text/plain": [
       "<ibm_cloud_sdk_core.detailed_response.DetailedResponse at 0x7f960d7aee48>"
      ]
     },
     "metadata": {},
     "execution_count": 232
    }
   ],
   "source": [
    "# wos_client.monitor_instances.delete(\n",
    "#         background_mode=False,\n",
    "#         monitor_instance_id='94e582d5-c244-4533-9697-c16046c5fc40'\n",
    "#      )\n"
   ]
  },
  {
   "cell_type": "code",
   "execution_count": 300,
   "metadata": {},
   "outputs": [
    {
     "output_type": "stream",
     "name": "stdout",
     "text": [
      "\n",
      "\n",
      "========================================================================\n",
      "\n",
      " Waiting for end of monitoring run 2187b9be-1ceb-47ad-ae2b-1e83528c3b3e \n",
      "\n",
      "========================================================================\n",
      "\n",
      "\n",
      "\n",
      "error\n",
      "\n",
      "-------------------------------\n",
      " Run failed with status: error \n",
      "-------------------------------\n",
      "\n",
      "\n",
      "Reason: ['code: AIQFS0002E, message: Action `Score Batch` has failed with status code 400; associated message: `{2}`', 'code: AIQGS0099E, message: X has 66 features, but this StandardScaler is expecting 61 features as input.']\n"
     ]
    }
   ],
   "source": [
    "monitor_instance_run_info = wos_client.monitor_instances.run(\n",
    "        background_mode=False,\n",
    "        monitor_instance_id='5ddff093-25fa-44f8-abae-fd29659fd0d0'\n",
    "     )"
   ]
  },
  {
   "cell_type": "code",
   "execution_count": null,
   "metadata": {},
   "outputs": [],
   "source": []
  }
 ]
}