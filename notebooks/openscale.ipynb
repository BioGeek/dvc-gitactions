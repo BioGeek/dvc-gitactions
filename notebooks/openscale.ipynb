{
 "metadata": {
  "language_info": {
   "codemirror_mode": {
    "name": "ipython",
    "version": 3
   },
   "file_extension": ".py",
   "mimetype": "text/x-python",
   "name": "python",
   "nbconvert_exporter": "python",
   "pygments_lexer": "ipython3",
   "version": "3.6.9"
  },
  "orig_nbformat": 2,
  "kernelspec": {
   "name": "python3",
   "display_name": "Python 3.6.9 64-bit",
   "metadata": {
    "interpreter": {
     "hash": "31f2aee4e71d21fbe5cf8b01ff0e069b9275f58929596ceb00d14d90e3e16cd6"
    }
   }
  }
 },
 "nbformat": 4,
 "nbformat_minor": 2,
 "cells": [
  {
   "cell_type": "code",
   "execution_count": 28,
   "metadata": {},
   "outputs": [
    {
     "output_type": "stream",
     "name": "stdout",
     "text": [
      "7b220d7b-3196-43c3-8510-a4f710021a04\n",
      "2.2.1\n",
      "DEPRECATED!! Python 3.6 framework is deprecated and will be removed on Jan 20th, 2021. It will be read-only mode starting Nov 20th, 2020. i.e you won't be able to create new assets using this client. Use Python 3.7 instead. For details, see https://dataplatform.cloud.ibm.com/docs/content/wsj/analyze-data/pm_service_supported_frameworks.html\n"
     ]
    },
    {
     "output_type": "execute_result",
     "data": {
      "text/plain": [
       "'SUCCESS'"
      ]
     },
     "metadata": {},
     "execution_count": 28
    }
   ],
   "source": [
    "import os\n",
    "import sys\n",
    "import yaml\n",
    "from ibm_cloud_sdk_core.authenticators import IAMAuthenticator\n",
    "from ibm_ai_openscale import APIClient\n",
    "from ibm_ai_openscale.engines import *\n",
    "from ibm_ai_openscale.utils import *\n",
    "from ibm_ai_openscale.supporting_classes import PayloadRecord, Feature\n",
    "from ibm_ai_openscale.supporting_classes.enums import *\n",
    "import requests\n",
    "from ibm_ai_openscale.utils import get_instance_guid\n",
    "import ibm_watson_machine_learning\n",
    "import json\n",
    "import pandas as pd\n",
    "from sklearn.model_selection import train_test_split\n",
    "import numpy as np\n",
    "from sklearn.metrics import confusion_matrix, accuracy_score, precision_score, recall_score, f1_score\n",
    "from ibm_cloud_sdk_core.authenticators import IAMAuthenticator\n",
    "from ibm_watson_openscale import *\n",
    "from ibm_watson_openscale.supporting_classes.enums import *\n",
    "from ibm_watson_openscale.supporting_classes.payload_record import PayloadRecord\n",
    "import ibm_watson_openscale\n",
    "\n",
    "\n",
    "with open(\"../credentials.yaml\") as stream:\n",
    "    try:\n",
    "        credentials = yaml.safe_load(stream)\n",
    "    except yaml.YAMLError as exc:\n",
    "        print(exc)\n",
    "\n",
    "\n",
    "with open(\"../metadata.yaml\") as stream:\n",
    "    try:\n",
    "        metadata = yaml.safe_load(stream)\n",
    "    except yaml.YAMLError as exc:\n",
    "        print(exc)\n",
    "\n",
    "\n",
    "service_credentials = {\n",
    "    \"apikey\": credentials[\"apikey\"],\n",
    "    \"url\": \"https://api.aiopenscale.cloud.ibm.com\",\n",
    "}\n",
    "\n",
    "DEPLOYMENT_UID = metadata[\"deployment_uid\"]\n",
    "MODEL_UID = metadata[\"model_uid\"]\n",
    "MODEL_NAME = metadata[\"project_name\"] + \"_\" + metadata[\"project_version\"]\n",
    "SPACE_ID = credentials[\"space_id\"]\n",
    "WOS_GUID = get_instance_guid(api_key=service_credentials[\"apikey\"])\n",
    "WOS_CREDENTIALS = {\n",
    "    \"instance_guid\": WOS_GUID,\n",
    "    \"apikey\": service_credentials[\"apikey\"],\n",
    "    \"url\": \"https://api.aiopenscale.cloud.ibm.com\",\n",
    "}\n",
    "\n",
    "if WOS_GUID is None:\n",
    "    print(\"Watson OpenScale GUID NOT FOUND\")\n",
    "else:\n",
    "    print(WOS_GUID)\n",
    "    \n",
    "ai_client = APIClient(aios_credentials=WOS_CREDENTIALS)\n",
    "print(ai_client.version)\n",
    "\n",
    "wml_credentials = {\"url\": credentials[\"url\"], \"apikey\": credentials[\"apikey\"]}\n",
    "\n",
    "wml_client = ibm_watson_machine_learning.APIClient(wml_credentials)\n",
    "\n",
    "wml_credentials = {\n",
    "    \"url\": credentials[\"url\"],\n",
    "    \"apikey\": credentials[\"apikey\"],\n",
    "    \"instance_id\": \"wml_local\",\n",
    "}\n",
    "\n",
    "wml_client.set.default_space(\"16148a4d-9055-4220-af26-0c0369cdf31a\")\n",
    "\n",
    "authenticator = IAMAuthenticator(apikey=credentials[\"apikey\"])\n",
    "wos_client = ibm_watson_openscale.APIClient(\n",
    "    authenticator=authenticator, \n",
    "    service_url=\"https://api.aiopenscale.cloud.ibm.com\")\n",
    "\n",
    "\n"
   ]
  },
  {
   "cell_type": "code",
   "execution_count": 292,
   "metadata": {},
   "outputs": [
    {
     "output_type": "stream",
     "name": "stdout",
     "text": [
      "Using existing internal datamart.\n",
      "Operation 'engine binding' is supported for Watson Machine Learning in Dallas or Frankfurt regions\n",
      "Warning during bind instance.\n",
      "Status code: 409, body: {\"errors\":[{\"code\":\"AIQCS0010W\",\"message\":\"Service Binding with this id is already defined\"}],\"trace\":\"NWRlMDQ0NmQtNDRkZS00MjcwLWIyYWEtYTAwYjk2Y2M5N2Vm\"}\n"
     ]
    },
    {
     "output_type": "display_data",
     "data": {
      "text/plain": "<IPython.core.display.HTML object>",
      "text/html": "<HTML>\n        <body>\n            <h3>Service bindings</h3>\n            <table style='border: 1px solid #dddddd; font-family: Courier'>\n                <th style='border: 1px solid #dddddd'>uid</th><th style='border: 1px solid #dddddd'>name</th><th style='border: 1px solid #dddddd'>service_type</th><th style='border: 1px solid #dddddd'>created</th>\n                <tr><td style='border: 1px solid #dddddd'>wml_local</td><td style='border: 1px solid #dddddd'>Rain Australia</td><td style='border: 1px solid #dddddd'>watson_machine_learning</td><td style='border: 1px solid #dddddd'>2021-04-04T21:16:49.550Z</td></tr><tr><td style='border: 1px solid #dddddd'>974615e0-4c06-40a3-af1f-944192f7e472</td><td style='border: 1px solid #dddddd'>Rain Aus</td><td style='border: 1px solid #dddddd'>watson_machine_learning</td><td style='border: 1px solid #dddddd'>2021-04-01T18:34:08.733Z</td></tr>\n            </table>\n        </body>\n        </HTML>"
     },
     "metadata": {}
    },
    {
     "output_type": "stream",
     "name": "stdout",
     "text": [
      "Warning: Failure during getting artifacts for binding: wml_local. Failure during get deployments. (GET https://api.aiopenscale.cloud.ibm.com/v1/ml_instances/wml_local/deployments?datamart_id=7b220d7b-3196-43c3-8510-a4f710021a04&limit=1000)\nStatus code: 500, body: {\"trace\":\"java.lang.RuntimeException: AIQGS0023E : BindingOrInstanceId = wml_local, ServiceType = watson_machine_learning, SubscriptionId = null : GetDeployments failed org.apache.http.client.ClientProtocolException: AIQGS0167E : HTTP call failed (no of calls attempted = 1, method = GET, url = https://us-south.ml.cloud.ibm.com/v3/wml_instances/wml_local/deployments, status = 403)..\\n\\tat com.ibm.aios.mlgateway.discovery.impl.WMLDeployments.getDeploymentCollectionBySpaceId(WMLDeployments.java:399)\\n\\tat com.ibm.aios.mlgateway.discovery.impl.WMLDeployments.getDeploymentCollection(WMLDeployments.java:247)\\n\\tat com.ibm.aios.mlgateway.discovery.impl.WMLDeployments.getDeployments(WMLDeployments.java:224)\\n\\tat com.ibm.aios.mlgateway.api.server.impl.DeploymentCollectionFactory.getDeploymentCollection(DeploymentCollectionFactory.java:102)\\n\\tat com.ibm.aios.mlgateway.api.server.impl.V1ApiServiceImpl.getDeploymentsByBindingId(V1ApiServiceImpl.java:185)\\n\\tat com.ibm.aios.mlgateway.api.server.V1Api.getDeploymentsByBindingId(V1Api.java:75)\\n\\tat sun.reflect.GeneratedMethodAccessor182.invoke(Unknown Source)\\n\\tat sun.reflect.DelegatingMethodAccessorImpl.invoke(Unknown Source)\\n\\tat java.lang.reflect.Method.invoke(Unknown Source)\\n\\tat com.ibm.ws.jaxrs20.server.LibertyJaxRsServerFactoryBean.performInvocation(LibertyJaxRsServerFactoryBean.java:656)\\n\\tat com.ibm.ws.jaxrs20.server.LibertyJaxRsInvoker.performInvocation(LibertyJaxRsInvoker.java:160)\\n\\tat org.apache.cxf.service.invoker.AbstractInvoker.invoke(AbstractInvoker.java:96)\\n\\tat com.ibm.ws.jaxrs20.server.LibertyJaxRsInvoker.invoke(LibertyJaxRsInvoker.java:273)\\n\\tat org.apache.cxf.jaxrs.JAXRSInvoker.invoke(JAXRSInvoker.java:191)\\n\\tat com.ibm.ws.jaxrs20.server.LibertyJaxRsInvoker.invoke(LibertyJaxRsInvoker.java:444)\\n\\tat org.apache.cxf.jaxrs.JAXRSInvoker.invoke(JAXRSInvoker.java:101)\\n\\tat org.apache.cxf.interceptor.ServiceInvokerInterceptor$1.run(ServiceInvokerInterceptor.java:61)\\n\\tat org.apache.cxf.interceptor.ServiceInvokerInterceptor.handleMessage(ServiceInvokerInterceptor.java:99)\\n\\tat org.apache.cxf.phase.PhaseInterceptorChain.doIntercept(PhaseInterceptorChain.java:309)\\n\\tat org.apache.cxf.transport.ChainInitiationObserver.onMessage(ChainInitiationObserver.java:124)\\n\\tat org.apache.cxf.transport.http.AbstractHTTPDestination.invoke(AbstractHTTPDestination.java:271)\\n\\tat com.ibm.ws.jaxrs20.endpoint.AbstractJaxRsWebEndpoint.invoke(AbstractJaxRsWebEndpoint.java:136)\\n\\tat com.ibm.websphere.jaxrs.server.IBMRestServlet.handleRequest(IBMRestServlet.java:146)\\n\\tat com.ibm.websphere.jaxrs.server.IBMRestServlet.doGet(IBMRestServlet.java:112)\\n\\tat javax.servlet.http.HttpServlet.service(HttpServlet.java:687)\\n\\tat com.ibm.websphere.jaxrs.server.IBMRestServlet.service(IBMRestServlet.java:96)\\n\\tat com.ibm.ws.webcontainer.servlet.ServletWrapper.service(ServletWrapper.java:1225)\\n\\tat com.ibm.ws.webcontainer.servlet.ServletWrapper.handleRequest(ServletWrapper.java:729)\\n\\tat com.ibm.ws.webcontainer.servlet.ServletWrapper.handleRequest(ServletWrapper.java:426)\\n\\tat com.ibm.ws.webcontainer.filter.WebAppFilterChain.invokeTarget(WebAppFilterChain.java:182)\\n\\tat com.ibm.ws.webcontainer.filter.WebAppFilterChain.doFilter(WebAppFilterChain.java:93)\\n\\tat com.ibm.aios.service.common.auth.IAMTokenServletFilter.doFilter(IAMTokenServletFilter.java:420)\\n\\tat com.ibm.ws.webcontainer.filter.FilterInstanceWrapper.doFilter(FilterInstanceWrapper.java:201)\\n\\tat com.ibm.ws.webcontainer.filter.WebAppFilterChain.doFilter(WebAppFilterChain.java:90)\\n\\tat com.ibm.ws.webcontainer.filter.WebAppFilterManager.doFilter(WebAppFilterManager.java:1001)\\n\\tat com.ibm.ws.webcontainer.filter.WebAppFilterManager.invokeFilters(WebAppFilterManager.java:1139)\\n\\tat com.ibm.ws.webcontainer.filter.WebAppFilterManager.invokeFilters(WebAppFilterManager.java:1010)\\n\\tat com.ibm.ws.webcontainer.servlet.CacheServletWrapper.handleRequest(CacheServletWrapper.java:75)\\n\\tat com.ibm.ws.webcontainer.WebContainer.handleRequest(WebContainer.java:938)\\n\\tat com.ibm.ws.webcontainer.osgi.DynamicVirtualHost$2.run(DynamicVirtualHost.java:279)\\n\\tat com.ibm.ws.http.dispatcher.internal.channel.HttpDispatcherLink$TaskWrapper.run(HttpDispatcherLink.java:1134)\\n\\tat com.ibm.ws.http.dispatcher.internal.channel.HttpDispatcherLink.wrapHandlerAndExecute(HttpDispatcherLink.java:415)\\n\\tat com.ibm.ws.http.dispatcher.internal.channel.HttpDispatcherLink.ready(HttpDispatcherLink.java:374)\\n\\tat com.ibm.ws.http.channel.internal.inbound.HttpInboundLink.handleDiscrimination(HttpInboundLink.java:551)\\n\\tat com.ibm.ws.http.channel.internal.inbound.HttpInboundLink.handleNewRequest(HttpInboundLink.java:484)\\n\\tat com.ibm.ws.http.channel.internal.inbound.HttpInboundLink.processRequest(HttpInboundLink.java:346)\\n\\tat com.ibm.ws.http.channel.internal.inbound.HttpInboundLink.ready(HttpInboundLink.java:317)\\n\\tat com.ibm.ws.channel.ssl.internal.SSLConnectionLink.determineNextChannel(SSLConnectionLink.java:1100)\\n\\tat com.ibm.ws.channel.ssl.internal.SSLConnectionLink$MyReadCompletedCallback.complete(SSLConnectionLink.java:675)\\n\\tat com.ibm.ws.channel.ssl.internal.SSLReadServiceContext$SSLReadCompletedCallback.complete(SSLReadServiceContext.java:1824)\\n\\tat com.ibm.ws.tcpchannel.internal.WorkQueueManager.requestComplete(WorkQueueManager.java:504)\\n\\tat com.ibm.ws.tcpchannel.internal.WorkQueueManager.attemptIO(WorkQueueManager.java:574)\\n\\tat com.ibm.ws.tcpchannel.internal.WorkQueueManager.workerRun(WorkQueueManager.java:958)\\n\\tat com.ibm.ws.tcpchannel.internal.WorkQueueManager$Worker.run(WorkQueueManager.java:1047)\\n\\tat com.ibm.ws.threading.internal.ExecutorServiceImpl$RunnableWrapper.run(ExecutorServiceImpl.java:239)\\n\\tat java.util.concurrent.ThreadPoolExecutor.runWorker(Unknown Source)\\n\\tat java.util.concurrent.ThreadPoolExecutor$Worker.run(Unknown Source)\\n\\tat java.lang.Thread.run(Unknown Source)\\nCaused by: org.apache.http.client.ClientProtocolException: AIQGS0167E : HTTP call failed (no of calls attempted = 1, method = GET, url = https://us-south.ml.cloud.ibm.com/v3/wml_instances/wml_local/deployments, status = 403).\\n\\tat com.ibm.aios.service.common.rest.HttpRest.runHttpCall(HttpRest.java:1248)\\n\\tat com.ibm.aios.service.common.rest.HttpRest.runGetCall(HttpRest.java:949)\\n\\tat com.ibm.aios.service.common.rest.HttpRest.doGetCallWithCustomHeader(HttpRest.java:881)\\n\\tat com.ibm.aios.service.common.rest.HttpRest.doGetCallWithCustomHeader(HttpRest.java:852)\\n\\tat com.ibm.aios.mlgateway.discovery.impl.WMLDeployments.getDeploymentCollectionBySpaceId(WMLDeployments.java:312)\\n\\t... 57 more\\nCaused by: org.apache.http.client.ClientProtocolException: {\\\"status\\\":403,\\\"reason\\\":\\\"Forbidden\\\",\\\"details\\\":{\\\"trace\\\":\\\"8313371ae5c5b4e7c0445ebe0d0e308e\\\",\\\"errors\\\":[{\\\"code\\\":\\\"forbidden\\\",\\\"message\\\":\\\"Authorized user does not have an access to this resource\\\"}]}}\\n\\tat com.ibm.aios.service.common.rest.HttpRest$2.handleResponse(HttpRest.java:240)\\n\\tat com.ibm.aios.service.common.rest.HttpRest$2.handleResponse(HttpRest.java:189)\\n\\tat org.apache.http.client.HttpClient$WrappedResponseHandler.handleResponse(HttpClient.java:206)\\n\\tat org.apache.http.client.HttpClient$WrappedResponseHandler.handleResponse(HttpClient.java:206)\\n\\tat org.apache.http.client.HttpClient$WrappedResponseHandler.handleResponse(HttpClient.java:206)\\n\\tat org.apache.http.impl.client.CloseableHttpClient.execute(CloseableHttpClient.java:223)\\n\\tat org.apache.http.impl.client.CloseableHttpClient.execute(CloseableHttpClient.java:165)\\n\\tat org.apache.http.impl.client.CloseableHttpClient.execute(CloseableHttpClient.java:140)\\n\\tat com.ibm.aios.service.common.rest.HttpRest.runHttpCall(HttpRest.java:1221)\\n\\t... 61 more\\n\",\"errors\":[{}]}\n"
     ]
    },
    {
     "output_type": "display_data",
     "data": {
      "text/plain": "<IPython.core.display.HTML object>",
      "text/html": "<HTML>\n        <body>\n            <h3>Available assets (binding_uid='wml_local')</h3>\n            <table style='border: 1px solid #dddddd; font-family: Courier'>\n                <th style='border: 1px solid #dddddd'>source_uid</th><th style='border: 1px solid #dddddd'>name</th><th style='border: 1px solid #dddddd'>created</th><th style='border: 1px solid #dddddd'>type</th><th style='border: 1px solid #dddddd'>frameworks</th><th style='border: 1px solid #dddddd'>binding_uid</th><th style='border: 1px solid #dddddd'>is_subscribed</th>\n                \n            </table>\n        </body>\n        </HTML>"
     },
     "metadata": {}
    }
   ],
   "source": [
    "\n",
    "KEEP_MY_INTERNAL_POSTGRES = True\n",
    "DB_CREDENTIALS = None\n",
    "try:\n",
    "    data_mart_details = ai_client.data_mart.get_details()\n",
    "    if (\n",
    "        \"internal_database\" in data_mart_details\n",
    "        and data_mart_details[\"internal_database\"]\n",
    "    ):\n",
    "        if KEEP_MY_INTERNAL_POSTGRES:\n",
    "            print(\"Using existing internal datamart.\")\n",
    "        else:\n",
    "            if DB_CREDENTIALS is None:\n",
    "                print(\n",
    "                    \"No postgres credentials supplied. Using existing internal datamart\"\n",
    "                )\n",
    "            else:\n",
    "                print(\"Switching to external datamart\")\n",
    "                ai_client.data_mart.delete(force=True)\n",
    "                ai_client.data_mart.setup(db_credentials=DB_CREDENTIALS)\n",
    "    else:\n",
    "        print(\"Using existing external datamart\")\n",
    "except:\n",
    "    if DB_CREDENTIALS is None:\n",
    "        print(\"Setting up internal datamart\")\n",
    "        ai_client.data_mart.setup(internal_db=True)\n",
    "    else:\n",
    "        print(\"Setting up external datamart\")\n",
    "        try:\n",
    "            ai_client.data_mart.setup(db_credentials=DB_CREDENTIALS)\n",
    "        except:\n",
    "            print(\"Setup failed, trying Db2 setup\")\n",
    "            ai_client.data_mart.setup(\n",
    "                db_credentials=DB_CREDENTIALS, schema=DB_CREDENTIALS[\"username\"]\n",
    "            )\n",
    "data_mart_details = ai_client.data_mart.get_details()\n",
    "\n",
    "binding_uid = ai_client.data_mart.bindings.add(\n",
    "    \"Rain Aus\", WatsonMachineLearningInstance(wml_credentials)\n",
    ")\n",
    "\n",
    "bindings_details = ai_client.data_mart.bindings.get_details()\n",
    "\n",
    "if binding_uid is None:\n",
    "    binding_uid = [\n",
    "        binding[\"metadata\"][\"guid\"]\n",
    "        for binding in bindings_details[\"service_bindings\"]\n",
    "        if binding[\"entity\"][\"name\"] == \"WML Cloud Instance\"\n",
    "    ][0]\n",
    "ai_client.data_mart.bindings.list()\n",
    "\n",
    "ai_client.data_mart.bindings.list_assets(binding_uid=binding_uid)"
   ]
  },
  {
   "cell_type": "code",
   "execution_count": 30,
   "metadata": {},
   "outputs": [],
   "source": [
    "subscriptions_uids = ai_client.data_mart.subscriptions.get_uids()\n",
    "# for subscription in subscriptions_uids:\n",
    "#     sub_name = ai_client.data_mart.subscriptions.get_details(subscription)['entity']['asset']['name']\n",
    "#     if sub_name == MODEL_NAME:\n",
    "#         ai_client.data_mart.subscriptions.delete(subscription)\n",
    "#         print('Deleted existing subscription for', MODEL_NAME)"
   ]
  },
  {
   "cell_type": "code",
   "execution_count": 293,
   "metadata": {},
   "outputs": [
    {
     "output_type": "stream",
     "name": "stdout",
     "text": [
      "Subscription already exists; get the existing one\n"
     ]
    }
   ],
   "source": [
    "# subscription = ai_client.data_mart.subscriptions.add(WatsonMachineLearningAsset(\n",
    "#     MODEL_UID,\n",
    "#     problem_type=ProblemType.BINARY_CLASSIFICATION,\n",
    "#     input_data_type=InputDataType.STRUCTURED,\n",
    "#     label_column='RainTomorrow',\n",
    "#     prediction_column='predictedLabel',\n",
    "#     probability_column='probability',\n",
    "#     transaction_id_column='transaction_id',\n",
    "#     feature_columns = [\"Humidity3pm\", \"Humidity9am\", \"MaxTemp\", \"MinTemp\", \"Pressure3pm\", \"Pressure9am\", \"RainToday\", \"Rainfall\", \"Temp3pm\", \"Temp9am\", \"WindDir3pm_E\", \"WindDir3pm_ENE\", \"WindDir3pm_ESE\", \"WindDir3pm_N\", \"WindDir3pm_NE\", \"WindDir3pm_NNE\", \"WindDir3pm_NNW\", \"WindDir3pm_NW\", \"WindDir3pm_S\", \"WindDir3pm_SE\", \"WindDir3pm_SSE\", \"WindDir3pm_SSW\", \"WindDir3pm_SW\", \"WindDir3pm_W\", \"WindDir3pm_WNW\", \"WindDir3pm_WSW\", \"WindDir9am_E\", \"WindDir9am_ENE\", \"WindDir9am_ESE\", \"WindDir9am_N\", \"WindDir9am_NE\", \"WindDir9am_NNE\", \"WindDir9am_NNW\", \"WindDir9am_NW\", \"WindDir9am_S\", \"WindDir9am_SE\", \"WindDir9am_SSE\", \"WindDir9am_SSW\", \"WindDir9am_SW\", \"WindDir9am_W\", \"WindDir9am_WNW\", \"WindDir9am_WSW\", \"WindGustDir_E\", \"WindGustDir_ENE\", \"WindGustDir_ESE\", \"WindGustDir_N\", \"WindGustDir_NE\", \"WindGustDir_NNE\", \"WindGustDir_NNW\", \"WindGustDir_NW\", \"WindGustDir_S\", \"WindGustDir_SE\", \"WindGustDir_SSE\", \"WindGustDir_SSW\", \"WindGustDir_SW\", \"WindGustDir_W\", \"WindGustDir_WNW\", \"WindGustDir_WSW\", \"WindGustSpeed\", \"WindSpeed3pm\", \"WindSpeed9am\"],\n",
    "#     categorical_columns = [\"RainToday\", \"WindDir3pm_E\", \"WindDir3pm_ENE\", \"WindDir3pm_ESE\", \"WindDir3pm_N\", \"WindDir3pm_NE\", \"WindDir3pm_NNE\", \"WindDir3pm_NNW\", \"WindDir3pm_NW\", \"WindDir3pm_S\", \"WindDir3pm_SE\", \"WindDir3pm_SSE\", \"WindDir3pm_SSW\", \"WindDir3pm_SW\", \"WindDir3pm_W\", \"WindDir3pm_WNW\", \"WindDir3pm_WSW\", \"WindDir9am_E\", \"WindDir9am_ENE\", \"WindDir9am_ESE\", \"WindDir9am_N\", \"WindDir9am_NE\", \"WindDir9am_NNE\", \"WindDir9am_NNW\", \"WindDir9am_NW\", \"WindDir9am_S\", \"WindDir9am_SE\", \"WindDir9am_SSE\", \"WindDir9am_SSW\", \"WindDir9am_SW\", \"WindDir9am_W\", \"WindDir9am_WNW\", \"WindDir9am_WSW\", \"WindGustDir_E\", \"WindGustDir_ENE\", \"WindGustDir_ESE\", \"WindGustDir_N\", \"WindGustDir_NE\", \"WindGustDir_NNE\", \"WindGustDir_NNW\", \"WindGustDir_NW\", \"WindGustDir_S\", \"WindGustDir_SE\", \"WindGustDir_SSE\", \"WindGustDir_SSW\", \"WindGustDir_SW\", \"WindGustDir_W\", \"WindGustDir_WNW\", \"WindGustDir_WSW\", \"WindGustSpeed\", \"WindSpeed3pm\", \"WindSpeed9am\"]\n",
    "# ))\n",
    "\n",
    "subscription = None\n",
    "\n",
    "if subscription is None:\n",
    "    print('Subscription already exists; get the existing one')\n",
    "    subscriptions_uids = ai_client.data_mart.subscriptions.get_uids()\n",
    "\n",
    "    for sub in subscriptions_uids:\n",
    "        if ai_client.data_mart.subscriptions.get_details(sub)['entity']['asset']['name'] == MODEL_NAME:\n",
    "            subscription = ai_client.data_mart.subscriptions.get(sub)"
   ]
  },
  {
   "cell_type": "code",
   "execution_count": 294,
   "metadata": {},
   "outputs": [
    {
     "output_type": "display_data",
     "data": {
      "text/plain": "<IPython.core.display.HTML object>",
      "text/html": "<HTML>\n        <body>\n            <h3>Subscriptions</h3>\n            <table style='border: 1px solid #dddddd; font-family: Courier'>\n                <th style='border: 1px solid #dddddd'>uid</th><th style='border: 1px solid #dddddd'>name</th><th style='border: 1px solid #dddddd'>type</th><th style='border: 1px solid #dddddd'>binding_uid</th><th style='border: 1px solid #dddddd'>created</th>\n                <tr><td style='border: 1px solid #dddddd'>bb7a45c3-15ad-4932-aeb8-8d32d54b8b05</td><td style='border: 1px solid #dddddd'>Rain_aus_v0.3</td><td style='border: 1px solid #dddddd'>model</td><td style='border: 1px solid #dddddd'>974615e0-4c06-40a3-af1f-944192f7e472</td><td style='border: 1px solid #dddddd'>2021-04-04T21:23:38.668Z</td></tr>\n            </table>\n        </body>\n        </HTML>"
     },
     "metadata": {}
    }
   ],
   "source": [
    "subscriptions_uids = ai_client.data_mart.subscriptions.get_uids()\n",
    "ai_client.data_mart.subscriptions.list()"
   ]
  },
  {
   "cell_type": "code",
   "execution_count": 295,
   "metadata": {},
   "outputs": [
    {
     "output_type": "stream",
     "name": "stdout",
     "text": [
      "https://us-south.ml.cloud.ibm.com/ml/v4/deployments/e02e481d-4e56-470f-baa9-ae84a583c0a8/predictions\n"
     ]
    }
   ],
   "source": [
    "\n",
    "for deployment in wml_client.deployments.get_details()['resources']:\n",
    "    if DEPLOYMENT_UID in deployment['metadata']['id']:\n",
    "\n",
    "        scoring_endpoint = deployment['entity']['status']['online_url']['url']\n",
    "        \n",
    "print(scoring_endpoint)"
   ]
  },
  {
   "cell_type": "code",
   "execution_count": 282,
   "metadata": {},
   "outputs": [],
   "source": [
    "data = pd.read_csv(\"../data/weatherAUS_processed.csv\")\n",
    "\n",
    "X = data.iloc[:, :-1]\n",
    "y = data[data.columns[-1]]\n",
    "X_train, X_test, y_train, y_test = train_test_split(\n",
    "    X, y, test_size=0.01, random_state=1337\n",
    ")\n",
    "\n",
    "payload_scoring = {\n",
    "    \"input_data\": [\n",
    "        {\n",
    "            \"fields\": X.columns.to_numpy().tolist(),\n",
    "            \"values\": X_test.to_numpy().tolist(),\n",
    "        }\n",
    "    ]\n",
    "}"
   ]
  },
  {
   "cell_type": "code",
   "execution_count": 252,
   "metadata": {},
   "outputs": [],
   "source": [
    "scoring_response = wml_client.deployments.score(DEPLOYMENT_UID, payload_scoring)\n",
    "\n",
    "# scoring_response"
   ]
  },
  {
   "cell_type": "code",
   "execution_count": 253,
   "metadata": {},
   "outputs": [
    {
     "output_type": "stream",
     "name": "stdout",
     "text": [
      "{'accuracy': 0.8704318936877077, 'recall': 0.9724284199363733, 'precision': 0.8758357211079274, 'f1': 0.9216080402010052}\n"
     ]
    }
   ],
   "source": [
    "pred_values = np.squeeze(scoring_response[\"predictions\"][0][\"values\"])\n",
    "y_pred_values = [i[0] for i in pred_values]\n",
    "\n",
    "def comb_eval(y, y_pred):\n",
    "    acc = accuracy_score(y, y_pred)\n",
    "    recall = recall_score(y, y_pred)\n",
    "    precision = precision_score(y, y_pred)\n",
    "    f1 = f1_score(y, y_pred)\n",
    "\n",
    "    return {\"accuracy\": acc, \"recall\": recall, \"precision\": precision, \"f1\": f1}\n",
    "\n",
    "eval = comb_eval(y_test, y_pred_values)\n",
    "print(eval)\n"
   ]
  },
  {
   "cell_type": "code",
   "execution_count": 255,
   "metadata": {},
   "outputs": [
    {
     "output_type": "stream",
     "name": "stdout",
     "text": [
      "Payload data set id: f4791725-24f8-4a00-9c13-b331ebca47f6\n"
     ]
    }
   ],
   "source": [
    "payload_data_set_id = wos_client.data_sets.list(type=DataSetTypes.PAYLOAD_LOGGING, \n",
    "                                                target_target_id=subscription_id, \n",
    "                                                target_target_type=TargetTypes.SUBSCRIPTION).result.data_sets[0].metadata.id\n",
    "print(\"Payload data set id:\", payload_data_set_id)\n",
    "\n",
    "\n"
   ]
  },
  {
   "cell_type": "code",
   "execution_count": 256,
   "metadata": {},
   "outputs": [
    {
     "output_type": "stream",
     "name": "stdout",
     "text": [
      "Logging\n"
     ]
    }
   ],
   "source": [
    "print('Logging')\n",
    "records = [PayloadRecord(request=payload_scoring, response=scoring_response, response_time=72)]\n",
    "store_record_info = wos_client.data_sets.store_records(payload_data_set_id,records)\n"
   ]
  },
  {
   "cell_type": "code",
   "execution_count": 283,
   "metadata": {},
   "outputs": [
    {
     "output_type": "stream",
     "name": "stdout",
     "text": [
      "\n",
      "\n",
      "==========================================================================================\n",
      "\n",
      " Waiting for end of storing records with request id: 157c3777-25dd-4463-8920-45a32d164f93 \n",
      "\n",
      "==========================================================================================\n",
      "\n",
      "\n",
      "\n",
      "active\n",
      "\n",
      "---------------------------------------\n",
      " Successfully finished storing records \n",
      "---------------------------------------\n",
      "\n",
      "\n",
      "1325\n"
     ]
    }
   ],
   "source": [
    "feedback_dataset = wos_client.data_sets.list(type=DataSetTypes.FEEDBACK, \n",
    "                                                target_target_id=subscription_id, \n",
    "                                                target_target_type=TargetTypes.SUBSCRIPTION).result\n",
    "\n",
    "feedback_dataset_id = feedback_dataset.data_sets[0].metadata.id\n",
    "if feedback_dataset_id is None:\n",
    "    print(\"Feedback data set not found. Please check quality monitor status.\")\n",
    "    sys.exit(1)\n",
    "\n",
    "data = X_test.to_dict('records')\n",
    "\n",
    "wos_client.data_sets.store_records(\n",
    "    feedback_dataset_id, \n",
    "    request_body=data, \n",
    "    background_mode=False,\n",
    "    header=True,\n",
    "    delimiter=',',\n",
    "    csv_max_line_length=1000)\n",
    "\n",
    "print(wos_client.data_sets.get_records_count(data_set_id=feedback_dataset_id))"
   ]
  },
  {
   "cell_type": "code",
   "execution_count": null,
   "metadata": {},
   "outputs": [],
   "source": []
  },
  {
   "cell_type": "code",
   "execution_count": 296,
   "metadata": {},
   "outputs": [
    {
     "output_type": "stream",
     "name": "stdout",
     "text": [
      "\n",
      "Data marts: \n",
      "7b220d7b-3196-43c3-8510-a4f710021a04\n",
      "\n",
      "Service providers: \n",
      "wml_local / Name: Rain Australia\n",
      "974615e0-4c06-40a3-af1f-944192f7e472 / Name: Rain Aus\n",
      "\n",
      "Subscriptions: \n",
      "bb7a45c3-15ad-4932-aeb8-8d32d54b8b05   Rain_aus_v0.3\n",
      "\n",
      "\n",
      "Payload data set id: f4791725-24f8-4a00-9c13-b331ebca47f6\n",
      "Number of records in the payload logging table: 4460\n"
     ]
    }
   ],
   "source": [
    "\n",
    "from ibm_watson_openscale.supporting_classes.enums import *\n",
    "\n",
    "print('\\nData marts: ')\n",
    "datams = wos_client.data_marts.list().result.data_marts\n",
    "for d in datams:\n",
    "    print(d.metadata.id)\n",
    "datamart_id = d.metadata.id\n",
    "\n",
    "print('\\nService providers: ')\n",
    "services = wos_client.service_providers.list().result.service_providers\n",
    "for service in services:\n",
    "    print(service.metadata.id+\" / Name: \"+service.entity.name)\n",
    "service_id = service.metadata.id\n",
    "\n",
    "#wos_client.subscriptions.show()\n",
    "#wos_client.data_sets.show()\n",
    "\n",
    "print('\\nSubscriptions: ')\n",
    "subscriptions = wos_client.subscriptions.list(data_mart_id=datamart_id, service_provider_id=service_id).result.subscriptions\n",
    "for s in subscriptions:\n",
    "  print(s.metadata.id+\"   \"+s.entity.asset.name)\n",
    "subscription_id = s.metadata.id\n",
    "\n",
    "print('\\n')\n",
    "\n",
    "payload_data_set_id = wos_client.data_sets.list(type=DataSetTypes.PAYLOAD_LOGGING, \n",
    "                                                target_target_id=subscription_id, \n",
    "                                                target_target_type=TargetTypes.SUBSCRIPTION).result.data_sets[0].metadata.id\n",
    "print(\"Payload data set id:\", payload_data_set_id)\n",
    "\n",
    "\n",
    "pl_records_count = wos_client.data_sets.get_records_count(payload_data_set_id)\n",
    "print(\"Number of records in the payload logging table: {}\".format(pl_records_count))\n",
    "if pl_records_count == 0:\n",
    "    raise Exception(\"Payload logging did not happen!\")\n"
   ]
  },
  {
   "cell_type": "code",
   "execution_count": 278,
   "metadata": {},
   "outputs": [
    {
     "output_type": "error",
     "ename": "ApiException",
     "evalue": "Error: Resource could not be created because of conflict with existing resource `5ddff093-25fa-44f8-abae-fd29659fd0d0` of type `monitor_instance`, Code: 409 , X-global-transaction-id: NzE3YTdlNDUtMzlmYy00NGUxLWE5YWUtOTZhMmViMmUxYzk0",
     "traceback": [
      "\u001b[0;31m---------------------------------------------------------------------------\u001b[0m",
      "\u001b[0;31mApiException\u001b[0m                              Traceback (most recent call last)",
      "\u001b[0;32m<ipython-input-278-59e465828092>\u001b[0m in \u001b[0;36m<module>\u001b[0;34m\u001b[0m\n\u001b[1;32m     17\u001b[0m         \u001b[0mtarget\u001b[0m\u001b[0;34m=\u001b[0m\u001b[0mtarget\u001b[0m\u001b[0;34m,\u001b[0m\u001b[0;34m\u001b[0m\u001b[0;34m\u001b[0m\u001b[0m\n\u001b[1;32m     18\u001b[0m         \u001b[0mparameters\u001b[0m\u001b[0;34m=\u001b[0m\u001b[0mparameters\u001b[0m\u001b[0;34m,\u001b[0m\u001b[0;34m\u001b[0m\u001b[0;34m\u001b[0m\u001b[0m\n\u001b[0;32m---> 19\u001b[0;31m         \u001b[0mthresholds\u001b[0m\u001b[0;34m=\u001b[0m\u001b[0mthresholds\u001b[0m\u001b[0;34m\u001b[0m\u001b[0;34m\u001b[0m\u001b[0m\n\u001b[0m\u001b[1;32m     20\u001b[0m )\n",
      "\u001b[0;32m~/.local/lib/python3.6/site-packages/ibm_watson_openscale/monitor_instances.py\u001b[0m in \u001b[0;36mcreate\u001b[0;34m(self, monitor_definition_id, target, data_mart_id, parameters, thresholds, schedule, managed_by, training_data_stats, background_mode, **kwargs)\u001b[0m\n\u001b[1;32m    362\u001b[0m             response = super().add(data_mart_id=data_mart_id, monitor_definition_id=monitor_definition_id,\n\u001b[1;32m    363\u001b[0m                                             \u001b[0mtarget\u001b[0m\u001b[0;34m=\u001b[0m\u001b[0mtarget\u001b[0m\u001b[0;34m,\u001b[0m \u001b[0mparameters\u001b[0m\u001b[0;34m=\u001b[0m\u001b[0mparameters\u001b[0m\u001b[0;34m,\u001b[0m \u001b[0mthresholds\u001b[0m\u001b[0;34m=\u001b[0m\u001b[0mthresholds\u001b[0m\u001b[0;34m,\u001b[0m\u001b[0;34m\u001b[0m\u001b[0;34m\u001b[0m\u001b[0m\n\u001b[0;32m--> 364\u001b[0;31m                                             schedule=schedule, managed_by=managed_by)\n\u001b[0m\u001b[1;32m    365\u001b[0m             \u001b[0mmonitor_instance_id\u001b[0m \u001b[0;34m=\u001b[0m \u001b[0mresponse\u001b[0m\u001b[0;34m.\u001b[0m\u001b[0mresult\u001b[0m\u001b[0;34m.\u001b[0m\u001b[0mmetadata\u001b[0m\u001b[0;34m.\u001b[0m\u001b[0mid\u001b[0m\u001b[0;34m\u001b[0m\u001b[0;34m\u001b[0m\u001b[0m\n\u001b[1;32m    366\u001b[0m             \u001b[0;32mreturn\u001b[0m \u001b[0mself\u001b[0m\u001b[0;34m.\u001b[0m\u001b[0m__check_for_finished_status\u001b[0m\u001b[0;34m(\u001b[0m\u001b[0mbackground_mode\u001b[0m\u001b[0;34m,\u001b[0m \u001b[0mmonitor_instance_id\u001b[0m\u001b[0;34m,\u001b[0m\u001b[0mresponse\u001b[0m \u001b[0;34m=\u001b[0m \u001b[0mresponse\u001b[0m\u001b[0;34m)\u001b[0m\u001b[0;34m\u001b[0m\u001b[0;34m\u001b[0m\u001b[0m\n",
      "\u001b[0;32m~/.local/lib/python3.6/site-packages/ibm_watson_openscale/base_classes/watson_open_scale_v2.py\u001b[0m in \u001b[0;36madd\u001b[0;34m(self, data_mart_id, monitor_definition_id, target, parameters, thresholds, schedule, schedules, schedule_id, managed_by, unprocessed_records, total_records, skip_scheduler, **kwargs)\u001b[0m\n\u001b[1;32m   2588\u001b[0m                                        data=data)\n\u001b[1;32m   2589\u001b[0m \u001b[0;34m\u001b[0m\u001b[0m\n\u001b[0;32m-> 2590\u001b[0;31m         \u001b[0mresponse\u001b[0m \u001b[0;34m=\u001b[0m \u001b[0mself\u001b[0m\u001b[0;34m.\u001b[0m\u001b[0mwatson_open_scale\u001b[0m\u001b[0;34m.\u001b[0m\u001b[0msend\u001b[0m\u001b[0;34m(\u001b[0m\u001b[0mrequest\u001b[0m\u001b[0;34m)\u001b[0m\u001b[0;34m\u001b[0m\u001b[0;34m\u001b[0m\u001b[0m\n\u001b[0m\u001b[1;32m   2591\u001b[0m         \u001b[0;32mif\u001b[0m \u001b[0mhasattr\u001b[0m\u001b[0;34m(\u001b[0m\u001b[0mMonitorInstanceResponse\u001b[0m\u001b[0;34m,\u001b[0m \u001b[0;34m'from_dict'\u001b[0m\u001b[0;34m)\u001b[0m\u001b[0;34m:\u001b[0m\u001b[0;34m\u001b[0m\u001b[0;34m\u001b[0m\u001b[0m\n\u001b[1;32m   2592\u001b[0m             \u001b[0mresponse\u001b[0m\u001b[0;34m.\u001b[0m\u001b[0mresult\u001b[0m \u001b[0;34m=\u001b[0m \u001b[0mMonitorInstanceResponse\u001b[0m\u001b[0;34m.\u001b[0m\u001b[0mfrom_dict\u001b[0m\u001b[0;34m(\u001b[0m\u001b[0mresponse\u001b[0m\u001b[0;34m.\u001b[0m\u001b[0mresult\u001b[0m\u001b[0;34m)\u001b[0m\u001b[0;34m\u001b[0m\u001b[0;34m\u001b[0m\u001b[0m\n",
      "\u001b[0;32m~/.local/lib/python3.6/site-packages/ibm_cloud_sdk_core/base_service.py\u001b[0m in \u001b[0;36msend\u001b[0;34m(self, request, **kwargs)\u001b[0m\n\u001b[1;32m    244\u001b[0m \u001b[0;34m\u001b[0m\u001b[0m\n\u001b[1;32m    245\u001b[0m             raise ApiException(\n\u001b[0;32m--> 246\u001b[0;31m                 response.status_code, http_response=response)\n\u001b[0m\u001b[1;32m    247\u001b[0m         \u001b[0;32mexcept\u001b[0m \u001b[0mrequests\u001b[0m\u001b[0;34m.\u001b[0m\u001b[0mexceptions\u001b[0m\u001b[0;34m.\u001b[0m\u001b[0mSSLError\u001b[0m\u001b[0;34m:\u001b[0m\u001b[0;34m\u001b[0m\u001b[0;34m\u001b[0m\u001b[0m\n\u001b[1;32m    248\u001b[0m             \u001b[0mlogging\u001b[0m\u001b[0;34m.\u001b[0m\u001b[0mexception\u001b[0m\u001b[0;34m(\u001b[0m\u001b[0mself\u001b[0m\u001b[0;34m.\u001b[0m\u001b[0mERROR_MSG_DISABLE_SSL\u001b[0m\u001b[0;34m)\u001b[0m\u001b[0;34m\u001b[0m\u001b[0;34m\u001b[0m\u001b[0m\n",
      "\u001b[0;31mApiException\u001b[0m: Error: Resource could not be created because of conflict with existing resource `5ddff093-25fa-44f8-abae-fd29659fd0d0` of type `monitor_instance`, Code: 409 , X-global-transaction-id: NzE3YTdlNDUtMzlmYy00NGUxLWE5YWUtOTZhMmViMmUxYzk0"
     ]
    }
   ],
   "source": [
    "target = ibm_watson_openscale.base_classes.watson_open_scale_v2.Target(\n",
    "            target_type=TargetTypes.SUBSCRIPTION,\n",
    "            target_id=subscription.uid\n",
    "        )\n",
    "parameters =  {\n",
    "            \"min_feedback_data_size\": 200\n",
    "        }\n",
    "thresholds =  [{\n",
    "        \"metric_id\": \"area_under_roc\",\n",
    "        \"type\": \"lower_limit\",\n",
    "        \"value\": 0.75\n",
    "    }]\n",
    "wos_client.monitor_instances.create(\n",
    "        data_mart_id=datamart_id,\n",
    "        background_mode=False,\n",
    "        monitor_definition_id=wos_client.monitor_definitions.MONITORS.QUALITY.ID,\n",
    "        target=target,\n",
    "        parameters=parameters,\n",
    "        thresholds=thresholds\n",
    ")"
   ]
  },
  {
   "cell_type": "code",
   "execution_count": 277,
   "metadata": {},
   "outputs": [],
   "source": [
    "wos_client.data_sets.print_records_schema(data_set_id=payload_data_set_id)"
   ]
  },
  {
   "cell_type": "code",
   "execution_count": 309,
   "metadata": {},
   "outputs": [
    {
     "output_type": "display_data",
     "data": {
      "text/plain": "<IPython.core.display.HTML object>",
      "text/html": "<HTML>\n        <body>\n            <h3>Data Set f4791725-24f8-4a00-9c13-b331ebca47f6 Records</h3>\n            <table style='border: 1px solid #dddddd; font-family: Courier'>\n                <th style='border: 1px solid #dddddd'>WindDir9am_S</th><th style='border: 1px solid #dddddd'>asset_revision</th><th style='border: 1px solid #dddddd'>WindDir9am_ESE</th><th style='border: 1px solid #dddddd'>WindDir3pm_SSE</th><th style='border: 1px solid #dddddd'>WindGustSpeed</th><th style='border: 1px solid #dddddd'>CHOLESTEROL</th><th style='border: 1px solid #dddddd'>Rainfall</th><th style='border: 1px solid #dddddd'>scoring_id</th><th style='border: 1px solid #dddddd'>WindDir3pm_NW</th><th style='border: 1px solid #dddddd'>WindGustDir_NW</th><th style='border: 1px solid #dddddd'>WindGustDir_ESE</th><th style='border: 1px solid #dddddd'>Humidity3pm</th><th style='border: 1px solid #dddddd'>WindDir3pm_NNW</th><th style='border: 1px solid #dddddd'>BP</th><th style='border: 1px solid #dddddd'>scoring_timestamp</th><th style='border: 1px solid #dddddd'>WindGustDir_S</th><th style='border: 1px solid #dddddd'>WindGustDir_SW</th><th style='border: 1px solid #dddddd'>WindGustDir_WNW</th><th style='border: 1px solid #dddddd'>WindGustDir_NNW</th><th style='border: 1px solid #dddddd'>WindDir9am_NNW</th><th style='border: 1px solid #dddddd'>NA</th><th style='border: 1px solid #dddddd'>prediction_probability</th><th style='border: 1px solid #dddddd'>WindGustDir_SSW</th><th style='border: 1px solid #dddddd'>Pressure9am</th><th style='border: 1px solid #dddddd'>WindDir3pm_W</th><th style='border: 1px solid #dddddd'>WindDir9am_N</th><th style='border: 1px solid #dddddd'>WindDir3pm_WNW</th><th style='border: 1px solid #dddddd'>predictedLabel</th><th style='border: 1px solid #dddddd'>WindGustDir_W</th><th style='border: 1px solid #dddddd'>WindDir3pm_ENE</th><th style='border: 1px solid #dddddd'>WindDir3pm_SSW</th><th style='border: 1px solid #dddddd'>WindDir9am_NNE</th><th style='border: 1px solid #dddddd'>prediction</th><th style='border: 1px solid #dddddd'>WindDir9am_SSW</th><th style='border: 1px solid #dddddd'>Humidity9am</th><th style='border: 1px solid #dddddd'>WindDir3pm_N</th><th style='border: 1px solid #dddddd'>WindDir9am_WNW</th><th style='border: 1px solid #dddddd'>AGE</th><th style='border: 1px solid #dddddd'>SEX</th><th style='border: 1px solid #dddddd'>Pressure3pm</th><th style='border: 1px solid #dddddd'>WindGustDir_WSW</th><th style='border: 1px solid #dddddd'>WindDir3pm_ESE</th><th style='border: 1px solid #dddddd'>WindDir3pm_NNE</th><th style='border: 1px solid #dddddd'>WindSpeed9am</th><th style='border: 1px solid #dddddd'>WindDir3pm_S</th><th style='border: 1px solid #dddddd'>RainToday</th><th style='border: 1px solid #dddddd'>Temp3pm</th><th style='border: 1px solid #dddddd'>WindGustDir_N</th><th style='border: 1px solid #dddddd'>WindDir9am_WSW</th><th style='border: 1px solid #dddddd'>WindGustDir_NE</th><th style='border: 1px solid #dddddd'>WindDir3pm_SW</th><th style='border: 1px solid #dddddd'>WindDir9am_SSE</th><th style='border: 1px solid #dddddd'>WindDir3pm_E</th><th style='border: 1px solid #dddddd'>WindGustDir_ENE</th><th style='border: 1px solid #dddddd'>WindDir9am_SW</th><th style='border: 1px solid #dddddd'>WindDir9am_E</th><th style='border: 1px solid #dddddd'>Temp9am</th><th style='border: 1px solid #dddddd'>deployment_id</th><th style='border: 1px solid #dddddd'>WindGustDir_NNE</th><th style='border: 1px solid #dddddd'>MinTemp</th><th style='border: 1px solid #dddddd'>WindDir9am_W</th><th style='border: 1px solid #dddddd'>WindGustDir_SE</th><th style='border: 1px solid #dddddd'>K</th><th style='border: 1px solid #dddddd'>WindDir9am_ENE</th><th style='border: 1px solid #dddddd'>WindDir9am_NW</th><th style='border: 1px solid #dddddd'>WindGustDir_E</th><th style='border: 1px solid #dddddd'>WindDir3pm_NE</th><th style='border: 1px solid #dddddd'>WindSpeed3pm</th><th style='border: 1px solid #dddddd'>WindDir3pm_WSW</th><th style='border: 1px solid #dddddd'>WindDir9am_SE</th><th style='border: 1px solid #dddddd'>MaxTemp</th><th style='border: 1px solid #dddddd'>WindGustDir_SSE</th><th style='border: 1px solid #dddddd'>probability</th><th style='border: 1px solid #dddddd'>WindDir3pm_SE</th><th style='border: 1px solid #dddddd'>WindDir9am_NE</th>\n                <tr><td style='border: 1px solid #dddddd'>0.0</td><td style='border: 1px solid #dddddd'>None</td><td style='border: 1px solid #dddddd'>0.0</td><td style='border: 1px solid #dddddd'>0.0</td><td style='border: 1px solid #dddddd'>30.0</td><td style='border: 1px solid #dddddd'>None</td><td style='border: 1px solid #dddddd'>0.0</td><td style='border: 1px solid #dddddd'>1c35bcc6-5908-4575-bfd4-89c2652d1673-1</td><td style='border: 1px solid #dddddd'>0.0</td><td style='border: 1px solid #dddddd'>0.0</td><td style='border: 1px solid #dddddd'>0.0</td><td style='border: 1px solid #dddddd'>54.0</td><td style='border: 1px solid #dddddd'>0.0</td><td style='border: 1px solid #dddddd'>None</td><td style='border: 1px solid #dddddd'>2021-04-08T16:43:07.392Z</td><td style='border: 1px solid #dddddd'>0.0</td><td style='border: 1px solid #dddddd'>0.0</td><td style='border: 1px solid #dddddd'>0.0</td><td style='border: 1px solid #dddddd'>0.0</td><td style='border: 1px solid #dddddd'>0.0</td><td style='border: 1px solid #dddddd'>None</td><td style='border: 1px solid #dddddd'>0.8960021960941801</td><td style='border: 1px solid #dddddd'>0.0</td><td style='border: 1px solid #dddddd'>1018.8</td><td style='border: 1px solid #dddddd'>0.0</td><td style='border: 1px solid #dddddd'>0.0</td><td style='border: 1px solid #dddddd'>0.0</td><td style='border: 1px solid #dddddd'>None</td><td style='border: 1px solid #dddddd'>0.0</td><td style='border: 1px solid #dddddd'>0.0</td><td style='border: 1px solid #dddddd'>0.0</td><td style='border: 1px solid #dddddd'>0.0</td><td style='border: 1px solid #dddddd'>1</td><td style='border: 1px solid #dddddd'>0.0</td><td style='border: 1px solid #dddddd'>82.0</td><td style='border: 1px solid #dddddd'>0.0</td><td style='border: 1px solid #dddddd'>0.0</td><td style='border: 1px solid #dddddd'>None</td><td style='border: 1px solid #dddddd'>None</td><td style='border: 1px solid #dddddd'>1015.5</td><td style='border: 1px solid #dddddd'>0.0</td><td style='border: 1px solid #dddddd'>0.0</td><td style='border: 1px solid #dddddd'>0.0</td><td style='border: 1px solid #dddddd'>6.0</td><td style='border: 1px solid #dddddd'>0.0</td><td style='border: 1px solid #dddddd'>1.0</td><td style='border: 1px solid #dddddd'>26.4</td><td style='border: 1px solid #dddddd'>0.0</td><td style='border: 1px solid #dddddd'>0.0</td><td style='border: 1px solid #dddddd'>1.0</td><td style='border: 1px solid #dddddd'>0.0</td><td style='border: 1px solid #dddddd'>0.0</td><td style='border: 1px solid #dddddd'>0.0</td><td style='border: 1px solid #dddddd'>0.0</td><td style='border: 1px solid #dddddd'>1.0</td><td style='border: 1px solid #dddddd'>0.0</td><td style='border: 1px solid #dddddd'>22.2</td><td style='border: 1px solid #dddddd'>e02e481d-4e56-470f-baa9-ae84a583c0a8</td><td style='border: 1px solid #dddddd'>0.0</td><td style='border: 1px solid #dddddd'>16.5</td><td style='border: 1px solid #dddddd'>0.0</td><td style='border: 1px solid #dddddd'>0.0</td><td style='border: 1px solid #dddddd'>None</td><td style='border: 1px solid #dddddd'>0.0</td><td style='border: 1px solid #dddddd'>0.0</td><td style='border: 1px solid #dddddd'>0.0</td><td style='border: 1px solid #dddddd'>1.0</td><td style='border: 1px solid #dddddd'>19.0</td><td style='border: 1px solid #dddddd'>0.0</td><td style='border: 1px solid #dddddd'>0.0</td><td style='border: 1px solid #dddddd'>27.7</td><td style='border: 1px solid #dddddd'>0.0</td><td style='border: 1px solid #dddddd'>[0.10399780390581988, 0.8960021960941801]</td><td style='border: 1px solid #dddddd'>0.0</td><td style='border: 1px solid #dddddd'>0.0</td></tr><tr><td style='border: 1px solid #dddddd'>0.0</td><td style='border: 1px solid #dddddd'>None</td><td style='border: 1px solid #dddddd'>0.0</td><td style='border: 1px solid #dddddd'>0.0</td><td style='border: 1px solid #dddddd'>30.0</td><td style='border: 1px solid #dddddd'>None</td><td style='border: 1px solid #dddddd'>0.0</td><td style='border: 1px solid #dddddd'>1c35bcc6-5908-4575-bfd4-89c2652d1673-10</td><td style='border: 1px solid #dddddd'>0.0</td><td style='border: 1px solid #dddddd'>0.0</td><td style='border: 1px solid #dddddd'>0.0</td><td style='border: 1px solid #dddddd'>57.0</td><td style='border: 1px solid #dddddd'>0.0</td><td style='border: 1px solid #dddddd'>None</td><td style='border: 1px solid #dddddd'>2021-04-08T16:43:07.392Z</td><td style='border: 1px solid #dddddd'>0.0</td><td style='border: 1px solid #dddddd'>0.0</td><td style='border: 1px solid #dddddd'>1.0</td><td style='border: 1px solid #dddddd'>0.0</td><td style='border: 1px solid #dddddd'>0.0</td><td style='border: 1px solid #dddddd'>None</td><td style='border: 1px solid #dddddd'>0.8774910836882519</td><td style='border: 1px solid #dddddd'>0.0</td><td style='border: 1px solid #dddddd'>1022.6</td><td style='border: 1px solid #dddddd'>1.0</td><td style='border: 1px solid #dddddd'>0.0</td><td style='border: 1px solid #dddddd'>0.0</td><td style='border: 1px solid #dddddd'>None</td><td style='border: 1px solid #dddddd'>0.0</td><td style='border: 1px solid #dddddd'>0.0</td><td style='border: 1px solid #dddddd'>0.0</td><td style='border: 1px solid #dddddd'>0.0</td><td style='border: 1px solid #dddddd'>1</td><td style='border: 1px solid #dddddd'>0.0</td><td style='border: 1px solid #dddddd'>74.0</td><td style='border: 1px solid #dddddd'>0.0</td><td style='border: 1px solid #dddddd'>0.0</td><td style='border: 1px solid #dddddd'>None</td><td style='border: 1px solid #dddddd'>None</td><td style='border: 1px solid #dddddd'>1017.9</td><td style='border: 1px solid #dddddd'>0.0</td><td style='border: 1px solid #dddddd'>0.0</td><td style='border: 1px solid #dddddd'>0.0</td><td style='border: 1px solid #dddddd'>6.0</td><td style='border: 1px solid #dddddd'>0.0</td><td style='border: 1px solid #dddddd'>1.0</td><td style='border: 1px solid #dddddd'>17.0</td><td style='border: 1px solid #dddddd'>0.0</td><td style='border: 1px solid #dddddd'>0.0</td><td style='border: 1px solid #dddddd'>0.0</td><td style='border: 1px solid #dddddd'>0.0</td><td style='border: 1px solid #dddddd'>0.0</td><td style='border: 1px solid #dddddd'>0.0</td><td style='border: 1px solid #dddddd'>0.0</td><td style='border: 1px solid #dddddd'>0.0</td><td style='border: 1px solid #dddddd'>0.0</td><td style='border: 1px solid #dddddd'>10.6</td><td style='border: 1px solid #dddddd'>e02e481d-4e56-470f-baa9-ae84a583c0a8</td><td style='border: 1px solid #dddddd'>0.0</td><td style='border: 1px solid #dddddd'>7.5</td><td style='border: 1px solid #dddddd'>0.0</td><td style='border: 1px solid #dddddd'>0.0</td><td style='border: 1px solid #dddddd'>None</td><td style='border: 1px solid #dddddd'>0.0</td><td style='border: 1px solid #dddddd'>1.0</td><td style='border: 1px solid #dddddd'>0.0</td><td style='border: 1px solid #dddddd'>0.0</td><td style='border: 1px solid #dddddd'>19.0</td><td style='border: 1px solid #dddddd'>0.0</td><td style='border: 1px solid #dddddd'>0.0</td><td style='border: 1px solid #dddddd'>17.7</td><td style='border: 1px solid #dddddd'>0.0</td><td style='border: 1px solid #dddddd'>[0.12250891631174826, 0.8774910836882519]</td><td style='border: 1px solid #dddddd'>0.0</td><td style='border: 1px solid #dddddd'>0.0</td></tr><tr><td style='border: 1px solid #dddddd'>0.0</td><td style='border: 1px solid #dddddd'>None</td><td style='border: 1px solid #dddddd'>0.0</td><td style='border: 1px solid #dddddd'>0.0</td><td style='border: 1px solid #dddddd'>20.0</td><td style='border: 1px solid #dddddd'>None</td><td style='border: 1px solid #dddddd'>5.2</td><td style='border: 1px solid #dddddd'>1c35bcc6-5908-4575-bfd4-89c2652d1673-100</td><td style='border: 1px solid #dddddd'>0.0</td><td style='border: 1px solid #dddddd'>0.0</td><td style='border: 1px solid #dddddd'>0.0</td><td style='border: 1px solid #dddddd'>100.0</td><td style='border: 1px solid #dddddd'>0.0</td><td style='border: 1px solid #dddddd'>None</td><td style='border: 1px solid #dddddd'>2021-04-08T16:43:07.392Z</td><td style='border: 1px solid #dddddd'>0.0</td><td style='border: 1px solid #dddddd'>0.0</td><td style='border: 1px solid #dddddd'>0.0</td><td style='border: 1px solid #dddddd'>0.0</td><td style='border: 1px solid #dddddd'>0.0</td><td style='border: 1px solid #dddddd'>None</td><td style='border: 1px solid #dddddd'>0.7080382492167161</td><td style='border: 1px solid #dddddd'>0.0</td><td style='border: 1px solid #dddddd'>1020.5</td><td style='border: 1px solid #dddddd'>0.0</td><td style='border: 1px solid #dddddd'>0.0</td><td style='border: 1px solid #dddddd'>0.0</td><td style='border: 1px solid #dddddd'>None</td><td style='border: 1px solid #dddddd'>0.0</td><td style='border: 1px solid #dddddd'>0.0</td><td style='border: 1px solid #dddddd'>0.0</td><td style='border: 1px solid #dddddd'>0.0</td><td style='border: 1px solid #dddddd'>0</td><td style='border: 1px solid #dddddd'>1.0</td><td style='border: 1px solid #dddddd'>97.0</td><td style='border: 1px solid #dddddd'>0.0</td><td style='border: 1px solid #dddddd'>0.0</td><td style='border: 1px solid #dddddd'>None</td><td style='border: 1px solid #dddddd'>None</td><td style='border: 1px solid #dddddd'>1019.1</td><td style='border: 1px solid #dddddd'>0.0</td><td style='border: 1px solid #dddddd'>0.0</td><td style='border: 1px solid #dddddd'>0.0</td><td style='border: 1px solid #dddddd'>9.0</td><td style='border: 1px solid #dddddd'>0.0</td><td style='border: 1px solid #dddddd'>0.0</td><td style='border: 1px solid #dddddd'>19.7</td><td style='border: 1px solid #dddddd'>0.0</td><td style='border: 1px solid #dddddd'>0.0</td><td style='border: 1px solid #dddddd'>0.0</td><td style='border: 1px solid #dddddd'>0.0</td><td style='border: 1px solid #dddddd'>0.0</td><td style='border: 1px solid #dddddd'>0.0</td><td style='border: 1px solid #dddddd'>1.0</td><td style='border: 1px solid #dddddd'>0.0</td><td style='border: 1px solid #dddddd'>0.0</td><td style='border: 1px solid #dddddd'>19.0</td><td style='border: 1px solid #dddddd'>e02e481d-4e56-470f-baa9-ae84a583c0a8</td><td style='border: 1px solid #dddddd'>0.0</td><td style='border: 1px solid #dddddd'>17.2</td><td style='border: 1px solid #dddddd'>0.0</td><td style='border: 1px solid #dddddd'>0.0</td><td style='border: 1px solid #dddddd'>None</td><td style='border: 1px solid #dddddd'>0.0</td><td style='border: 1px solid #dddddd'>0.0</td><td style='border: 1px solid #dddddd'>0.0</td><td style='border: 1px solid #dddddd'>0.0</td><td style='border: 1px solid #dddddd'>9.0</td><td style='border: 1px solid #dddddd'>1.0</td><td style='border: 1px solid #dddddd'>0.0</td><td style='border: 1px solid #dddddd'>20.5</td><td style='border: 1px solid #dddddd'>0.0</td><td style='border: 1px solid #dddddd'>[0.7080382492167161, 0.2919617507832842]</td><td style='border: 1px solid #dddddd'>0.0</td><td style='border: 1px solid #dddddd'>0.0</td></tr><tr><td style='border: 1px solid #dddddd'>0.0</td><td style='border: 1px solid #dddddd'>None</td><td style='border: 1px solid #dddddd'>1.0</td><td style='border: 1px solid #dddddd'>0.0</td><td style='border: 1px solid #dddddd'>35.0</td><td style='border: 1px solid #dddddd'>None</td><td style='border: 1px solid #dddddd'>0.0</td><td style='border: 1px solid #dddddd'>1c35bcc6-5908-4575-bfd4-89c2652d1673-1000</td><td style='border: 1px solid #dddddd'>0.0</td><td style='border: 1px solid #dddddd'>0.0</td><td style='border: 1px solid #dddddd'>0.0</td><td style='border: 1px solid #dddddd'>13.0</td><td style='border: 1px solid #dddddd'>0.0</td><td style='border: 1px solid #dddddd'>None</td><td style='border: 1px solid #dddddd'>2021-04-08T16:43:07.392Z</td><td style='border: 1px solid #dddddd'>0.0</td><td style='border: 1px solid #dddddd'>0.0</td><td style='border: 1px solid #dddddd'>0.0</td><td style='border: 1px solid #dddddd'>0.0</td><td style='border: 1px solid #dddddd'>0.0</td><td style='border: 1px solid #dddddd'>None</td><td style='border: 1px solid #dddddd'>0.9557435821095513</td><td style='border: 1px solid #dddddd'>0.0</td><td style='border: 1px solid #dddddd'>1016.0</td><td style='border: 1px solid #dddddd'>0.0</td><td style='border: 1px solid #dddddd'>0.0</td><td style='border: 1px solid #dddddd'>0.0</td><td style='border: 1px solid #dddddd'>None</td><td style='border: 1px solid #dddddd'>0.0</td><td style='border: 1px solid #dddddd'>0.0</td><td style='border: 1px solid #dddddd'>0.0</td><td style='border: 1px solid #dddddd'>0.0</td><td style='border: 1px solid #dddddd'>1</td><td style='border: 1px solid #dddddd'>0.0</td><td style='border: 1px solid #dddddd'>22.0</td><td style='border: 1px solid #dddddd'>0.0</td><td style='border: 1px solid #dddddd'>0.0</td><td style='border: 1px solid #dddddd'>None</td><td style='border: 1px solid #dddddd'>None</td><td style='border: 1px solid #dddddd'>1012.3</td><td style='border: 1px solid #dddddd'>0.0</td><td style='border: 1px solid #dddddd'>1.0</td><td style='border: 1px solid #dddddd'>0.0</td><td style='border: 1px solid #dddddd'>15.0</td><td style='border: 1px solid #dddddd'>0.0</td><td style='border: 1px solid #dddddd'>1.0</td><td style='border: 1px solid #dddddd'>35.8</td><td style='border: 1px solid #dddddd'>0.0</td><td style='border: 1px solid #dddddd'>0.0</td><td style='border: 1px solid #dddddd'>0.0</td><td style='border: 1px solid #dddddd'>0.0</td><td style='border: 1px solid #dddddd'>0.0</td><td style='border: 1px solid #dddddd'>0.0</td><td style='border: 1px solid #dddddd'>0.0</td><td style='border: 1px solid #dddddd'>0.0</td><td style='border: 1px solid #dddddd'>0.0</td><td style='border: 1px solid #dddddd'>27.5</td><td style='border: 1px solid #dddddd'>e02e481d-4e56-470f-baa9-ae84a583c0a8</td><td style='border: 1px solid #dddddd'>0.0</td><td style='border: 1px solid #dddddd'>18.6</td><td style='border: 1px solid #dddddd'>0.0</td><td style='border: 1px solid #dddddd'>0.0</td><td style='border: 1px solid #dddddd'>None</td><td style='border: 1px solid #dddddd'>0.0</td><td style='border: 1px solid #dddddd'>0.0</td><td style='border: 1px solid #dddddd'>1.0</td><td style='border: 1px solid #dddddd'>0.0</td><td style='border: 1px solid #dddddd'>22.0</td><td style='border: 1px solid #dddddd'>0.0</td><td style='border: 1px solid #dddddd'>0.0</td><td style='border: 1px solid #dddddd'>36.2</td><td style='border: 1px solid #dddddd'>0.0</td><td style='border: 1px solid #dddddd'>[0.04425641789044899, 0.9557435821095513]</td><td style='border: 1px solid #dddddd'>0.0</td><td style='border: 1px solid #dddddd'>0.0</td></tr><tr><td style='border: 1px solid #dddddd'>0.0</td><td style='border: 1px solid #dddddd'>None</td><td style='border: 1px solid #dddddd'>0.0</td><td style='border: 1px solid #dddddd'>0.0</td><td style='border: 1px solid #dddddd'>39.0</td><td style='border: 1px solid #dddddd'>None</td><td style='border: 1px solid #dddddd'>2.6</td><td style='border: 1px solid #dddddd'>1c35bcc6-5908-4575-bfd4-89c2652d1673-1001</td><td style='border: 1px solid #dddddd'>0.0</td><td style='border: 1px solid #dddddd'>0.0</td><td style='border: 1px solid #dddddd'>0.0</td><td style='border: 1px solid #dddddd'>84.0</td><td style='border: 1px solid #dddddd'>0.0</td><td style='border: 1px solid #dddddd'>None</td><td style='border: 1px solid #dddddd'>2021-04-08T16:43:07.392Z</td><td style='border: 1px solid #dddddd'>0.0</td><td style='border: 1px solid #dddddd'>0.0</td><td style='border: 1px solid #dddddd'>0.0</td><td style='border: 1px solid #dddddd'>0.0</td><td style='border: 1px solid #dddddd'>0.0</td><td style='border: 1px solid #dddddd'>None</td><td style='border: 1px solid #dddddd'>0.565983966107809</td><td style='border: 1px solid #dddddd'>0.0</td><td style='border: 1px solid #dddddd'>1020.1</td><td style='border: 1px solid #dddddd'>0.0</td><td style='border: 1px solid #dddddd'>0.0</td><td style='border: 1px solid #dddddd'>0.0</td><td style='border: 1px solid #dddddd'>None</td><td style='border: 1px solid #dddddd'>0.0</td><td style='border: 1px solid #dddddd'>0.0</td><td style='border: 1px solid #dddddd'>0.0</td><td style='border: 1px solid #dddddd'>0.0</td><td style='border: 1px solid #dddddd'>0</td><td style='border: 1px solid #dddddd'>0.0</td><td style='border: 1px solid #dddddd'>100.0</td><td style='border: 1px solid #dddddd'>0.0</td><td style='border: 1px solid #dddddd'>0.0</td><td style='border: 1px solid #dddddd'>None</td><td style='border: 1px solid #dddddd'>None</td><td style='border: 1px solid #dddddd'>1018.1</td><td style='border: 1px solid #dddddd'>0.0</td><td style='border: 1px solid #dddddd'>0.0</td><td style='border: 1px solid #dddddd'>0.0</td><td style='border: 1px solid #dddddd'>6.0</td><td style='border: 1px solid #dddddd'>0.0</td><td style='border: 1px solid #dddddd'>0.0</td><td style='border: 1px solid #dddddd'>10.8</td><td style='border: 1px solid #dddddd'>0.0</td><td style='border: 1px solid #dddddd'>0.0</td><td style='border: 1px solid #dddddd'>1.0</td><td style='border: 1px solid #dddddd'>0.0</td><td style='border: 1px solid #dddddd'>0.0</td><td style='border: 1px solid #dddddd'>0.0</td><td style='border: 1px solid #dddddd'>0.0</td><td style='border: 1px solid #dddddd'>0.0</td><td style='border: 1px solid #dddddd'>0.0</td><td style='border: 1px solid #dddddd'>8.7</td><td style='border: 1px solid #dddddd'>e02e481d-4e56-470f-baa9-ae84a583c0a8</td><td style='border: 1px solid #dddddd'>0.0</td><td style='border: 1px solid #dddddd'>5.6</td><td style='border: 1px solid #dddddd'>0.0</td><td style='border: 1px solid #dddddd'>0.0</td><td style='border: 1px solid #dddddd'>None</td><td style='border: 1px solid #dddddd'>0.0</td><td style='border: 1px solid #dddddd'>0.0</td><td style='border: 1px solid #dddddd'>0.0</td><td style='border: 1px solid #dddddd'>1.0</td><td style='border: 1px solid #dddddd'>15.0</td><td style='border: 1px solid #dddddd'>0.0</td><td style='border: 1px solid #dddddd'>0.0</td><td style='border: 1px solid #dddddd'>14.0</td><td style='border: 1px solid #dddddd'>0.0</td><td style='border: 1px solid #dddddd'>[0.565983966107809, 0.43401603389219084]</td><td style='border: 1px solid #dddddd'>0.0</td><td style='border: 1px solid #dddddd'>1.0</td></tr><tr><td style='border: 1px solid #dddddd'>0.0</td><td style='border: 1px solid #dddddd'>None</td><td style='border: 1px solid #dddddd'>0.0</td><td style='border: 1px solid #dddddd'>0.0</td><td style='border: 1px solid #dddddd'>33.0</td><td style='border: 1px solid #dddddd'>None</td><td style='border: 1px solid #dddddd'>0.6</td><td style='border: 1px solid #dddddd'>1c35bcc6-5908-4575-bfd4-89c2652d1673-1002</td><td style='border: 1px solid #dddddd'>0.0</td><td style='border: 1px solid #dddddd'>0.0</td><td style='border: 1px solid #dddddd'>0.0</td><td style='border: 1px solid #dddddd'>65.0</td><td style='border: 1px solid #dddddd'>0.0</td><td style='border: 1px solid #dddddd'>None</td><td style='border: 1px solid #dddddd'>2021-04-08T16:43:07.392Z</td><td style='border: 1px solid #dddddd'>0.0</td><td style='border: 1px solid #dddddd'>0.0</td><td style='border: 1px solid #dddddd'>0.0</td><td style='border: 1px solid #dddddd'>0.0</td><td style='border: 1px solid #dddddd'>0.0</td><td style='border: 1px solid #dddddd'>None</td><td style='border: 1px solid #dddddd'>0.8611606072872472</td><td style='border: 1px solid #dddddd'>0.0</td><td style='border: 1px solid #dddddd'>1027.7</td><td style='border: 1px solid #dddddd'>0.0</td><td style='border: 1px solid #dddddd'>0.0</td><td style='border: 1px solid #dddddd'>0.0</td><td style='border: 1px solid #dddddd'>None</td><td style='border: 1px solid #dddddd'>1.0</td><td style='border: 1px solid #dddddd'>0.0</td><td style='border: 1px solid #dddddd'>0.0</td><td style='border: 1px solid #dddddd'>0.0</td><td style='border: 1px solid #dddddd'>1</td><td style='border: 1px solid #dddddd'>0.0</td><td style='border: 1px solid #dddddd'>95.0</td><td style='border: 1px solid #dddddd'>0.0</td><td style='border: 1px solid #dddddd'>0.0</td><td style='border: 1px solid #dddddd'>None</td><td style='border: 1px solid #dddddd'>None</td><td style='border: 1px solid #dddddd'>1027.1</td><td style='border: 1px solid #dddddd'>0.0</td><td style='border: 1px solid #dddddd'>0.0</td><td style='border: 1px solid #dddddd'>0.0</td><td style='border: 1px solid #dddddd'>13.0</td><td style='border: 1px solid #dddddd'>1.0</td><td style='border: 1px solid #dddddd'>1.0</td><td style='border: 1px solid #dddddd'>14.7</td><td style='border: 1px solid #dddddd'>0.0</td><td style='border: 1px solid #dddddd'>0.0</td><td style='border: 1px solid #dddddd'>0.0</td><td style='border: 1px solid #dddddd'>0.0</td><td style='border: 1px solid #dddddd'>0.0</td><td style='border: 1px solid #dddddd'>0.0</td><td style='border: 1px solid #dddddd'>0.0</td><td style='border: 1px solid #dddddd'>0.0</td><td style='border: 1px solid #dddddd'>0.0</td><td style='border: 1px solid #dddddd'>11.6</td><td style='border: 1px solid #dddddd'>e02e481d-4e56-470f-baa9-ae84a583c0a8</td><td style='border: 1px solid #dddddd'>0.0</td><td style='border: 1px solid #dddddd'>5.9</td><td style='border: 1px solid #dddddd'>1.0</td><td style='border: 1px solid #dddddd'>0.0</td><td style='border: 1px solid #dddddd'>None</td><td style='border: 1px solid #dddddd'>0.0</td><td style='border: 1px solid #dddddd'>0.0</td><td style='border: 1px solid #dddddd'>0.0</td><td style='border: 1px solid #dddddd'>0.0</td><td style='border: 1px solid #dddddd'>15.0</td><td style='border: 1px solid #dddddd'>0.0</td><td style='border: 1px solid #dddddd'>0.0</td><td style='border: 1px solid #dddddd'>15.7</td><td style='border: 1px solid #dddddd'>0.0</td><td style='border: 1px solid #dddddd'>[0.13883939271275325, 0.8611606072872472]</td><td style='border: 1px solid #dddddd'>0.0</td><td style='border: 1px solid #dddddd'>0.0</td></tr><tr><td style='border: 1px solid #dddddd'>0.0</td><td style='border: 1px solid #dddddd'>None</td><td style='border: 1px solid #dddddd'>0.0</td><td style='border: 1px solid #dddddd'>0.0</td><td style='border: 1px solid #dddddd'>35.0</td><td style='border: 1px solid #dddddd'>None</td><td style='border: 1px solid #dddddd'>0.0</td><td style='border: 1px solid #dddddd'>1c35bcc6-5908-4575-bfd4-89c2652d1673-1003</td><td style='border: 1px solid #dddddd'>0.0</td><td style='border: 1px solid #dddddd'>0.0</td><td style='border: 1px solid #dddddd'>0.0</td><td style='border: 1px solid #dddddd'>40.0</td><td style='border: 1px solid #dddddd'>0.0</td><td style='border: 1px solid #dddddd'>None</td><td style='border: 1px solid #dddddd'>2021-04-08T16:43:07.392Z</td><td style='border: 1px solid #dddddd'>0.0</td><td style='border: 1px solid #dddddd'>1.0</td><td style='border: 1px solid #dddddd'>0.0</td><td style='border: 1px solid #dddddd'>0.0</td><td style='border: 1px solid #dddddd'>0.0</td><td style='border: 1px solid #dddddd'>None</td><td style='border: 1px solid #dddddd'>0.9365173080808146</td><td style='border: 1px solid #dddddd'>0.0</td><td style='border: 1px solid #dddddd'>1019.4</td><td style='border: 1px solid #dddddd'>0.0</td><td style='border: 1px solid #dddddd'>0.0</td><td style='border: 1px solid #dddddd'>0.0</td><td style='border: 1px solid #dddddd'>None</td><td style='border: 1px solid #dddddd'>0.0</td><td style='border: 1px solid #dddddd'>0.0</td><td style='border: 1px solid #dddddd'>0.0</td><td style='border: 1px solid #dddddd'>0.0</td><td style='border: 1px solid #dddddd'>1</td><td style='border: 1px solid #dddddd'>0.0</td><td style='border: 1px solid #dddddd'>59.0</td><td style='border: 1px solid #dddddd'>0.0</td><td style='border: 1px solid #dddddd'>0.0</td><td style='border: 1px solid #dddddd'>None</td><td style='border: 1px solid #dddddd'>None</td><td style='border: 1px solid #dddddd'>1018.8</td><td style='border: 1px solid #dddddd'>0.0</td><td style='border: 1px solid #dddddd'>0.0</td><td style='border: 1px solid #dddddd'>0.0</td><td style='border: 1px solid #dddddd'>15.0</td><td style='border: 1px solid #dddddd'>0.0</td><td style='border: 1px solid #dddddd'>1.0</td><td style='border: 1px solid #dddddd'>19.4</td><td style='border: 1px solid #dddddd'>0.0</td><td style='border: 1px solid #dddddd'>0.0</td><td style='border: 1px solid #dddddd'>0.0</td><td style='border: 1px solid #dddddd'>1.0</td><td style='border: 1px solid #dddddd'>0.0</td><td style='border: 1px solid #dddddd'>0.0</td><td style='border: 1px solid #dddddd'>0.0</td><td style='border: 1px solid #dddddd'>1.0</td><td style='border: 1px solid #dddddd'>0.0</td><td style='border: 1px solid #dddddd'>15.5</td><td style='border: 1px solid #dddddd'>e02e481d-4e56-470f-baa9-ae84a583c0a8</td><td style='border: 1px solid #dddddd'>0.0</td><td style='border: 1px solid #dddddd'>7.7</td><td style='border: 1px solid #dddddd'>0.0</td><td style='border: 1px solid #dddddd'>0.0</td><td style='border: 1px solid #dddddd'>None</td><td style='border: 1px solid #dddddd'>0.0</td><td style='border: 1px solid #dddddd'>0.0</td><td style='border: 1px solid #dddddd'>0.0</td><td style='border: 1px solid #dddddd'>0.0</td><td style='border: 1px solid #dddddd'>19.0</td><td style='border: 1px solid #dddddd'>0.0</td><td style='border: 1px solid #dddddd'>0.0</td><td style='border: 1px solid #dddddd'>19.9</td><td style='border: 1px solid #dddddd'>0.0</td><td style='border: 1px solid #dddddd'>[0.06348269191918501, 0.9365173080808146]</td><td style='border: 1px solid #dddddd'>0.0</td><td style='border: 1px solid #dddddd'>0.0</td></tr><tr><td style='border: 1px solid #dddddd'>0.0</td><td style='border: 1px solid #dddddd'>None</td><td style='border: 1px solid #dddddd'>0.0</td><td style='border: 1px solid #dddddd'>0.0</td><td style='border: 1px solid #dddddd'>33.0</td><td style='border: 1px solid #dddddd'>None</td><td style='border: 1px solid #dddddd'>0.0</td><td style='border: 1px solid #dddddd'>1c35bcc6-5908-4575-bfd4-89c2652d1673-1004</td><td style='border: 1px solid #dddddd'>0.0</td><td style='border: 1px solid #dddddd'>0.0</td><td style='border: 1px solid #dddddd'>0.0</td><td style='border: 1px solid #dddddd'>60.0</td><td style='border: 1px solid #dddddd'>0.0</td><td style='border: 1px solid #dddddd'>None</td><td style='border: 1px solid #dddddd'>2021-04-08T16:43:07.392Z</td><td style='border: 1px solid #dddddd'>0.0</td><td style='border: 1px solid #dddddd'>0.0</td><td style='border: 1px solid #dddddd'>0.0</td><td style='border: 1px solid #dddddd'>0.0</td><td style='border: 1px solid #dddddd'>0.0</td><td style='border: 1px solid #dddddd'>None</td><td style='border: 1px solid #dddddd'>0.860317877172551</td><td style='border: 1px solid #dddddd'>0.0</td><td style='border: 1px solid #dddddd'>1012.0</td><td style='border: 1px solid #dddddd'>0.0</td><td style='border: 1px solid #dddddd'>0.0</td><td style='border: 1px solid #dddddd'>0.0</td><td style='border: 1px solid #dddddd'>None</td><td style='border: 1px solid #dddddd'>0.0</td><td style='border: 1px solid #dddddd'>0.0</td><td style='border: 1px solid #dddddd'>0.0</td><td style='border: 1px solid #dddddd'>1.0</td><td style='border: 1px solid #dddddd'>1</td><td style='border: 1px solid #dddddd'>0.0</td><td style='border: 1px solid #dddddd'>62.0</td><td style='border: 1px solid #dddddd'>0.0</td><td style='border: 1px solid #dddddd'>0.0</td><td style='border: 1px solid #dddddd'>None</td><td style='border: 1px solid #dddddd'>None</td><td style='border: 1px solid #dddddd'>1009.9</td><td style='border: 1px solid #dddddd'>0.0</td><td style='border: 1px solid #dddddd'>0.0</td><td style='border: 1px solid #dddddd'>1.0</td><td style='border: 1px solid #dddddd'>13.0</td><td style='border: 1px solid #dddddd'>0.0</td><td style='border: 1px solid #dddddd'>1.0</td><td style='border: 1px solid #dddddd'>28.2</td><td style='border: 1px solid #dddddd'>0.0</td><td style='border: 1px solid #dddddd'>0.0</td><td style='border: 1px solid #dddddd'>0.0</td><td style='border: 1px solid #dddddd'>0.0</td><td style='border: 1px solid #dddddd'>0.0</td><td style='border: 1px solid #dddddd'>0.0</td><td style='border: 1px solid #dddddd'>0.0</td><td style='border: 1px solid #dddddd'>0.0</td><td style='border: 1px solid #dddddd'>0.0</td><td style='border: 1px solid #dddddd'>27.9</td><td style='border: 1px solid #dddddd'>e02e481d-4e56-470f-baa9-ae84a583c0a8</td><td style='border: 1px solid #dddddd'>1.0</td><td style='border: 1px solid #dddddd'>17.5</td><td style='border: 1px solid #dddddd'>0.0</td><td style='border: 1px solid #dddddd'>0.0</td><td style='border: 1px solid #dddddd'>None</td><td style='border: 1px solid #dddddd'>0.0</td><td style='border: 1px solid #dddddd'>0.0</td><td style='border: 1px solid #dddddd'>0.0</td><td style='border: 1px solid #dddddd'>0.0</td><td style='border: 1px solid #dddddd'>17.0</td><td style='border: 1px solid #dddddd'>0.0</td><td style='border: 1px solid #dddddd'>0.0</td><td style='border: 1px solid #dddddd'>30.4</td><td style='border: 1px solid #dddddd'>0.0</td><td style='border: 1px solid #dddddd'>[0.13968212282744893, 0.860317877172551]</td><td style='border: 1px solid #dddddd'>0.0</td><td style='border: 1px solid #dddddd'>0.0</td></tr><tr><td style='border: 1px solid #dddddd'>0.0</td><td style='border: 1px solid #dddddd'>None</td><td style='border: 1px solid #dddddd'>0.0</td><td style='border: 1px solid #dddddd'>0.0</td><td style='border: 1px solid #dddddd'>33.0</td><td style='border: 1px solid #dddddd'>None</td><td style='border: 1px solid #dddddd'>0.0</td><td style='border: 1px solid #dddddd'>1c35bcc6-5908-4575-bfd4-89c2652d1673-1005</td><td style='border: 1px solid #dddddd'>0.0</td><td style='border: 1px solid #dddddd'>0.0</td><td style='border: 1px solid #dddddd'>0.0</td><td style='border: 1px solid #dddddd'>25.0</td><td style='border: 1px solid #dddddd'>0.0</td><td style='border: 1px solid #dddddd'>None</td><td style='border: 1px solid #dddddd'>2021-04-08T16:43:07.392Z</td><td style='border: 1px solid #dddddd'>0.0</td><td style='border: 1px solid #dddddd'>0.0</td><td style='border: 1px solid #dddddd'>0.0</td><td style='border: 1px solid #dddddd'>0.0</td><td style='border: 1px solid #dddddd'>0.0</td><td style='border: 1px solid #dddddd'>None</td><td style='border: 1px solid #dddddd'>0.9374039255607882</td><td style='border: 1px solid #dddddd'>1.0</td><td style='border: 1px solid #dddddd'>1015.4</td><td style='border: 1px solid #dddddd'>0.0</td><td style='border: 1px solid #dddddd'>0.0</td><td style='border: 1px solid #dddddd'>0.0</td><td style='border: 1px solid #dddddd'>None</td><td style='border: 1px solid #dddddd'>0.0</td><td style='border: 1px solid #dddddd'>1.0</td><td style='border: 1px solid #dddddd'>0.0</td><td style='border: 1px solid #dddddd'>0.0</td><td style='border: 1px solid #dddddd'>1</td><td style='border: 1px solid #dddddd'>0.0</td><td style='border: 1px solid #dddddd'>15.0</td><td style='border: 1px solid #dddddd'>0.0</td><td style='border: 1px solid #dddddd'>0.0</td><td style='border: 1px solid #dddddd'>None</td><td style='border: 1px solid #dddddd'>None</td><td style='border: 1px solid #dddddd'>1010.8</td><td style='border: 1px solid #dddddd'>0.0</td><td style='border: 1px solid #dddddd'>0.0</td><td style='border: 1px solid #dddddd'>0.0</td><td style='border: 1px solid #dddddd'>22.0</td><td style='border: 1px solid #dddddd'>0.0</td><td style='border: 1px solid #dddddd'>1.0</td><td style='border: 1px solid #dddddd'>29.2</td><td style='border: 1px solid #dddddd'>0.0</td><td style='border: 1px solid #dddddd'>0.0</td><td style='border: 1px solid #dddddd'>0.0</td><td style='border: 1px solid #dddddd'>0.0</td><td style='border: 1px solid #dddddd'>0.0</td><td style='border: 1px solid #dddddd'>0.0</td><td style='border: 1px solid #dddddd'>0.0</td><td style='border: 1px solid #dddddd'>1.0</td><td style='border: 1px solid #dddddd'>0.0</td><td style='border: 1px solid #dddddd'>24.9</td><td style='border: 1px solid #dddddd'>e02e481d-4e56-470f-baa9-ae84a583c0a8</td><td style='border: 1px solid #dddddd'>0.0</td><td style='border: 1px solid #dddddd'>18.1</td><td style='border: 1px solid #dddddd'>0.0</td><td style='border: 1px solid #dddddd'>0.0</td><td style='border: 1px solid #dddddd'>None</td><td style='border: 1px solid #dddddd'>0.0</td><td style='border: 1px solid #dddddd'>0.0</td><td style='border: 1px solid #dddddd'>0.0</td><td style='border: 1px solid #dddddd'>0.0</td><td style='border: 1px solid #dddddd'>20.0</td><td style='border: 1px solid #dddddd'>0.0</td><td style='border: 1px solid #dddddd'>0.0</td><td style='border: 1px solid #dddddd'>31.1</td><td style='border: 1px solid #dddddd'>0.0</td><td style='border: 1px solid #dddddd'>[0.06259607443921265, 0.9374039255607882]</td><td style='border: 1px solid #dddddd'>0.0</td><td style='border: 1px solid #dddddd'>0.0</td></tr><tr><td style='border: 1px solid #dddddd'>0.0</td><td style='border: 1px solid #dddddd'>None</td><td style='border: 1px solid #dddddd'>0.0</td><td style='border: 1px solid #dddddd'>0.0</td><td style='border: 1px solid #dddddd'>44.0</td><td style='border: 1px solid #dddddd'>None</td><td style='border: 1px solid #dddddd'>0.0</td><td style='border: 1px solid #dddddd'>1c35bcc6-5908-4575-bfd4-89c2652d1673-1006</td><td style='border: 1px solid #dddddd'>0.0</td><td style='border: 1px solid #dddddd'>0.0</td><td style='border: 1px solid #dddddd'>0.0</td><td style='border: 1px solid #dddddd'>50.0</td><td style='border: 1px solid #dddddd'>0.0</td><td style='border: 1px solid #dddddd'>None</td><td style='border: 1px solid #dddddd'>2021-04-08T16:43:07.392Z</td><td style='border: 1px solid #dddddd'>1.0</td><td style='border: 1px solid #dddddd'>0.0</td><td style='border: 1px solid #dddddd'>0.0</td><td style='border: 1px solid #dddddd'>0.0</td><td style='border: 1px solid #dddddd'>0.0</td><td style='border: 1px solid #dddddd'>None</td><td style='border: 1px solid #dddddd'>0.8965698678841888</td><td style='border: 1px solid #dddddd'>0.0</td><td style='border: 1px solid #dddddd'>1025.6</td><td style='border: 1px solid #dddddd'>0.0</td><td style='border: 1px solid #dddddd'>0.0</td><td style='border: 1px solid #dddddd'>0.0</td><td style='border: 1px solid #dddddd'>None</td><td style='border: 1px solid #dddddd'>0.0</td><td style='border: 1px solid #dddddd'>0.0</td><td style='border: 1px solid #dddddd'>1.0</td><td style='border: 1px solid #dddddd'>0.0</td><td style='border: 1px solid #dddddd'>1</td><td style='border: 1px solid #dddddd'>1.0</td><td style='border: 1px solid #dddddd'>88.0</td><td style='border: 1px solid #dddddd'>0.0</td><td style='border: 1px solid #dddddd'>0.0</td><td style='border: 1px solid #dddddd'>None</td><td style='border: 1px solid #dddddd'>None</td><td style='border: 1px solid #dddddd'>1024.6</td><td style='border: 1px solid #dddddd'>0.0</td><td style='border: 1px solid #dddddd'>0.0</td><td style='border: 1px solid #dddddd'>0.0</td><td style='border: 1px solid #dddddd'>26.0</td><td style='border: 1px solid #dddddd'>0.0</td><td style='border: 1px solid #dddddd'>1.0</td><td style='border: 1px solid #dddddd'>18.0</td><td style='border: 1px solid #dddddd'>0.0</td><td style='border: 1px solid #dddddd'>0.0</td><td style='border: 1px solid #dddddd'>0.0</td><td style='border: 1px solid #dddddd'>0.0</td><td style='border: 1px solid #dddddd'>0.0</td><td style='border: 1px solid #dddddd'>0.0</td><td style='border: 1px solid #dddddd'>0.0</td><td style='border: 1px solid #dddddd'>0.0</td><td style='border: 1px solid #dddddd'>0.0</td><td style='border: 1px solid #dddddd'>12.1</td><td style='border: 1px solid #dddddd'>e02e481d-4e56-470f-baa9-ae84a583c0a8</td><td style='border: 1px solid #dddddd'>0.0</td><td style='border: 1px solid #dddddd'>8.1</td><td style='border: 1px solid #dddddd'>0.0</td><td style='border: 1px solid #dddddd'>0.0</td><td style='border: 1px solid #dddddd'>None</td><td style='border: 1px solid #dddddd'>0.0</td><td style='border: 1px solid #dddddd'>0.0</td><td style='border: 1px solid #dddddd'>0.0</td><td style='border: 1px solid #dddddd'>0.0</td><td style='border: 1px solid #dddddd'>28.0</td><td style='border: 1px solid #dddddd'>0.0</td><td style='border: 1px solid #dddddd'>0.0</td><td style='border: 1px solid #dddddd'>20.0</td><td style='border: 1px solid #dddddd'>0.0</td><td style='border: 1px solid #dddddd'>[0.10343013211581115, 0.8965698678841888]</td><td style='border: 1px solid #dddddd'>0.0</td><td style='border: 1px solid #dddddd'>0.0</td></tr>\n            </table>\n        </body>\n        </HTML>"
     },
     "metadata": {}
    }
   ],
   "source": [
    "# records = [PayloadRecord(request=payload_scoring, response=scoring_response, response_time=72)]\n",
    "\n",
    "\n",
    "x = wos_client.data_sets.show_records(data_set_id=payload_data_set_id)\n",
    "x"
   ]
  },
  {
   "cell_type": "code",
   "execution_count": 184,
   "metadata": {},
   "outputs": [],
   "source": [
    "records2 = wos_client.data_sets.get_list_of_records(data_set_id=payload_data_set_id,\n",
    "                                                   output_type=ResponseTypes.PANDAS\n",
    "   )\n",
    "df = records2.result\n",
    "\n",
    "# import pandas as pd\n",
    "# import numpy as np\n",
    "# # df.to_csv('res.csv',index=False)\n",
    "# df['RainTomorrow'] = np.random.randint(2, size=df.shape[0])#.toarray().tolist()\n",
    "# df.to_csv('res.csv',index=False)\n",
    "\n"
   ]
  },
  {
   "cell_type": "code",
   "execution_count": 325,
   "metadata": {},
   "outputs": [
    {
     "output_type": "display_data",
     "data": {
      "text/plain": "<Figure size 432x288 with 1 Axes>",
      "image/svg+xml": "<?xml version=\"1.0\" encoding=\"utf-8\" standalone=\"no\"?>\n<!DOCTYPE svg PUBLIC \"-//W3C//DTD SVG 1.1//EN\"\n  \"http://www.w3.org/Graphics/SVG/1.1/DTD/svg11.dtd\">\n<!-- Created with matplotlib (https://matplotlib.org/) -->\n<svg height=\"248.518125pt\" version=\"1.1\" viewBox=\"0 0 368.925 248.518125\" width=\"368.925pt\" xmlns=\"http://www.w3.org/2000/svg\" xmlns:xlink=\"http://www.w3.org/1999/xlink\">\n <metadata>\n  <rdf:RDF xmlns:cc=\"http://creativecommons.org/ns#\" xmlns:dc=\"http://purl.org/dc/elements/1.1/\" xmlns:rdf=\"http://www.w3.org/1999/02/22-rdf-syntax-ns#\">\n   <cc:Work>\n    <dc:type rdf:resource=\"http://purl.org/dc/dcmitype/StillImage\"/>\n    <dc:date>2021-04-09T12:30:27.401202</dc:date>\n    <dc:format>image/svg+xml</dc:format>\n    <dc:creator>\n     <cc:Agent>\n      <dc:title>Matplotlib v3.3.4, https://matplotlib.org/</dc:title>\n     </cc:Agent>\n    </dc:creator>\n   </cc:Work>\n  </rdf:RDF>\n </metadata>\n <defs>\n  <style type=\"text/css\">*{stroke-linecap:butt;stroke-linejoin:round;}</style>\n </defs>\n <g id=\"figure_1\">\n  <g id=\"patch_1\">\n   <path d=\"M -0 248.518125 \nL 368.925 248.518125 \nL 368.925 0 \nL -0 0 \nz\n\" style=\"fill:none;\"/>\n  </g>\n  <g id=\"axes_1\">\n   <g id=\"patch_2\">\n    <path d=\"M 26.925 224.64 \nL 361.725 224.64 \nL 361.725 7.2 \nL 26.925 7.2 \nz\n\" style=\"fill:#ffffff;\"/>\n   </g>\n   <g id=\"patch_3\">\n    <path clip-path=\"url(#p3955cb5649)\" d=\"M 42.143182 224.64 \nL 72.579545 224.64 \nL 72.579545 176.850989 \nL 42.143182 176.850989 \nz\n\" style=\"fill:#1f77b4;\"/>\n   </g>\n   <g id=\"patch_4\">\n    <path clip-path=\"url(#p3955cb5649)\" d=\"M 72.579545 224.64 \nL 103.015909 224.64 \nL 103.015909 192.780659 \nL 72.579545 192.780659 \nz\n\" style=\"fill:#1f77b4;\"/>\n   </g>\n   <g id=\"patch_5\">\n    <path clip-path=\"url(#p3955cb5649)\" d=\"M 103.015909 224.64 \nL 133.452273 224.64 \nL 133.452273 192.780659 \nL 103.015909 192.780659 \nz\n\" style=\"fill:#1f77b4;\"/>\n   </g>\n   <g id=\"patch_6\">\n    <path clip-path=\"url(#p3955cb5649)\" d=\"M 133.452273 224.64 \nL 163.888636 224.64 \nL 163.888636 192.780659 \nL 133.452273 192.780659 \nz\n\" style=\"fill:#1f77b4;\"/>\n   </g>\n   <g id=\"patch_7\">\n    <path clip-path=\"url(#p3955cb5649)\" d=\"M 163.888636 224.64 \nL 194.325 224.64 \nL 194.325 168.886154 \nL 163.888636 168.886154 \nz\n\" style=\"fill:#1f77b4;\"/>\n   </g>\n   <g id=\"patch_8\">\n    <path clip-path=\"url(#p3955cb5649)\" d=\"M 194.325 224.64 \nL 224.761364 224.64 \nL 224.761364 176.850989 \nL 194.325 176.850989 \nz\n\" style=\"fill:#1f77b4;\"/>\n   </g>\n   <g id=\"patch_9\">\n    <path clip-path=\"url(#p3955cb5649)\" d=\"M 224.761364 224.64 \nL 255.197727 224.64 \nL 255.197727 137.026813 \nL 224.761364 137.026813 \nz\n\" style=\"fill:#1f77b4;\"/>\n   </g>\n   <g id=\"patch_10\">\n    <path clip-path=\"url(#p3955cb5649)\" d=\"M 255.197727 224.64 \nL 285.634091 224.64 \nL 285.634091 121.097143 \nL 255.197727 121.097143 \nz\n\" style=\"fill:#1f77b4;\"/>\n   </g>\n   <g id=\"patch_11\">\n    <path clip-path=\"url(#p3955cb5649)\" d=\"M 285.634091 224.64 \nL 316.070455 224.64 \nL 316.070455 73.308132 \nL 285.634091 73.308132 \nz\n\" style=\"fill:#1f77b4;\"/>\n   </g>\n   <g id=\"patch_12\">\n    <path clip-path=\"url(#p3955cb5649)\" d=\"M 316.070455 224.64 \nL 346.506818 224.64 \nL 346.506818 17.554286 \nL 316.070455 17.554286 \nz\n\" style=\"fill:#1f77b4;\"/>\n   </g>\n   <g id=\"matplotlib.axis_1\">\n    <g id=\"xtick_1\">\n     <g id=\"line2d_1\">\n      <defs>\n       <path d=\"M 0 0 \nL 0 3.5 \n\" id=\"m53502365aa\" style=\"stroke:#000000;stroke-width:0.8;\"/>\n      </defs>\n      <g>\n       <use style=\"stroke:#000000;stroke-width:0.8;\" x=\"41.183512\" xlink:href=\"#m53502365aa\" y=\"224.64\"/>\n      </g>\n     </g>\n     <g id=\"text_1\">\n      <!-- 0.5 -->\n      <g transform=\"translate(33.231949 239.238437)scale(0.1 -0.1)\">\n       <defs>\n        <path d=\"M 31.78125 66.40625 \nQ 24.171875 66.40625 20.328125 58.90625 \nQ 16.5 51.421875 16.5 36.375 \nQ 16.5 21.390625 20.328125 13.890625 \nQ 24.171875 6.390625 31.78125 6.390625 \nQ 39.453125 6.390625 43.28125 13.890625 \nQ 47.125 21.390625 47.125 36.375 \nQ 47.125 51.421875 43.28125 58.90625 \nQ 39.453125 66.40625 31.78125 66.40625 \nz\nM 31.78125 74.21875 \nQ 44.046875 74.21875 50.515625 64.515625 \nQ 56.984375 54.828125 56.984375 36.375 \nQ 56.984375 17.96875 50.515625 8.265625 \nQ 44.046875 -1.421875 31.78125 -1.421875 \nQ 19.53125 -1.421875 13.0625 8.265625 \nQ 6.59375 17.96875 6.59375 36.375 \nQ 6.59375 54.828125 13.0625 64.515625 \nQ 19.53125 74.21875 31.78125 74.21875 \nz\n\" id=\"DejaVuSans-48\"/>\n        <path d=\"M 10.6875 12.40625 \nL 21 12.40625 \nL 21 0 \nL 10.6875 0 \nz\n\" id=\"DejaVuSans-46\"/>\n        <path d=\"M 10.796875 72.90625 \nL 49.515625 72.90625 \nL 49.515625 64.59375 \nL 19.828125 64.59375 \nL 19.828125 46.734375 \nQ 21.96875 47.46875 24.109375 47.828125 \nQ 26.265625 48.1875 28.421875 48.1875 \nQ 40.625 48.1875 47.75 41.5 \nQ 54.890625 34.8125 54.890625 23.390625 \nQ 54.890625 11.625 47.5625 5.09375 \nQ 40.234375 -1.421875 26.90625 -1.421875 \nQ 22.3125 -1.421875 17.546875 -0.640625 \nQ 12.796875 0.140625 7.71875 1.703125 \nL 7.71875 11.625 \nQ 12.109375 9.234375 16.796875 8.0625 \nQ 21.484375 6.890625 26.703125 6.890625 \nQ 35.15625 6.890625 40.078125 11.328125 \nQ 45.015625 15.765625 45.015625 23.390625 \nQ 45.015625 31 40.078125 35.4375 \nQ 35.15625 39.890625 26.703125 39.890625 \nQ 22.75 39.890625 18.8125 39.015625 \nQ 14.890625 38.140625 10.796875 36.28125 \nz\n\" id=\"DejaVuSans-53\"/>\n       </defs>\n       <use xlink:href=\"#DejaVuSans-48\"/>\n       <use x=\"63.623047\" xlink:href=\"#DejaVuSans-46\"/>\n       <use x=\"95.410156\" xlink:href=\"#DejaVuSans-53\"/>\n      </g>\n     </g>\n    </g>\n    <g id=\"xtick_2\">\n     <g id=\"line2d_2\">\n      <g>\n       <use style=\"stroke:#000000;stroke-width:0.8;\" x=\"108.135115\" xlink:href=\"#m53502365aa\" y=\"224.64\"/>\n      </g>\n     </g>\n     <g id=\"text_2\">\n      <!-- 0.6 -->\n      <g transform=\"translate(100.183553 239.238437)scale(0.1 -0.1)\">\n       <defs>\n        <path d=\"M 33.015625 40.375 \nQ 26.375 40.375 22.484375 35.828125 \nQ 18.609375 31.296875 18.609375 23.390625 \nQ 18.609375 15.53125 22.484375 10.953125 \nQ 26.375 6.390625 33.015625 6.390625 \nQ 39.65625 6.390625 43.53125 10.953125 \nQ 47.40625 15.53125 47.40625 23.390625 \nQ 47.40625 31.296875 43.53125 35.828125 \nQ 39.65625 40.375 33.015625 40.375 \nz\nM 52.59375 71.296875 \nL 52.59375 62.3125 \nQ 48.875 64.0625 45.09375 64.984375 \nQ 41.3125 65.921875 37.59375 65.921875 \nQ 27.828125 65.921875 22.671875 59.328125 \nQ 17.53125 52.734375 16.796875 39.40625 \nQ 19.671875 43.65625 24.015625 45.921875 \nQ 28.375 48.1875 33.59375 48.1875 \nQ 44.578125 48.1875 50.953125 41.515625 \nQ 57.328125 34.859375 57.328125 23.390625 \nQ 57.328125 12.15625 50.6875 5.359375 \nQ 44.046875 -1.421875 33.015625 -1.421875 \nQ 20.359375 -1.421875 13.671875 8.265625 \nQ 6.984375 17.96875 6.984375 36.375 \nQ 6.984375 53.65625 15.1875 63.9375 \nQ 23.390625 74.21875 37.203125 74.21875 \nQ 40.921875 74.21875 44.703125 73.484375 \nQ 48.484375 72.75 52.59375 71.296875 \nz\n\" id=\"DejaVuSans-54\"/>\n       </defs>\n       <use xlink:href=\"#DejaVuSans-48\"/>\n       <use x=\"63.623047\" xlink:href=\"#DejaVuSans-46\"/>\n       <use x=\"95.410156\" xlink:href=\"#DejaVuSans-54\"/>\n      </g>\n     </g>\n    </g>\n    <g id=\"xtick_3\">\n     <g id=\"line2d_3\">\n      <g>\n       <use style=\"stroke:#000000;stroke-width:0.8;\" x=\"175.086719\" xlink:href=\"#m53502365aa\" y=\"224.64\"/>\n      </g>\n     </g>\n     <g id=\"text_3\">\n      <!-- 0.7 -->\n      <g transform=\"translate(167.135156 239.238437)scale(0.1 -0.1)\">\n       <defs>\n        <path d=\"M 8.203125 72.90625 \nL 55.078125 72.90625 \nL 55.078125 68.703125 \nL 28.609375 0 \nL 18.3125 0 \nL 43.21875 64.59375 \nL 8.203125 64.59375 \nz\n\" id=\"DejaVuSans-55\"/>\n       </defs>\n       <use xlink:href=\"#DejaVuSans-48\"/>\n       <use x=\"63.623047\" xlink:href=\"#DejaVuSans-46\"/>\n       <use x=\"95.410156\" xlink:href=\"#DejaVuSans-55\"/>\n      </g>\n     </g>\n    </g>\n    <g id=\"xtick_4\">\n     <g id=\"line2d_4\">\n      <g>\n       <use style=\"stroke:#000000;stroke-width:0.8;\" x=\"242.038322\" xlink:href=\"#m53502365aa\" y=\"224.64\"/>\n      </g>\n     </g>\n     <g id=\"text_4\">\n      <!-- 0.8 -->\n      <g transform=\"translate(234.08676 239.238437)scale(0.1 -0.1)\">\n       <defs>\n        <path d=\"M 31.78125 34.625 \nQ 24.75 34.625 20.71875 30.859375 \nQ 16.703125 27.09375 16.703125 20.515625 \nQ 16.703125 13.921875 20.71875 10.15625 \nQ 24.75 6.390625 31.78125 6.390625 \nQ 38.8125 6.390625 42.859375 10.171875 \nQ 46.921875 13.96875 46.921875 20.515625 \nQ 46.921875 27.09375 42.890625 30.859375 \nQ 38.875 34.625 31.78125 34.625 \nz\nM 21.921875 38.8125 \nQ 15.578125 40.375 12.03125 44.71875 \nQ 8.5 49.078125 8.5 55.328125 \nQ 8.5 64.0625 14.71875 69.140625 \nQ 20.953125 74.21875 31.78125 74.21875 \nQ 42.671875 74.21875 48.875 69.140625 \nQ 55.078125 64.0625 55.078125 55.328125 \nQ 55.078125 49.078125 51.53125 44.71875 \nQ 48 40.375 41.703125 38.8125 \nQ 48.828125 37.15625 52.796875 32.3125 \nQ 56.78125 27.484375 56.78125 20.515625 \nQ 56.78125 9.90625 50.3125 4.234375 \nQ 43.84375 -1.421875 31.78125 -1.421875 \nQ 19.734375 -1.421875 13.25 4.234375 \nQ 6.78125 9.90625 6.78125 20.515625 \nQ 6.78125 27.484375 10.78125 32.3125 \nQ 14.796875 37.15625 21.921875 38.8125 \nz\nM 18.3125 54.390625 \nQ 18.3125 48.734375 21.84375 45.5625 \nQ 25.390625 42.390625 31.78125 42.390625 \nQ 38.140625 42.390625 41.71875 45.5625 \nQ 45.3125 48.734375 45.3125 54.390625 \nQ 45.3125 60.0625 41.71875 63.234375 \nQ 38.140625 66.40625 31.78125 66.40625 \nQ 25.390625 66.40625 21.84375 63.234375 \nQ 18.3125 60.0625 18.3125 54.390625 \nz\n\" id=\"DejaVuSans-56\"/>\n       </defs>\n       <use xlink:href=\"#DejaVuSans-48\"/>\n       <use x=\"63.623047\" xlink:href=\"#DejaVuSans-46\"/>\n       <use x=\"95.410156\" xlink:href=\"#DejaVuSans-56\"/>\n      </g>\n     </g>\n    </g>\n    <g id=\"xtick_5\">\n     <g id=\"line2d_5\">\n      <g>\n       <use style=\"stroke:#000000;stroke-width:0.8;\" x=\"308.989926\" xlink:href=\"#m53502365aa\" y=\"224.64\"/>\n      </g>\n     </g>\n     <g id=\"text_5\">\n      <!-- 0.9 -->\n      <g transform=\"translate(301.038363 239.238437)scale(0.1 -0.1)\">\n       <defs>\n        <path d=\"M 10.984375 1.515625 \nL 10.984375 10.5 \nQ 14.703125 8.734375 18.5 7.8125 \nQ 22.3125 6.890625 25.984375 6.890625 \nQ 35.75 6.890625 40.890625 13.453125 \nQ 46.046875 20.015625 46.78125 33.40625 \nQ 43.953125 29.203125 39.59375 26.953125 \nQ 35.25 24.703125 29.984375 24.703125 \nQ 19.046875 24.703125 12.671875 31.3125 \nQ 6.296875 37.9375 6.296875 49.421875 \nQ 6.296875 60.640625 12.9375 67.421875 \nQ 19.578125 74.21875 30.609375 74.21875 \nQ 43.265625 74.21875 49.921875 64.515625 \nQ 56.59375 54.828125 56.59375 36.375 \nQ 56.59375 19.140625 48.40625 8.859375 \nQ 40.234375 -1.421875 26.421875 -1.421875 \nQ 22.703125 -1.421875 18.890625 -0.6875 \nQ 15.09375 0.046875 10.984375 1.515625 \nz\nM 30.609375 32.421875 \nQ 37.25 32.421875 41.125 36.953125 \nQ 45.015625 41.5 45.015625 49.421875 \nQ 45.015625 57.28125 41.125 61.84375 \nQ 37.25 66.40625 30.609375 66.40625 \nQ 23.96875 66.40625 20.09375 61.84375 \nQ 16.21875 57.28125 16.21875 49.421875 \nQ 16.21875 41.5 20.09375 36.953125 \nQ 23.96875 32.421875 30.609375 32.421875 \nz\n\" id=\"DejaVuSans-57\"/>\n       </defs>\n       <use xlink:href=\"#DejaVuSans-48\"/>\n       <use x=\"63.623047\" xlink:href=\"#DejaVuSans-46\"/>\n       <use x=\"95.410156\" xlink:href=\"#DejaVuSans-57\"/>\n      </g>\n     </g>\n    </g>\n   </g>\n   <g id=\"matplotlib.axis_2\">\n    <g id=\"ytick_1\">\n     <g id=\"line2d_6\">\n      <defs>\n       <path d=\"M 0 0 \nL -3.5 0 \n\" id=\"m6344cc6d3d\" style=\"stroke:#000000;stroke-width:0.8;\"/>\n      </defs>\n      <g>\n       <use style=\"stroke:#000000;stroke-width:0.8;\" x=\"26.925\" xlink:href=\"#m6344cc6d3d\" y=\"224.64\"/>\n      </g>\n     </g>\n     <g id=\"text_6\">\n      <!-- 0 -->\n      <g transform=\"translate(13.5625 228.439219)scale(0.1 -0.1)\">\n       <use xlink:href=\"#DejaVuSans-48\"/>\n      </g>\n     </g>\n    </g>\n    <g id=\"ytick_2\">\n     <g id=\"line2d_7\">\n      <g>\n       <use style=\"stroke:#000000;stroke-width:0.8;\" x=\"26.925\" xlink:href=\"#m6344cc6d3d\" y=\"184.815824\"/>\n      </g>\n     </g>\n     <g id=\"text_7\">\n      <!-- 5 -->\n      <g transform=\"translate(13.5625 188.615043)scale(0.1 -0.1)\">\n       <use xlink:href=\"#DejaVuSans-53\"/>\n      </g>\n     </g>\n    </g>\n    <g id=\"ytick_3\">\n     <g id=\"line2d_8\">\n      <g>\n       <use style=\"stroke:#000000;stroke-width:0.8;\" x=\"26.925\" xlink:href=\"#m6344cc6d3d\" y=\"144.991648\"/>\n      </g>\n     </g>\n     <g id=\"text_8\">\n      <!-- 10 -->\n      <g transform=\"translate(7.2 148.790867)scale(0.1 -0.1)\">\n       <defs>\n        <path d=\"M 12.40625 8.296875 \nL 28.515625 8.296875 \nL 28.515625 63.921875 \nL 10.984375 60.40625 \nL 10.984375 69.390625 \nL 28.421875 72.90625 \nL 38.28125 72.90625 \nL 38.28125 8.296875 \nL 54.390625 8.296875 \nL 54.390625 0 \nL 12.40625 0 \nz\n\" id=\"DejaVuSans-49\"/>\n       </defs>\n       <use xlink:href=\"#DejaVuSans-49\"/>\n       <use x=\"63.623047\" xlink:href=\"#DejaVuSans-48\"/>\n      </g>\n     </g>\n    </g>\n    <g id=\"ytick_4\">\n     <g id=\"line2d_9\">\n      <g>\n       <use style=\"stroke:#000000;stroke-width:0.8;\" x=\"26.925\" xlink:href=\"#m6344cc6d3d\" y=\"105.167473\"/>\n      </g>\n     </g>\n     <g id=\"text_9\">\n      <!-- 15 -->\n      <g transform=\"translate(7.2 108.966691)scale(0.1 -0.1)\">\n       <use xlink:href=\"#DejaVuSans-49\"/>\n       <use x=\"63.623047\" xlink:href=\"#DejaVuSans-53\"/>\n      </g>\n     </g>\n    </g>\n    <g id=\"ytick_5\">\n     <g id=\"line2d_10\">\n      <g>\n       <use style=\"stroke:#000000;stroke-width:0.8;\" x=\"26.925\" xlink:href=\"#m6344cc6d3d\" y=\"65.343297\"/>\n      </g>\n     </g>\n     <g id=\"text_10\">\n      <!-- 20 -->\n      <g transform=\"translate(7.2 69.142515)scale(0.1 -0.1)\">\n       <defs>\n        <path d=\"M 19.1875 8.296875 \nL 53.609375 8.296875 \nL 53.609375 0 \nL 7.328125 0 \nL 7.328125 8.296875 \nQ 12.9375 14.109375 22.625 23.890625 \nQ 32.328125 33.6875 34.8125 36.53125 \nQ 39.546875 41.84375 41.421875 45.53125 \nQ 43.3125 49.21875 43.3125 52.78125 \nQ 43.3125 58.59375 39.234375 62.25 \nQ 35.15625 65.921875 28.609375 65.921875 \nQ 23.96875 65.921875 18.8125 64.3125 \nQ 13.671875 62.703125 7.8125 59.421875 \nL 7.8125 69.390625 \nQ 13.765625 71.78125 18.9375 73 \nQ 24.125 74.21875 28.421875 74.21875 \nQ 39.75 74.21875 46.484375 68.546875 \nQ 53.21875 62.890625 53.21875 53.421875 \nQ 53.21875 48.921875 51.53125 44.890625 \nQ 49.859375 40.875 45.40625 35.40625 \nQ 44.1875 33.984375 37.640625 27.21875 \nQ 31.109375 20.453125 19.1875 8.296875 \nz\n\" id=\"DejaVuSans-50\"/>\n       </defs>\n       <use xlink:href=\"#DejaVuSans-50\"/>\n       <use x=\"63.623047\" xlink:href=\"#DejaVuSans-48\"/>\n      </g>\n     </g>\n    </g>\n    <g id=\"ytick_6\">\n     <g id=\"line2d_11\">\n      <g>\n       <use style=\"stroke:#000000;stroke-width:0.8;\" x=\"26.925\" xlink:href=\"#m6344cc6d3d\" y=\"25.519121\"/>\n      </g>\n     </g>\n     <g id=\"text_11\">\n      <!-- 25 -->\n      <g transform=\"translate(7.2 29.31834)scale(0.1 -0.1)\">\n       <use xlink:href=\"#DejaVuSans-50\"/>\n       <use x=\"63.623047\" xlink:href=\"#DejaVuSans-53\"/>\n      </g>\n     </g>\n    </g>\n   </g>\n   <g id=\"patch_13\">\n    <path d=\"M 26.925 224.64 \nL 26.925 7.2 \n\" style=\"fill:none;stroke:#000000;stroke-linecap:square;stroke-linejoin:miter;stroke-width:0.8;\"/>\n   </g>\n   <g id=\"patch_14\">\n    <path d=\"M 361.725 224.64 \nL 361.725 7.2 \n\" style=\"fill:none;stroke:#000000;stroke-linecap:square;stroke-linejoin:miter;stroke-width:0.8;\"/>\n   </g>\n   <g id=\"patch_15\">\n    <path d=\"M 26.925 224.64 \nL 361.725 224.64 \n\" style=\"fill:none;stroke:#000000;stroke-linecap:square;stroke-linejoin:miter;stroke-width:0.8;\"/>\n   </g>\n   <g id=\"patch_16\">\n    <path d=\"M 26.925 7.2 \nL 361.725 7.2 \n\" style=\"fill:none;stroke:#000000;stroke-linecap:square;stroke-linejoin:miter;stroke-width:0.8;\"/>\n   </g>\n  </g>\n </g>\n <defs>\n  <clipPath id=\"p3955cb5649\">\n   <rect height=\"217.44\" width=\"334.8\" x=\"26.925\" y=\"7.2\"/>\n  </clipPath>\n </defs>\n</svg>\n",
      "image/png": "[encoded data removed]"
     },
     "metadata": {
      "needs_background": "light"
     }
    }
   ],
   "source": [
    "import matplotlib.pyplot as plt\n",
    "\n",
    "\n",
    "plt.hist(df.prediction_probability)\n",
    "plt.show()\n"
   ]
  },
  {
   "cell_type": "code",
   "execution_count": 342,
   "metadata": {},
   "outputs": [
    {
     "output_type": "display_data",
     "data": {
      "text/plain": "<Figure size 432x288 with 1 Axes>",
      "image/svg+xml": "<?xml version=\"1.0\" encoding=\"utf-8\" standalone=\"no\"?>\n<!DOCTYPE svg PUBLIC \"-//W3C//DTD SVG 1.1//EN\"\n  \"http://www.w3.org/Graphics/SVG/1.1/DTD/svg11.dtd\">\n<!-- Created with matplotlib (https://matplotlib.org/) -->\n<svg height=\"231.84pt\" version=\"1.1\" viewBox=\"0 0 231.84 231.84\" width=\"231.84pt\" xmlns=\"http://www.w3.org/2000/svg\" xmlns:xlink=\"http://www.w3.org/1999/xlink\">\n <metadata>\n  <rdf:RDF xmlns:cc=\"http://creativecommons.org/ns#\" xmlns:dc=\"http://purl.org/dc/elements/1.1/\" xmlns:rdf=\"http://www.w3.org/1999/02/22-rdf-syntax-ns#\">\n   <cc:Work>\n    <dc:type rdf:resource=\"http://purl.org/dc/dcmitype/StillImage\"/>\n    <dc:date>2021-04-09T12:35:44.348997</dc:date>\n    <dc:format>image/svg+xml</dc:format>\n    <dc:creator>\n     <cc:Agent>\n      <dc:title>Matplotlib v3.3.4, https://matplotlib.org/</dc:title>\n     </cc:Agent>\n    </dc:creator>\n   </cc:Work>\n  </rdf:RDF>\n </metadata>\n <defs>\n  <style type=\"text/css\">*{stroke-linecap:butt;stroke-linejoin:round;}</style>\n </defs>\n <g id=\"figure_1\">\n  <g id=\"patch_1\">\n   <path d=\"M 0 231.84 \nL 231.84 231.84 \nL 231.84 0 \nL 0 0 \nz\n\" style=\"fill:none;\"/>\n  </g>\n  <g id=\"axes_1\">\n   <g id=\"patch_2\">\n    <path d=\"M 202.896 115.92 \nC 202.896 105.876224 201.156254 95.907927 197.754046 86.457931 \nC 194.351838 77.007935 189.338304 68.218274 182.93616 60.479411 \nC 176.534016 52.740549 168.839487 46.1688 160.194387 41.056102 \nC 151.549286 35.943403 142.083551 32.3666 132.217678 30.484584 \nC 122.351804 28.602568 112.234078 28.443626 102.313957 30.014819 \nC 92.393836 31.586011 82.820422 34.863724 74.018993 39.70235 \nC 65.217565 44.540976 57.320409 50.867791 50.67834 58.401738 \nC 44.036272 65.935686 38.749122 74.563531 35.051761 83.901998 \nC 31.3544 93.240465 29.3024 103.149196 28.986917 113.188016 \nC 28.671435 123.226837 30.09721 133.244861 33.200908 142.797061 \nC 36.304605 152.34926 41.039575 161.292062 47.195477 169.228202 \nC 53.351378 177.164343 60.835686 183.97454 69.315927 189.356265 \nC 77.796168 194.737989 87.144882 198.610354 96.946771 200.801336 \nC 106.748661 202.992318 116.856403 203.468987 126.820981 202.210169 \nC 136.785559 200.95135 146.457205 197.975963 155.406276 193.416185 \nC 164.355346 188.856406 172.447335 182.780769 179.322774 175.459171 \nL 115.92 115.92 \nL 202.896 115.92 \nz\n\" style=\"fill:#1f77b4;\"/>\n   </g>\n   <g id=\"patch_3\">\n    <path d=\"M 179.322774 175.459171 \nC 186.826769 167.468228 192.752862 158.1302 196.788238 147.938004 \nC 200.823615 137.745808 202.895999 126.88199 202.896 115.920004 \nL 115.92 115.92 \nL 179.322774 175.459171 \nz\n\" style=\"fill:#ff7f0e;\"/>\n   </g>\n   <g id=\"matplotlib.axis_1\"/>\n   <g id=\"matplotlib.axis_2\"/>\n   <g id=\"text_1\">\n    <!-- 1 -->\n    <g transform=\"translate(20.602437 83.459572)scale(0.1 -0.1)\">\n     <defs>\n      <path d=\"M 12.40625 8.296875 \nL 28.515625 8.296875 \nL 28.515625 63.921875 \nL 10.984375 60.40625 \nL 10.984375 69.390625 \nL 28.421875 72.90625 \nL 38.28125 72.90625 \nL 38.28125 8.296875 \nL 54.390625 8.296875 \nL 54.390625 0 \nL 12.40625 0 \nz\n\" id=\"DejaVuSans-49\"/>\n     </defs>\n     <use xlink:href=\"#DejaVuSans-49\"/>\n    </g>\n   </g>\n   <g id=\"text_2\">\n    <!-- 88.0% -->\n    <g transform=\"translate(51.515463 99.468574)scale(0.1 -0.1)\">\n     <defs>\n      <path d=\"M 31.78125 34.625 \nQ 24.75 34.625 20.71875 30.859375 \nQ 16.703125 27.09375 16.703125 20.515625 \nQ 16.703125 13.921875 20.71875 10.15625 \nQ 24.75 6.390625 31.78125 6.390625 \nQ 38.8125 6.390625 42.859375 10.171875 \nQ 46.921875 13.96875 46.921875 20.515625 \nQ 46.921875 27.09375 42.890625 30.859375 \nQ 38.875 34.625 31.78125 34.625 \nz\nM 21.921875 38.8125 \nQ 15.578125 40.375 12.03125 44.71875 \nQ 8.5 49.078125 8.5 55.328125 \nQ 8.5 64.0625 14.71875 69.140625 \nQ 20.953125 74.21875 31.78125 74.21875 \nQ 42.671875 74.21875 48.875 69.140625 \nQ 55.078125 64.0625 55.078125 55.328125 \nQ 55.078125 49.078125 51.53125 44.71875 \nQ 48 40.375 41.703125 38.8125 \nQ 48.828125 37.15625 52.796875 32.3125 \nQ 56.78125 27.484375 56.78125 20.515625 \nQ 56.78125 9.90625 50.3125 4.234375 \nQ 43.84375 -1.421875 31.78125 -1.421875 \nQ 19.734375 -1.421875 13.25 4.234375 \nQ 6.78125 9.90625 6.78125 20.515625 \nQ 6.78125 27.484375 10.78125 32.3125 \nQ 14.796875 37.15625 21.921875 38.8125 \nz\nM 18.3125 54.390625 \nQ 18.3125 48.734375 21.84375 45.5625 \nQ 25.390625 42.390625 31.78125 42.390625 \nQ 38.140625 42.390625 41.71875 45.5625 \nQ 45.3125 48.734375 45.3125 54.390625 \nQ 45.3125 60.0625 41.71875 63.234375 \nQ 38.140625 66.40625 31.78125 66.40625 \nQ 25.390625 66.40625 21.84375 63.234375 \nQ 18.3125 60.0625 18.3125 54.390625 \nz\n\" id=\"DejaVuSans-56\"/>\n      <path d=\"M 10.6875 12.40625 \nL 21 12.40625 \nL 21 0 \nL 10.6875 0 \nz\n\" id=\"DejaVuSans-46\"/>\n      <path d=\"M 31.78125 66.40625 \nQ 24.171875 66.40625 20.328125 58.90625 \nQ 16.5 51.421875 16.5 36.375 \nQ 16.5 21.390625 20.328125 13.890625 \nQ 24.171875 6.390625 31.78125 6.390625 \nQ 39.453125 6.390625 43.28125 13.890625 \nQ 47.125 21.390625 47.125 36.375 \nQ 47.125 51.421875 43.28125 58.90625 \nQ 39.453125 66.40625 31.78125 66.40625 \nz\nM 31.78125 74.21875 \nQ 44.046875 74.21875 50.515625 64.515625 \nQ 56.984375 54.828125 56.984375 36.375 \nQ 56.984375 17.96875 50.515625 8.265625 \nQ 44.046875 -1.421875 31.78125 -1.421875 \nQ 19.53125 -1.421875 13.0625 8.265625 \nQ 6.59375 17.96875 6.59375 36.375 \nQ 6.59375 54.828125 13.0625 64.515625 \nQ 19.53125 74.21875 31.78125 74.21875 \nz\n\" id=\"DejaVuSans-48\"/>\n      <path d=\"M 72.703125 32.078125 \nQ 68.453125 32.078125 66.03125 28.46875 \nQ 63.625 24.859375 63.625 18.40625 \nQ 63.625 12.0625 66.03125 8.421875 \nQ 68.453125 4.78125 72.703125 4.78125 \nQ 76.859375 4.78125 79.265625 8.421875 \nQ 81.6875 12.0625 81.6875 18.40625 \nQ 81.6875 24.8125 79.265625 28.4375 \nQ 76.859375 32.078125 72.703125 32.078125 \nz\nM 72.703125 38.28125 \nQ 80.421875 38.28125 84.953125 32.90625 \nQ 89.5 27.546875 89.5 18.40625 \nQ 89.5 9.28125 84.9375 3.921875 \nQ 80.375 -1.421875 72.703125 -1.421875 \nQ 64.890625 -1.421875 60.34375 3.921875 \nQ 55.8125 9.28125 55.8125 18.40625 \nQ 55.8125 27.59375 60.375 32.9375 \nQ 64.9375 38.28125 72.703125 38.28125 \nz\nM 22.3125 68.015625 \nQ 18.109375 68.015625 15.6875 64.375 \nQ 13.28125 60.75 13.28125 54.390625 \nQ 13.28125 47.953125 15.671875 44.328125 \nQ 18.0625 40.71875 22.3125 40.71875 \nQ 26.5625 40.71875 28.96875 44.328125 \nQ 31.390625 47.953125 31.390625 54.390625 \nQ 31.390625 60.6875 28.953125 64.34375 \nQ 26.515625 68.015625 22.3125 68.015625 \nz\nM 66.40625 74.21875 \nL 74.21875 74.21875 \nL 28.609375 -1.421875 \nL 20.796875 -1.421875 \nz\nM 22.3125 74.21875 \nQ 30.03125 74.21875 34.609375 68.875 \nQ 39.203125 63.53125 39.203125 54.390625 \nQ 39.203125 45.171875 34.640625 39.84375 \nQ 30.078125 34.515625 22.3125 34.515625 \nQ 14.546875 34.515625 10.03125 39.859375 \nQ 5.515625 45.21875 5.515625 54.390625 \nQ 5.515625 63.484375 10.046875 68.84375 \nQ 14.59375 74.21875 22.3125 74.21875 \nz\n\" id=\"DejaVuSans-37\"/>\n     </defs>\n     <use xlink:href=\"#DejaVuSans-56\"/>\n     <use x=\"63.623047\" xlink:href=\"#DejaVuSans-56\"/>\n     <use x=\"127.246094\" xlink:href=\"#DejaVuSans-46\"/>\n     <use x=\"159.033203\" xlink:href=\"#DejaVuSans-48\"/>\n     <use x=\"222.65625\" xlink:href=\"#DejaVuSans-37\"/>\n    </g>\n   </g>\n   <g id=\"text_3\">\n    <!-- 0 -->\n    <g transform=\"translate(204.875062 153.89918)scale(0.1 -0.1)\">\n     <use xlink:href=\"#DejaVuSans-48\"/>\n    </g>\n   </g>\n   <g id=\"text_4\">\n    <!-- 12.0% -->\n    <g transform=\"translate(148.557349 137.890178)scale(0.1 -0.1)\">\n     <defs>\n      <path d=\"M 19.1875 8.296875 \nL 53.609375 8.296875 \nL 53.609375 0 \nL 7.328125 0 \nL 7.328125 8.296875 \nQ 12.9375 14.109375 22.625 23.890625 \nQ 32.328125 33.6875 34.8125 36.53125 \nQ 39.546875 41.84375 41.421875 45.53125 \nQ 43.3125 49.21875 43.3125 52.78125 \nQ 43.3125 58.59375 39.234375 62.25 \nQ 35.15625 65.921875 28.609375 65.921875 \nQ 23.96875 65.921875 18.8125 64.3125 \nQ 13.671875 62.703125 7.8125 59.421875 \nL 7.8125 69.390625 \nQ 13.765625 71.78125 18.9375 73 \nQ 24.125 74.21875 28.421875 74.21875 \nQ 39.75 74.21875 46.484375 68.546875 \nQ 53.21875 62.890625 53.21875 53.421875 \nQ 53.21875 48.921875 51.53125 44.890625 \nQ 49.859375 40.875 45.40625 35.40625 \nQ 44.1875 33.984375 37.640625 27.21875 \nQ 31.109375 20.453125 19.1875 8.296875 \nz\n\" id=\"DejaVuSans-50\"/>\n     </defs>\n     <use xlink:href=\"#DejaVuSans-49\"/>\n     <use x=\"63.623047\" xlink:href=\"#DejaVuSans-50\"/>\n     <use x=\"127.246094\" xlink:href=\"#DejaVuSans-46\"/>\n     <use x=\"159.033203\" xlink:href=\"#DejaVuSans-48\"/>\n     <use x=\"222.65625\" xlink:href=\"#DejaVuSans-37\"/>\n    </g>\n   </g>\n  </g>\n </g>\n</svg>\n",
      "image/png": "[encoded data removed]"
     },
     "metadata": {}
    },
    {
     "output_type": "execute_result",
     "data": {
      "text/plain": [
       "1    88\n",
       "0    12\n",
       "Name: prediction, dtype: int64"
      ]
     },
     "metadata": {},
     "execution_count": 342
    }
   ],
   "source": [
    "plt.pie(df.prediction.value_counts(),labels=['1','0'],autopct='%1.1f%%')\n",
    "# plt.legend()\n",
    "plt.show()\n",
    "df.prediction.value_counts()"
   ]
  },
  {
   "cell_type": "code",
   "execution_count": 349,
   "metadata": {},
   "outputs": [
    {
     "output_type": "execute_result",
     "data": {
      "text/plain": [
       "RainToday   0.0  1.0\n",
       "prediction          \n",
       "0             6    6\n",
       "1            16   72"
      ],
      "text/html": "<div>\n<style scoped>\n    .dataframe tbody tr th:only-of-type {\n        vertical-align: middle;\n    }\n\n    .dataframe tbody tr th {\n        vertical-align: top;\n    }\n\n    .dataframe thead th {\n        text-align: right;\n    }\n</style>\n<table border=\"1\" class=\"dataframe\">\n  <thead>\n    <tr style=\"text-align: right;\">\n      <th>RainToday</th>\n      <th>0.0</th>\n      <th>1.0</th>\n    </tr>\n    <tr>\n      <th>prediction</th>\n      <th></th>\n      <th></th>\n    </tr>\n  </thead>\n  <tbody>\n    <tr>\n      <th>0</th>\n      <td>6</td>\n      <td>6</td>\n    </tr>\n    <tr>\n      <th>1</th>\n      <td>16</td>\n      <td>72</td>\n    </tr>\n  </tbody>\n</table>\n</div>"
     },
     "metadata": {},
     "execution_count": 349
    }
   ],
   "source": [
    "ct = pd.crosstab(df.prediction, df.RainToday)\n",
    "ct"
   ]
  },
  {
   "cell_type": "code",
   "execution_count": 352,
   "metadata": {},
   "outputs": [
    {
     "output_type": "display_data",
     "data": {
      "text/plain": "<Figure size 432x288 with 1 Axes>",
      "image/svg+xml": "<?xml version=\"1.0\" encoding=\"utf-8\" standalone=\"no\"?>\n<!DOCTYPE svg PUBLIC \"-//W3C//DTD SVG 1.1//EN\"\n  \"http://www.w3.org/Graphics/SVG/1.1/DTD/svg11.dtd\">\n<!-- Created with matplotlib (https://matplotlib.org/) -->\n<svg height=\"258.880625pt\" version=\"1.1\" viewBox=\"0 0 368.925 258.880625\" width=\"368.925pt\" xmlns=\"http://www.w3.org/2000/svg\" xmlns:xlink=\"http://www.w3.org/1999/xlink\">\n <metadata>\n  <rdf:RDF xmlns:cc=\"http://creativecommons.org/ns#\" xmlns:dc=\"http://purl.org/dc/elements/1.1/\" xmlns:rdf=\"http://www.w3.org/1999/02/22-rdf-syntax-ns#\">\n   <cc:Work>\n    <dc:type rdf:resource=\"http://purl.org/dc/dcmitype/StillImage\"/>\n    <dc:date>2021-04-09T12:45:16.690544</dc:date>\n    <dc:format>image/svg+xml</dc:format>\n    <dc:creator>\n     <cc:Agent>\n      <dc:title>Matplotlib v3.3.4, https://matplotlib.org/</dc:title>\n     </cc:Agent>\n    </dc:creator>\n   </cc:Work>\n  </rdf:RDF>\n </metadata>\n <defs>\n  <style type=\"text/css\">*{stroke-linecap:butt;stroke-linejoin:round;}</style>\n </defs>\n <g id=\"figure_1\">\n  <g id=\"patch_1\">\n   <path d=\"M -0 258.880625 \nL 368.925 258.880625 \nL 368.925 0 \nL -0 0 \nz\n\" style=\"fill:none;\"/>\n  </g>\n  <g id=\"axes_1\">\n   <g id=\"patch_2\">\n    <path d=\"M 26.925 224.64 \nL 361.725 224.64 \nL 361.725 7.2 \nL 26.925 7.2 \nz\n\" style=\"fill:#ffffff;\"/>\n   </g>\n   <g id=\"patch_3\">\n    <path clip-path=\"url(#p703d346caa)\" d=\"M 68.775 224.64 \nL 152.475 224.64 \nL 152.475 210.520519 \nL 68.775 210.520519 \nz\n\" style=\"fill:#1f77b4;\"/>\n   </g>\n   <g id=\"patch_4\">\n    <path clip-path=\"url(#p703d346caa)\" d=\"M 236.175 224.64 \nL 319.875 224.64 \nL 319.875 186.988052 \nL 236.175 186.988052 \nz\n\" style=\"fill:#1f77b4;\"/>\n   </g>\n   <g id=\"patch_5\">\n    <path clip-path=\"url(#p703d346caa)\" d=\"M 68.775 210.520519 \nL 152.475 210.520519 \nL 152.475 196.401039 \nL 68.775 196.401039 \nz\n\" style=\"fill:#ff7f0e;\"/>\n   </g>\n   <g id=\"patch_6\">\n    <path clip-path=\"url(#p703d346caa)\" d=\"M 236.175 186.988052 \nL 319.875 186.988052 \nL 319.875 17.554286 \nL 236.175 17.554286 \nz\n\" style=\"fill:#ff7f0e;\"/>\n   </g>\n   <g id=\"matplotlib.axis_1\">\n    <g id=\"xtick_1\">\n     <g id=\"line2d_1\">\n      <defs>\n       <path d=\"M 0 0 \nL 0 3.5 \n\" id=\"m50dc172d44\" style=\"stroke:#000000;stroke-width:0.8;\"/>\n      </defs>\n      <g>\n       <use style=\"stroke:#000000;stroke-width:0.8;\" x=\"110.625\" xlink:href=\"#m50dc172d44\" y=\"224.64\"/>\n      </g>\n     </g>\n     <g id=\"text_1\">\n      <!-- 0 -->\n      <g transform=\"translate(113.384375 238.0025)rotate(-90)scale(0.1 -0.1)\">\n       <defs>\n        <path d=\"M 31.78125 66.40625 \nQ 24.171875 66.40625 20.328125 58.90625 \nQ 16.5 51.421875 16.5 36.375 \nQ 16.5 21.390625 20.328125 13.890625 \nQ 24.171875 6.390625 31.78125 6.390625 \nQ 39.453125 6.390625 43.28125 13.890625 \nQ 47.125 21.390625 47.125 36.375 \nQ 47.125 51.421875 43.28125 58.90625 \nQ 39.453125 66.40625 31.78125 66.40625 \nz\nM 31.78125 74.21875 \nQ 44.046875 74.21875 50.515625 64.515625 \nQ 56.984375 54.828125 56.984375 36.375 \nQ 56.984375 17.96875 50.515625 8.265625 \nQ 44.046875 -1.421875 31.78125 -1.421875 \nQ 19.53125 -1.421875 13.0625 8.265625 \nQ 6.59375 17.96875 6.59375 36.375 \nQ 6.59375 54.828125 13.0625 64.515625 \nQ 19.53125 74.21875 31.78125 74.21875 \nz\n\" id=\"DejaVuSans-48\"/>\n       </defs>\n       <use xlink:href=\"#DejaVuSans-48\"/>\n      </g>\n     </g>\n    </g>\n    <g id=\"xtick_2\">\n     <g id=\"line2d_2\">\n      <g>\n       <use style=\"stroke:#000000;stroke-width:0.8;\" x=\"278.025\" xlink:href=\"#m50dc172d44\" y=\"224.64\"/>\n      </g>\n     </g>\n     <g id=\"text_2\">\n      <!-- 1 -->\n      <g transform=\"translate(280.784375 238.0025)rotate(-90)scale(0.1 -0.1)\">\n       <defs>\n        <path d=\"M 12.40625 8.296875 \nL 28.515625 8.296875 \nL 28.515625 63.921875 \nL 10.984375 60.40625 \nL 10.984375 69.390625 \nL 28.421875 72.90625 \nL 38.28125 72.90625 \nL 38.28125 8.296875 \nL 54.390625 8.296875 \nL 54.390625 0 \nL 12.40625 0 \nz\n\" id=\"DejaVuSans-49\"/>\n       </defs>\n       <use xlink:href=\"#DejaVuSans-49\"/>\n      </g>\n     </g>\n    </g>\n    <g id=\"text_3\">\n     <!-- prediction -->\n     <g transform=\"translate(169.241406 249.600937)scale(0.1 -0.1)\">\n      <defs>\n       <path d=\"M 18.109375 8.203125 \nL 18.109375 -20.796875 \nL 9.078125 -20.796875 \nL 9.078125 54.6875 \nL 18.109375 54.6875 \nL 18.109375 46.390625 \nQ 20.953125 51.265625 25.265625 53.625 \nQ 29.59375 56 35.59375 56 \nQ 45.5625 56 51.78125 48.09375 \nQ 58.015625 40.1875 58.015625 27.296875 \nQ 58.015625 14.40625 51.78125 6.484375 \nQ 45.5625 -1.421875 35.59375 -1.421875 \nQ 29.59375 -1.421875 25.265625 0.953125 \nQ 20.953125 3.328125 18.109375 8.203125 \nz\nM 48.6875 27.296875 \nQ 48.6875 37.203125 44.609375 42.84375 \nQ 40.53125 48.484375 33.40625 48.484375 \nQ 26.265625 48.484375 22.1875 42.84375 \nQ 18.109375 37.203125 18.109375 27.296875 \nQ 18.109375 17.390625 22.1875 11.75 \nQ 26.265625 6.109375 33.40625 6.109375 \nQ 40.53125 6.109375 44.609375 11.75 \nQ 48.6875 17.390625 48.6875 27.296875 \nz\n\" id=\"DejaVuSans-112\"/>\n       <path d=\"M 41.109375 46.296875 \nQ 39.59375 47.171875 37.8125 47.578125 \nQ 36.03125 48 33.890625 48 \nQ 26.265625 48 22.1875 43.046875 \nQ 18.109375 38.09375 18.109375 28.8125 \nL 18.109375 0 \nL 9.078125 0 \nL 9.078125 54.6875 \nL 18.109375 54.6875 \nL 18.109375 46.1875 \nQ 20.953125 51.171875 25.484375 53.578125 \nQ 30.03125 56 36.53125 56 \nQ 37.453125 56 38.578125 55.875 \nQ 39.703125 55.765625 41.0625 55.515625 \nz\n\" id=\"DejaVuSans-114\"/>\n       <path d=\"M 56.203125 29.59375 \nL 56.203125 25.203125 \nL 14.890625 25.203125 \nQ 15.484375 15.921875 20.484375 11.0625 \nQ 25.484375 6.203125 34.421875 6.203125 \nQ 39.59375 6.203125 44.453125 7.46875 \nQ 49.3125 8.734375 54.109375 11.28125 \nL 54.109375 2.78125 \nQ 49.265625 0.734375 44.1875 -0.34375 \nQ 39.109375 -1.421875 33.890625 -1.421875 \nQ 20.796875 -1.421875 13.15625 6.1875 \nQ 5.515625 13.8125 5.515625 26.8125 \nQ 5.515625 40.234375 12.765625 48.109375 \nQ 20.015625 56 32.328125 56 \nQ 43.359375 56 49.78125 48.890625 \nQ 56.203125 41.796875 56.203125 29.59375 \nz\nM 47.21875 32.234375 \nQ 47.125 39.59375 43.09375 43.984375 \nQ 39.0625 48.390625 32.421875 48.390625 \nQ 24.90625 48.390625 20.390625 44.140625 \nQ 15.875 39.890625 15.1875 32.171875 \nz\n\" id=\"DejaVuSans-101\"/>\n       <path d=\"M 45.40625 46.390625 \nL 45.40625 75.984375 \nL 54.390625 75.984375 \nL 54.390625 0 \nL 45.40625 0 \nL 45.40625 8.203125 \nQ 42.578125 3.328125 38.25 0.953125 \nQ 33.9375 -1.421875 27.875 -1.421875 \nQ 17.96875 -1.421875 11.734375 6.484375 \nQ 5.515625 14.40625 5.515625 27.296875 \nQ 5.515625 40.1875 11.734375 48.09375 \nQ 17.96875 56 27.875 56 \nQ 33.9375 56 38.25 53.625 \nQ 42.578125 51.265625 45.40625 46.390625 \nz\nM 14.796875 27.296875 \nQ 14.796875 17.390625 18.875 11.75 \nQ 22.953125 6.109375 30.078125 6.109375 \nQ 37.203125 6.109375 41.296875 11.75 \nQ 45.40625 17.390625 45.40625 27.296875 \nQ 45.40625 37.203125 41.296875 42.84375 \nQ 37.203125 48.484375 30.078125 48.484375 \nQ 22.953125 48.484375 18.875 42.84375 \nQ 14.796875 37.203125 14.796875 27.296875 \nz\n\" id=\"DejaVuSans-100\"/>\n       <path d=\"M 9.421875 54.6875 \nL 18.40625 54.6875 \nL 18.40625 0 \nL 9.421875 0 \nz\nM 9.421875 75.984375 \nL 18.40625 75.984375 \nL 18.40625 64.59375 \nL 9.421875 64.59375 \nz\n\" id=\"DejaVuSans-105\"/>\n       <path d=\"M 48.78125 52.59375 \nL 48.78125 44.1875 \nQ 44.96875 46.296875 41.140625 47.34375 \nQ 37.3125 48.390625 33.40625 48.390625 \nQ 24.65625 48.390625 19.8125 42.84375 \nQ 14.984375 37.3125 14.984375 27.296875 \nQ 14.984375 17.28125 19.8125 11.734375 \nQ 24.65625 6.203125 33.40625 6.203125 \nQ 37.3125 6.203125 41.140625 7.25 \nQ 44.96875 8.296875 48.78125 10.40625 \nL 48.78125 2.09375 \nQ 45.015625 0.34375 40.984375 -0.53125 \nQ 36.96875 -1.421875 32.421875 -1.421875 \nQ 20.0625 -1.421875 12.78125 6.34375 \nQ 5.515625 14.109375 5.515625 27.296875 \nQ 5.515625 40.671875 12.859375 48.328125 \nQ 20.21875 56 33.015625 56 \nQ 37.15625 56 41.109375 55.140625 \nQ 45.0625 54.296875 48.78125 52.59375 \nz\n\" id=\"DejaVuSans-99\"/>\n       <path d=\"M 18.3125 70.21875 \nL 18.3125 54.6875 \nL 36.8125 54.6875 \nL 36.8125 47.703125 \nL 18.3125 47.703125 \nL 18.3125 18.015625 \nQ 18.3125 11.328125 20.140625 9.421875 \nQ 21.96875 7.515625 27.59375 7.515625 \nL 36.8125 7.515625 \nL 36.8125 0 \nL 27.59375 0 \nQ 17.1875 0 13.234375 3.875 \nQ 9.28125 7.765625 9.28125 18.015625 \nL 9.28125 47.703125 \nL 2.6875 47.703125 \nL 2.6875 54.6875 \nL 9.28125 54.6875 \nL 9.28125 70.21875 \nz\n\" id=\"DejaVuSans-116\"/>\n       <path d=\"M 30.609375 48.390625 \nQ 23.390625 48.390625 19.1875 42.75 \nQ 14.984375 37.109375 14.984375 27.296875 \nQ 14.984375 17.484375 19.15625 11.84375 \nQ 23.34375 6.203125 30.609375 6.203125 \nQ 37.796875 6.203125 41.984375 11.859375 \nQ 46.1875 17.53125 46.1875 27.296875 \nQ 46.1875 37.015625 41.984375 42.703125 \nQ 37.796875 48.390625 30.609375 48.390625 \nz\nM 30.609375 56 \nQ 42.328125 56 49.015625 48.375 \nQ 55.71875 40.765625 55.71875 27.296875 \nQ 55.71875 13.875 49.015625 6.21875 \nQ 42.328125 -1.421875 30.609375 -1.421875 \nQ 18.84375 -1.421875 12.171875 6.21875 \nQ 5.515625 13.875 5.515625 27.296875 \nQ 5.515625 40.765625 12.171875 48.375 \nQ 18.84375 56 30.609375 56 \nz\n\" id=\"DejaVuSans-111\"/>\n       <path d=\"M 54.890625 33.015625 \nL 54.890625 0 \nL 45.90625 0 \nL 45.90625 32.71875 \nQ 45.90625 40.484375 42.875 44.328125 \nQ 39.84375 48.1875 33.796875 48.1875 \nQ 26.515625 48.1875 22.3125 43.546875 \nQ 18.109375 38.921875 18.109375 30.90625 \nL 18.109375 0 \nL 9.078125 0 \nL 9.078125 54.6875 \nL 18.109375 54.6875 \nL 18.109375 46.1875 \nQ 21.34375 51.125 25.703125 53.5625 \nQ 30.078125 56 35.796875 56 \nQ 45.21875 56 50.046875 50.171875 \nQ 54.890625 44.34375 54.890625 33.015625 \nz\n\" id=\"DejaVuSans-110\"/>\n      </defs>\n      <use xlink:href=\"#DejaVuSans-112\"/>\n      <use x=\"63.476562\" xlink:href=\"#DejaVuSans-114\"/>\n      <use x=\"102.339844\" xlink:href=\"#DejaVuSans-101\"/>\n      <use x=\"163.863281\" xlink:href=\"#DejaVuSans-100\"/>\n      <use x=\"227.339844\" xlink:href=\"#DejaVuSans-105\"/>\n      <use x=\"255.123047\" xlink:href=\"#DejaVuSans-99\"/>\n      <use x=\"310.103516\" xlink:href=\"#DejaVuSans-116\"/>\n      <use x=\"349.3125\" xlink:href=\"#DejaVuSans-105\"/>\n      <use x=\"377.095703\" xlink:href=\"#DejaVuSans-111\"/>\n      <use x=\"438.277344\" xlink:href=\"#DejaVuSans-110\"/>\n     </g>\n    </g>\n   </g>\n   <g id=\"matplotlib.axis_2\">\n    <g id=\"ytick_1\">\n     <g id=\"line2d_3\">\n      <defs>\n       <path d=\"M 0 0 \nL -3.5 0 \n\" id=\"m13e93fb79d\" style=\"stroke:#000000;stroke-width:0.8;\"/>\n      </defs>\n      <g>\n       <use style=\"stroke:#000000;stroke-width:0.8;\" x=\"26.925\" xlink:href=\"#m13e93fb79d\" y=\"224.64\"/>\n      </g>\n     </g>\n     <g id=\"text_4\">\n      <!-- 0 -->\n      <g transform=\"translate(13.5625 228.439219)scale(0.1 -0.1)\">\n       <use xlink:href=\"#DejaVuSans-48\"/>\n      </g>\n     </g>\n    </g>\n    <g id=\"ytick_2\">\n     <g id=\"line2d_4\">\n      <g>\n       <use style=\"stroke:#000000;stroke-width:0.8;\" x=\"26.925\" xlink:href=\"#m13e93fb79d\" y=\"177.575065\"/>\n      </g>\n     </g>\n     <g id=\"text_5\">\n      <!-- 20 -->\n      <g transform=\"translate(7.2 181.374284)scale(0.1 -0.1)\">\n       <defs>\n        <path d=\"M 19.1875 8.296875 \nL 53.609375 8.296875 \nL 53.609375 0 \nL 7.328125 0 \nL 7.328125 8.296875 \nQ 12.9375 14.109375 22.625 23.890625 \nQ 32.328125 33.6875 34.8125 36.53125 \nQ 39.546875 41.84375 41.421875 45.53125 \nQ 43.3125 49.21875 43.3125 52.78125 \nQ 43.3125 58.59375 39.234375 62.25 \nQ 35.15625 65.921875 28.609375 65.921875 \nQ 23.96875 65.921875 18.8125 64.3125 \nQ 13.671875 62.703125 7.8125 59.421875 \nL 7.8125 69.390625 \nQ 13.765625 71.78125 18.9375 73 \nQ 24.125 74.21875 28.421875 74.21875 \nQ 39.75 74.21875 46.484375 68.546875 \nQ 53.21875 62.890625 53.21875 53.421875 \nQ 53.21875 48.921875 51.53125 44.890625 \nQ 49.859375 40.875 45.40625 35.40625 \nQ 44.1875 33.984375 37.640625 27.21875 \nQ 31.109375 20.453125 19.1875 8.296875 \nz\n\" id=\"DejaVuSans-50\"/>\n       </defs>\n       <use xlink:href=\"#DejaVuSans-50\"/>\n       <use x=\"63.623047\" xlink:href=\"#DejaVuSans-48\"/>\n      </g>\n     </g>\n    </g>\n    <g id=\"ytick_3\">\n     <g id=\"line2d_5\">\n      <g>\n       <use style=\"stroke:#000000;stroke-width:0.8;\" x=\"26.925\" xlink:href=\"#m13e93fb79d\" y=\"130.51013\"/>\n      </g>\n     </g>\n     <g id=\"text_6\">\n      <!-- 40 -->\n      <g transform=\"translate(7.2 134.309349)scale(0.1 -0.1)\">\n       <defs>\n        <path d=\"M 37.796875 64.3125 \nL 12.890625 25.390625 \nL 37.796875 25.390625 \nz\nM 35.203125 72.90625 \nL 47.609375 72.90625 \nL 47.609375 25.390625 \nL 58.015625 25.390625 \nL 58.015625 17.1875 \nL 47.609375 17.1875 \nL 47.609375 0 \nL 37.796875 0 \nL 37.796875 17.1875 \nL 4.890625 17.1875 \nL 4.890625 26.703125 \nz\n\" id=\"DejaVuSans-52\"/>\n       </defs>\n       <use xlink:href=\"#DejaVuSans-52\"/>\n       <use x=\"63.623047\" xlink:href=\"#DejaVuSans-48\"/>\n      </g>\n     </g>\n    </g>\n    <g id=\"ytick_4\">\n     <g id=\"line2d_6\">\n      <g>\n       <use style=\"stroke:#000000;stroke-width:0.8;\" x=\"26.925\" xlink:href=\"#m13e93fb79d\" y=\"83.445195\"/>\n      </g>\n     </g>\n     <g id=\"text_7\">\n      <!-- 60 -->\n      <g transform=\"translate(7.2 87.244414)scale(0.1 -0.1)\">\n       <defs>\n        <path d=\"M 33.015625 40.375 \nQ 26.375 40.375 22.484375 35.828125 \nQ 18.609375 31.296875 18.609375 23.390625 \nQ 18.609375 15.53125 22.484375 10.953125 \nQ 26.375 6.390625 33.015625 6.390625 \nQ 39.65625 6.390625 43.53125 10.953125 \nQ 47.40625 15.53125 47.40625 23.390625 \nQ 47.40625 31.296875 43.53125 35.828125 \nQ 39.65625 40.375 33.015625 40.375 \nz\nM 52.59375 71.296875 \nL 52.59375 62.3125 \nQ 48.875 64.0625 45.09375 64.984375 \nQ 41.3125 65.921875 37.59375 65.921875 \nQ 27.828125 65.921875 22.671875 59.328125 \nQ 17.53125 52.734375 16.796875 39.40625 \nQ 19.671875 43.65625 24.015625 45.921875 \nQ 28.375 48.1875 33.59375 48.1875 \nQ 44.578125 48.1875 50.953125 41.515625 \nQ 57.328125 34.859375 57.328125 23.390625 \nQ 57.328125 12.15625 50.6875 5.359375 \nQ 44.046875 -1.421875 33.015625 -1.421875 \nQ 20.359375 -1.421875 13.671875 8.265625 \nQ 6.984375 17.96875 6.984375 36.375 \nQ 6.984375 53.65625 15.1875 63.9375 \nQ 23.390625 74.21875 37.203125 74.21875 \nQ 40.921875 74.21875 44.703125 73.484375 \nQ 48.484375 72.75 52.59375 71.296875 \nz\n\" id=\"DejaVuSans-54\"/>\n       </defs>\n       <use xlink:href=\"#DejaVuSans-54\"/>\n       <use x=\"63.623047\" xlink:href=\"#DejaVuSans-48\"/>\n      </g>\n     </g>\n    </g>\n    <g id=\"ytick_5\">\n     <g id=\"line2d_7\">\n      <g>\n       <use style=\"stroke:#000000;stroke-width:0.8;\" x=\"26.925\" xlink:href=\"#m13e93fb79d\" y=\"36.38026\"/>\n      </g>\n     </g>\n     <g id=\"text_8\">\n      <!-- 80 -->\n      <g transform=\"translate(7.2 40.179478)scale(0.1 -0.1)\">\n       <defs>\n        <path d=\"M 31.78125 34.625 \nQ 24.75 34.625 20.71875 30.859375 \nQ 16.703125 27.09375 16.703125 20.515625 \nQ 16.703125 13.921875 20.71875 10.15625 \nQ 24.75 6.390625 31.78125 6.390625 \nQ 38.8125 6.390625 42.859375 10.171875 \nQ 46.921875 13.96875 46.921875 20.515625 \nQ 46.921875 27.09375 42.890625 30.859375 \nQ 38.875 34.625 31.78125 34.625 \nz\nM 21.921875 38.8125 \nQ 15.578125 40.375 12.03125 44.71875 \nQ 8.5 49.078125 8.5 55.328125 \nQ 8.5 64.0625 14.71875 69.140625 \nQ 20.953125 74.21875 31.78125 74.21875 \nQ 42.671875 74.21875 48.875 69.140625 \nQ 55.078125 64.0625 55.078125 55.328125 \nQ 55.078125 49.078125 51.53125 44.71875 \nQ 48 40.375 41.703125 38.8125 \nQ 48.828125 37.15625 52.796875 32.3125 \nQ 56.78125 27.484375 56.78125 20.515625 \nQ 56.78125 9.90625 50.3125 4.234375 \nQ 43.84375 -1.421875 31.78125 -1.421875 \nQ 19.734375 -1.421875 13.25 4.234375 \nQ 6.78125 9.90625 6.78125 20.515625 \nQ 6.78125 27.484375 10.78125 32.3125 \nQ 14.796875 37.15625 21.921875 38.8125 \nz\nM 18.3125 54.390625 \nQ 18.3125 48.734375 21.84375 45.5625 \nQ 25.390625 42.390625 31.78125 42.390625 \nQ 38.140625 42.390625 41.71875 45.5625 \nQ 45.3125 48.734375 45.3125 54.390625 \nQ 45.3125 60.0625 41.71875 63.234375 \nQ 38.140625 66.40625 31.78125 66.40625 \nQ 25.390625 66.40625 21.84375 63.234375 \nQ 18.3125 60.0625 18.3125 54.390625 \nz\n\" id=\"DejaVuSans-56\"/>\n       </defs>\n       <use xlink:href=\"#DejaVuSans-56\"/>\n       <use x=\"63.623047\" xlink:href=\"#DejaVuSans-48\"/>\n      </g>\n     </g>\n    </g>\n   </g>\n   <g id=\"patch_7\">\n    <path d=\"M 26.925 224.64 \nL 26.925 7.2 \n\" style=\"fill:none;stroke:#000000;stroke-linecap:square;stroke-linejoin:miter;stroke-width:0.8;\"/>\n   </g>\n   <g id=\"patch_8\">\n    <path d=\"M 361.725 224.64 \nL 361.725 7.2 \n\" style=\"fill:none;stroke:#000000;stroke-linecap:square;stroke-linejoin:miter;stroke-width:0.8;\"/>\n   </g>\n   <g id=\"patch_9\">\n    <path d=\"M 26.925 224.64 \nL 361.725 224.64 \n\" style=\"fill:none;stroke:#000000;stroke-linecap:square;stroke-linejoin:miter;stroke-width:0.8;\"/>\n   </g>\n   <g id=\"patch_10\">\n    <path d=\"M 26.925 7.2 \nL 361.725 7.2 \n\" style=\"fill:none;stroke:#000000;stroke-linecap:square;stroke-linejoin:miter;stroke-width:0.8;\"/>\n   </g>\n   <g id=\"legend_1\">\n    <g id=\"patch_11\">\n     <path d=\"M 33.925 59.234375 \nL 226.73125 59.234375 \nQ 228.73125 59.234375 228.73125 57.234375 \nL 228.73125 14.2 \nQ 228.73125 12.2 226.73125 12.2 \nL 33.925 12.2 \nQ 31.925 12.2 31.925 14.2 \nL 31.925 57.234375 \nQ 31.925 59.234375 33.925 59.234375 \nz\n\" style=\"fill:#ffffff;opacity:0.8;stroke:#cccccc;stroke-linejoin:miter;\"/>\n    </g>\n    <g id=\"text_9\">\n     <!-- If it raint today, will it Rain tomorrow? -->\n     <g transform=\"translate(35.925 23.798437)scale(0.1 -0.1)\">\n      <defs>\n       <path d=\"M 9.8125 72.90625 \nL 19.671875 72.90625 \nL 19.671875 0 \nL 9.8125 0 \nz\n\" id=\"DejaVuSans-73\"/>\n       <path d=\"M 37.109375 75.984375 \nL 37.109375 68.5 \nL 28.515625 68.5 \nQ 23.6875 68.5 21.796875 66.546875 \nQ 19.921875 64.59375 19.921875 59.515625 \nL 19.921875 54.6875 \nL 34.71875 54.6875 \nL 34.71875 47.703125 \nL 19.921875 47.703125 \nL 19.921875 0 \nL 10.890625 0 \nL 10.890625 47.703125 \nL 2.296875 47.703125 \nL 2.296875 54.6875 \nL 10.890625 54.6875 \nL 10.890625 58.5 \nQ 10.890625 67.625 15.140625 71.796875 \nQ 19.390625 75.984375 28.609375 75.984375 \nz\n\" id=\"DejaVuSans-102\"/>\n       <path id=\"DejaVuSans-32\"/>\n       <path d=\"M 34.28125 27.484375 \nQ 23.390625 27.484375 19.1875 25 \nQ 14.984375 22.515625 14.984375 16.5 \nQ 14.984375 11.71875 18.140625 8.90625 \nQ 21.296875 6.109375 26.703125 6.109375 \nQ 34.1875 6.109375 38.703125 11.40625 \nQ 43.21875 16.703125 43.21875 25.484375 \nL 43.21875 27.484375 \nz\nM 52.203125 31.203125 \nL 52.203125 0 \nL 43.21875 0 \nL 43.21875 8.296875 \nQ 40.140625 3.328125 35.546875 0.953125 \nQ 30.953125 -1.421875 24.3125 -1.421875 \nQ 15.921875 -1.421875 10.953125 3.296875 \nQ 6 8.015625 6 15.921875 \nQ 6 25.140625 12.171875 29.828125 \nQ 18.359375 34.515625 30.609375 34.515625 \nL 43.21875 34.515625 \nL 43.21875 35.40625 \nQ 43.21875 41.609375 39.140625 45 \nQ 35.0625 48.390625 27.6875 48.390625 \nQ 23 48.390625 18.546875 47.265625 \nQ 14.109375 46.140625 10.015625 43.890625 \nL 10.015625 52.203125 \nQ 14.9375 54.109375 19.578125 55.046875 \nQ 24.21875 56 28.609375 56 \nQ 40.484375 56 46.34375 49.84375 \nQ 52.203125 43.703125 52.203125 31.203125 \nz\n\" id=\"DejaVuSans-97\"/>\n       <path d=\"M 32.171875 -5.078125 \nQ 28.375 -14.84375 24.75 -17.8125 \nQ 21.140625 -20.796875 15.09375 -20.796875 \nL 7.90625 -20.796875 \nL 7.90625 -13.28125 \nL 13.1875 -13.28125 \nQ 16.890625 -13.28125 18.9375 -11.515625 \nQ 21 -9.765625 23.484375 -3.21875 \nL 25.09375 0.875 \nL 2.984375 54.6875 \nL 12.5 54.6875 \nL 29.59375 11.921875 \nL 46.6875 54.6875 \nL 56.203125 54.6875 \nz\n\" id=\"DejaVuSans-121\"/>\n       <path d=\"M 11.71875 12.40625 \nL 22.015625 12.40625 \nL 22.015625 4 \nL 14.015625 -11.625 \nL 7.71875 -11.625 \nL 11.71875 4 \nz\n\" id=\"DejaVuSans-44\"/>\n       <path d=\"M 4.203125 54.6875 \nL 13.1875 54.6875 \nL 24.421875 12.015625 \nL 35.59375 54.6875 \nL 46.1875 54.6875 \nL 57.421875 12.015625 \nL 68.609375 54.6875 \nL 77.59375 54.6875 \nL 63.28125 0 \nL 52.6875 0 \nL 40.921875 44.828125 \nL 29.109375 0 \nL 18.5 0 \nz\n\" id=\"DejaVuSans-119\"/>\n       <path d=\"M 9.421875 75.984375 \nL 18.40625 75.984375 \nL 18.40625 0 \nL 9.421875 0 \nz\n\" id=\"DejaVuSans-108\"/>\n       <path d=\"M 44.390625 34.1875 \nQ 47.5625 33.109375 50.5625 29.59375 \nQ 53.5625 26.078125 56.59375 19.921875 \nL 66.609375 0 \nL 56 0 \nL 46.6875 18.703125 \nQ 43.0625 26.03125 39.671875 28.421875 \nQ 36.28125 30.8125 30.421875 30.8125 \nL 19.671875 30.8125 \nL 19.671875 0 \nL 9.8125 0 \nL 9.8125 72.90625 \nL 32.078125 72.90625 \nQ 44.578125 72.90625 50.734375 67.671875 \nQ 56.890625 62.453125 56.890625 51.90625 \nQ 56.890625 45.015625 53.6875 40.46875 \nQ 50.484375 35.9375 44.390625 34.1875 \nz\nM 19.671875 64.796875 \nL 19.671875 38.921875 \nL 32.078125 38.921875 \nQ 39.203125 38.921875 42.84375 42.21875 \nQ 46.484375 45.515625 46.484375 51.90625 \nQ 46.484375 58.296875 42.84375 61.546875 \nQ 39.203125 64.796875 32.078125 64.796875 \nz\n\" id=\"DejaVuSans-82\"/>\n       <path d=\"M 52 44.1875 \nQ 55.375 50.25 60.0625 53.125 \nQ 64.75 56 71.09375 56 \nQ 79.640625 56 84.28125 50.015625 \nQ 88.921875 44.046875 88.921875 33.015625 \nL 88.921875 0 \nL 79.890625 0 \nL 79.890625 32.71875 \nQ 79.890625 40.578125 77.09375 44.375 \nQ 74.3125 48.1875 68.609375 48.1875 \nQ 61.625 48.1875 57.5625 43.546875 \nQ 53.515625 38.921875 53.515625 30.90625 \nL 53.515625 0 \nL 44.484375 0 \nL 44.484375 32.71875 \nQ 44.484375 40.625 41.703125 44.40625 \nQ 38.921875 48.1875 33.109375 48.1875 \nQ 26.21875 48.1875 22.15625 43.53125 \nQ 18.109375 38.875 18.109375 30.90625 \nL 18.109375 0 \nL 9.078125 0 \nL 9.078125 54.6875 \nL 18.109375 54.6875 \nL 18.109375 46.1875 \nQ 21.1875 51.21875 25.484375 53.609375 \nQ 29.78125 56 35.6875 56 \nQ 41.65625 56 45.828125 52.96875 \nQ 50 49.953125 52 44.1875 \nz\n\" id=\"DejaVuSans-109\"/>\n       <path d=\"M 19.09375 12.40625 \nL 29 12.40625 \nL 29 0 \nL 19.09375 0 \nz\nM 28.71875 19.578125 \nL 19.390625 19.578125 \nL 19.390625 27.09375 \nQ 19.390625 32.03125 20.75 35.203125 \nQ 22.125 38.375 26.515625 42.578125 \nL 30.90625 46.921875 \nQ 33.6875 49.515625 34.9375 51.8125 \nQ 36.1875 54.109375 36.1875 56.5 \nQ 36.1875 60.84375 32.984375 63.53125 \nQ 29.78125 66.21875 24.515625 66.21875 \nQ 20.65625 66.21875 16.28125 64.5 \nQ 11.921875 62.796875 7.171875 59.515625 \nL 7.171875 68.703125 \nQ 11.765625 71.484375 16.46875 72.84375 \nQ 21.1875 74.21875 26.21875 74.21875 \nQ 35.203125 74.21875 40.640625 69.484375 \nQ 46.09375 64.75 46.09375 56.984375 \nQ 46.09375 53.265625 44.328125 49.921875 \nQ 42.578125 46.578125 38.1875 42.390625 \nL 33.890625 38.1875 \nQ 31.59375 35.890625 30.640625 34.59375 \nQ 29.6875 33.296875 29.296875 32.078125 \nQ 29 31.0625 28.859375 29.59375 \nQ 28.71875 28.125 28.71875 25.59375 \nz\n\" id=\"DejaVuSans-63\"/>\n      </defs>\n      <use xlink:href=\"#DejaVuSans-73\"/>\n      <use x=\"29.492188\" xlink:href=\"#DejaVuSans-102\"/>\n      <use x=\"64.697266\" xlink:href=\"#DejaVuSans-32\"/>\n      <use x=\"96.484375\" xlink:href=\"#DejaVuSans-105\"/>\n      <use x=\"124.267578\" xlink:href=\"#DejaVuSans-116\"/>\n      <use x=\"163.476562\" xlink:href=\"#DejaVuSans-32\"/>\n      <use x=\"195.263672\" xlink:href=\"#DejaVuSans-114\"/>\n      <use x=\"236.376953\" xlink:href=\"#DejaVuSans-97\"/>\n      <use x=\"297.65625\" xlink:href=\"#DejaVuSans-105\"/>\n      <use x=\"325.439453\" xlink:href=\"#DejaVuSans-110\"/>\n      <use x=\"388.818359\" xlink:href=\"#DejaVuSans-116\"/>\n      <use x=\"428.027344\" xlink:href=\"#DejaVuSans-32\"/>\n      <use x=\"459.814453\" xlink:href=\"#DejaVuSans-116\"/>\n      <use x=\"499.023438\" xlink:href=\"#DejaVuSans-111\"/>\n      <use x=\"560.205078\" xlink:href=\"#DejaVuSans-100\"/>\n      <use x=\"623.681641\" xlink:href=\"#DejaVuSans-97\"/>\n      <use x=\"684.960938\" xlink:href=\"#DejaVuSans-121\"/>\n      <use x=\"744.140625\" xlink:href=\"#DejaVuSans-44\"/>\n      <use x=\"775.927734\" xlink:href=\"#DejaVuSans-32\"/>\n      <use x=\"807.714844\" xlink:href=\"#DejaVuSans-119\"/>\n      <use x=\"889.501953\" xlink:href=\"#DejaVuSans-105\"/>\n      <use x=\"917.285156\" xlink:href=\"#DejaVuSans-108\"/>\n      <use x=\"945.068359\" xlink:href=\"#DejaVuSans-108\"/>\n      <use x=\"972.851562\" xlink:href=\"#DejaVuSans-32\"/>\n      <use x=\"1004.638672\" xlink:href=\"#DejaVuSans-105\"/>\n      <use x=\"1032.421875\" xlink:href=\"#DejaVuSans-116\"/>\n      <use x=\"1071.630859\" xlink:href=\"#DejaVuSans-32\"/>\n      <use x=\"1103.417969\" xlink:href=\"#DejaVuSans-82\"/>\n      <use x=\"1170.650391\" xlink:href=\"#DejaVuSans-97\"/>\n      <use x=\"1231.929688\" xlink:href=\"#DejaVuSans-105\"/>\n      <use x=\"1259.712891\" xlink:href=\"#DejaVuSans-110\"/>\n      <use x=\"1323.091797\" xlink:href=\"#DejaVuSans-32\"/>\n      <use x=\"1354.878906\" xlink:href=\"#DejaVuSans-116\"/>\n      <use x=\"1394.087891\" xlink:href=\"#DejaVuSans-111\"/>\n      <use x=\"1455.269531\" xlink:href=\"#DejaVuSans-109\"/>\n      <use x=\"1552.681641\" xlink:href=\"#DejaVuSans-111\"/>\n      <use x=\"1613.863281\" xlink:href=\"#DejaVuSans-114\"/>\n      <use x=\"1653.226562\" xlink:href=\"#DejaVuSans-114\"/>\n      <use x=\"1692.089844\" xlink:href=\"#DejaVuSans-111\"/>\n      <use x=\"1753.271484\" xlink:href=\"#DejaVuSans-119\"/>\n      <use x=\"1835.058594\" xlink:href=\"#DejaVuSans-63\"/>\n     </g>\n    </g>\n    <g id=\"patch_12\">\n     <path d=\"M 108.376563 38.476562 \nL 128.376563 38.476562 \nL 128.376563 31.476562 \nL 108.376563 31.476562 \nz\n\" style=\"fill:#1f77b4;\"/>\n    </g>\n    <g id=\"text_10\">\n     <!-- 0.0 -->\n     <g transform=\"translate(136.376563 38.476562)scale(0.1 -0.1)\">\n      <defs>\n       <path d=\"M 10.6875 12.40625 \nL 21 12.40625 \nL 21 0 \nL 10.6875 0 \nz\n\" id=\"DejaVuSans-46\"/>\n      </defs>\n      <use xlink:href=\"#DejaVuSans-48\"/>\n      <use x=\"63.623047\" xlink:href=\"#DejaVuSans-46\"/>\n      <use x=\"95.410156\" xlink:href=\"#DejaVuSans-48\"/>\n     </g>\n    </g>\n    <g id=\"patch_13\">\n     <path d=\"M 108.376563 53.154687 \nL 128.376563 53.154687 \nL 128.376563 46.154687 \nL 108.376563 46.154687 \nz\n\" style=\"fill:#ff7f0e;\"/>\n    </g>\n    <g id=\"text_11\">\n     <!-- 1.0 -->\n     <g transform=\"translate(136.376563 53.154687)scale(0.1 -0.1)\">\n      <use xlink:href=\"#DejaVuSans-49\"/>\n      <use x=\"63.623047\" xlink:href=\"#DejaVuSans-46\"/>\n      <use x=\"95.410156\" xlink:href=\"#DejaVuSans-48\"/>\n     </g>\n    </g>\n   </g>\n  </g>\n </g>\n <defs>\n  <clipPath id=\"p703d346caa\">\n   <rect height=\"217.44\" width=\"334.8\" x=\"26.925\" y=\"7.2\"/>\n  </clipPath>\n </defs>\n</svg>\n",
      "image/png": "[encoded data removed]"
     },
     "metadata": {
      "needs_background": "light"
     }
    }
   ],
   "source": [
    "ct.plot.bar(stacked=True)\n",
    "plt.legend(title='If it raint today, will it Rain tomorrow?')\n",
    "plt.show()"
   ]
  },
  {
   "cell_type": "code",
   "execution_count": 299,
   "metadata": {},
   "outputs": [
    {
     "output_type": "execute_result",
     "data": {
      "text/plain": [
       "4460"
      ]
     },
     "metadata": {},
     "execution_count": 299
    }
   ],
   "source": [
    "wos_client.data_sets.get_records_count(payload_data_set_id) # ibm_watson_openscale\n"
   ]
  },
  {
   "cell_type": "code",
   "execution_count": 248,
   "metadata": {},
   "outputs": [
    {
     "output_type": "display_data",
     "data": {
      "text/plain": "<IPython.core.display.HTML object>",
      "text/html": "<HTML>\n        <body>\n            <h3>Monitor instances</h3>\n            <table style='border: 1px solid #dddddd; font-family: Courier'>\n                <th style='border: 1px solid #dddddd'>data_mart_id</th><th style='border: 1px solid #dddddd'>status</th><th style='border: 1px solid #dddddd'>target_id</th><th style='border: 1px solid #dddddd'>target_type</th><th style='border: 1px solid #dddddd'>monitor_definition_id</th><th style='border: 1px solid #dddddd'>created_at</th><th style='border: 1px solid #dddddd'>id</th>\n                <tr><td style='border: 1px solid #dddddd'>7b220d7b-3196-43c3-8510-a4f710021a04</td><td style='border: 1px solid #dddddd'>active</td><td style='border: 1px solid #dddddd'>bb7a45c3-15ad-4932-aeb8-8d32d54b8b05</td><td style='border: 1px solid #dddddd'>subscription</td><td style='border: 1px solid #dddddd'>quality</td><td style='border: 1px solid #dddddd'>2021-04-08 16:25:48.434000+00:00</td><td style='border: 1px solid #dddddd'>5ddff093-25fa-44f8-abae-fd29659fd0d0</td></tr><tr><td style='border: 1px solid #dddddd'>7b220d7b-3196-43c3-8510-a4f710021a04</td><td style='border: 1px solid #dddddd'>active</td><td style='border: 1px solid #dddddd'>bb7a45c3-15ad-4932-aeb8-8d32d54b8b05</td><td style='border: 1px solid #dddddd'>subscription</td><td style='border: 1px solid #dddddd'>drift</td><td style='border: 1px solid #dddddd'>2021-04-05 15:16:56.829000+00:00</td><td style='border: 1px solid #dddddd'>9d51655d-1f57-4061-9df4-8ef20b6ebced</td></tr><tr><td style='border: 1px solid #dddddd'>7b220d7b-3196-43c3-8510-a4f710021a04</td><td style='border: 1px solid #dddddd'>error</td><td style='border: 1px solid #dddddd'>bb7a45c3-15ad-4932-aeb8-8d32d54b8b05</td><td style='border: 1px solid #dddddd'>subscription</td><td style='border: 1px solid #dddddd'>fairness</td><td style='border: 1px solid #dddddd'>2021-04-04 21:30:28.742000+00:00</td><td style='border: 1px solid #dddddd'>30bc90c4-8c54-413d-98aa-8d4ff5bb2680</td></tr><tr><td style='border: 1px solid #dddddd'>7b220d7b-3196-43c3-8510-a4f710021a04</td><td style='border: 1px solid #dddddd'>error</td><td style='border: 1px solid #dddddd'>bb7a45c3-15ad-4932-aeb8-8d32d54b8b05</td><td style='border: 1px solid #dddddd'>subscription</td><td style='border: 1px solid #dddddd'>explainability</td><td style='border: 1px solid #dddddd'>2021-04-04 21:28:01.896000+00:00</td><td style='border: 1px solid #dddddd'>dcb0abd5-b476-43c0-ba7f-be93ad250d6f</td></tr><tr><td style='border: 1px solid #dddddd'>7b220d7b-3196-43c3-8510-a4f710021a04</td><td style='border: 1px solid #dddddd'>active</td><td style='border: 1px solid #dddddd'>bb7a45c3-15ad-4932-aeb8-8d32d54b8b05</td><td style='border: 1px solid #dddddd'>subscription</td><td style='border: 1px solid #dddddd'>mrm</td><td style='border: 1px solid #dddddd'>2021-04-04 21:23:42.492000+00:00</td><td style='border: 1px solid #dddddd'>3748dfc5-7236-406b-be1d-1ca2363c9343</td></tr><tr><td style='border: 1px solid #dddddd'>7b220d7b-3196-43c3-8510-a4f710021a04</td><td style='border: 1px solid #dddddd'>active</td><td style='border: 1px solid #dddddd'>bb7a45c3-15ad-4932-aeb8-8d32d54b8b05</td><td style='border: 1px solid #dddddd'>subscription</td><td style='border: 1px solid #dddddd'>performance</td><td style='border: 1px solid #dddddd'>2021-04-04 21:23:42.488000+00:00</td><td style='border: 1px solid #dddddd'>570ab6f2-e0e3-4402-bb78-d8de41331a3e</td></tr><tr><td style='border: 1px solid #dddddd'>7b220d7b-3196-43c3-8510-a4f710021a04</td><td style='border: 1px solid #dddddd'>active</td><td style='border: 1px solid #dddddd'>6812f06b-1a26-4eba-93cf-91b520950a74</td><td style='border: 1px solid #dddddd'>instance</td><td style='border: 1px solid #dddddd'>performance</td><td style='border: 1px solid #dddddd'>2021-03-10 18:28:38.861000+00:00</td><td style='border: 1px solid #dddddd'>26bb6bb7-d140-4280-8044-63ec11f7af3b</td></tr>\n            </table>\n        </body>\n        </HTML>"
     },
     "metadata": {}
    }
   ],
   "source": [
    "monitor_instances_info = wos_client.monitor_instances.show(\n",
    "    data_mart_id=\"7b220d7b-3196-43c3-8510-a4f710021a04\",\n",
    "     )\n"
   ]
  },
  {
   "cell_type": "code",
   "execution_count": 246,
   "metadata": {},
   "outputs": [
    {
     "output_type": "display_data",
     "data": {
      "text/plain": "<IPython.core.display.HTML object>",
      "text/html": "<HTML>\n        <body>\n            <h3>5ddff093-25fa-44f8-abae-fd29659fd0d0 Monitor Runs Metrics from: 2021-04-01 13:36:48.101190  till: 2021-04-08 13:36:48.101198</h3>\n            <table style='border: 1px solid #dddddd; font-family: Courier'>\n                <th style='border: 1px solid #dddddd'>ts</th><th style='border: 1px solid #dddddd'>id</th><th style='border: 1px solid #dddddd'>measurement_id</th><th style='border: 1px solid #dddddd'>value</th><th style='border: 1px solid #dddddd'>lower_limit</th><th style='border: 1px solid #dddddd'>upper_limit</th><th style='border: 1px solid #dddddd'>tags</th><th style='border: 1px solid #dddddd'>monitor_definition_id</th><th style='border: 1px solid #dddddd'>monitor_instance_id</th><th style='border: 1px solid #dddddd'>run_id</th><th style='border: 1px solid #dddddd'>target_type</th><th style='border: 1px solid #dddddd'>target_id</th>\n                \n            </table>\n        </body>\n        </HTML>"
     },
     "metadata": {}
    }
   ],
   "source": [
    "wos_client.monitor_instances.show_metrics(monitor_instance_id='5ddff093-25fa-44f8-abae-fd29659fd0d0')"
   ]
  },
  {
   "cell_type": "code",
   "execution_count": 232,
   "metadata": {},
   "outputs": [
    {
     "output_type": "stream",
     "name": "stdout",
     "text": [
      "\n",
      "\n",
      "===================================================================================\n",
      "\n",
      " Waiting for end of deleting monitor instance 94e582d5-c244-4533-9697-c16046c5fc40 \n",
      "\n",
      "===================================================================================\n",
      "\n",
      "\n",
      "\n",
      "finished\n",
      "\n",
      "-------------------------------------------------\n",
      " Successfully finished deleting monitor instance \n",
      "-------------------------------------------------\n",
      "\n",
      "\n"
     ]
    },
    {
     "output_type": "execute_result",
     "data": {
      "text/plain": [
       "<ibm_cloud_sdk_core.detailed_response.DetailedResponse at 0x7f960d7aee48>"
      ]
     },
     "metadata": {},
     "execution_count": 232
    }
   ],
   "source": [
    "# wos_client.monitor_instances.delete(\n",
    "#         background_mode=False,\n",
    "#         monitor_instance_id='94e582d5-c244-4533-9697-c16046c5fc40'\n",
    "#      )\n"
   ]
  },
  {
   "cell_type": "code",
   "execution_count": 300,
   "metadata": {},
   "outputs": [
    {
     "output_type": "stream",
     "name": "stdout",
     "text": [
      "\n",
      "\n",
      "========================================================================\n",
      "\n",
      " Waiting for end of monitoring run 2187b9be-1ceb-47ad-ae2b-1e83528c3b3e \n",
      "\n",
      "========================================================================\n",
      "\n",
      "\n",
      "\n",
      "error\n",
      "\n",
      "-------------------------------\n",
      " Run failed with status: error \n",
      "-------------------------------\n",
      "\n",
      "\n",
      "Reason: ['code: AIQFS0002E, message: Action `Score Batch` has failed with status code 400; associated message: `{2}`', 'code: AIQGS0099E, message: X has 66 features, but this StandardScaler is expecting 61 features as input.']\n"
     ]
    }
   ],
   "source": [
    "monitor_instance_run_info = wos_client.monitor_instances.run(\n",
    "        background_mode=False,\n",
    "        monitor_instance_id='5ddff093-25fa-44f8-abae-fd29659fd0d0'\n",
    "     )"
   ]
  },
  {
   "cell_type": "code",
   "execution_count": null,
   "metadata": {},
   "outputs": [],
   "source": []
  }
 ]
}