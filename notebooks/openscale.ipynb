{
 "metadata": {
  "language_info": {
   "codemirror_mode": {
    "name": "ipython",
    "version": 3
   },
   "file_extension": ".py",
   "mimetype": "text/x-python",
   "name": "python",
   "nbconvert_exporter": "python",
   "pygments_lexer": "ipython3",
   "version": "3.6.9"
  },
  "orig_nbformat": 2,
  "kernelspec": {
   "name": "python3",
   "display_name": "Python 3.6.9 64-bit",
   "metadata": {
    "interpreter": {
     "hash": "31f2aee4e71d21fbe5cf8b01ff0e069b9275f58929596ceb00d14d90e3e16cd6"
    }
   }
  }
 },
 "nbformat": 4,
 "nbformat_minor": 2,
 "cells": [
  {
   "cell_type": "code",
   "execution_count": 1,
   "metadata": {},
   "outputs": [
    {
     "output_type": "stream",
     "name": "stdout",
     "text": [
      "7b220d7b-3196-43c3-8510-a4f710021a04\n",
      "2.2.1\n",
      "DEPRECATED!! Python 3.6 framework is deprecated and will be removed on Jan 20th, 2021. It will be read-only mode starting Nov 20th, 2020. i.e you won't be able to create new assets using this client. Use Python 3.7 instead. For details, see https://dataplatform.cloud.ibm.com/docs/content/wsj/analyze-data/pm_service_supported_frameworks.html\n"
     ]
    },
    {
     "output_type": "execute_result",
     "data": {
      "text/plain": [
       "'SUCCESS'"
      ]
     },
     "metadata": {},
     "execution_count": 1
    }
   ],
   "source": [
    "import os\n",
    "import sys\n",
    "import yaml\n",
    "from ibm_cloud_sdk_core.authenticators import IAMAuthenticator\n",
    "from ibm_ai_openscale import APIClient\n",
    "from ibm_ai_openscale.engines import *\n",
    "from ibm_ai_openscale.utils import *\n",
    "from ibm_ai_openscale.supporting_classes import PayloadRecord, Feature\n",
    "from ibm_ai_openscale.supporting_classes.enums import *\n",
    "import requests\n",
    "from ibm_ai_openscale.utils import get_instance_guid\n",
    "import ibm_watson_machine_learning\n",
    "import json\n",
    "import pandas as pd\n",
    "from sklearn.model_selection import train_test_split\n",
    "import numpy as np\n",
    "from sklearn.metrics import confusion_matrix, accuracy_score, precision_score, recall_score, f1_score\n",
    "\n",
    "with open(\"../credentials.yaml\") as stream:\n",
    "    try:\n",
    "        credentials = yaml.safe_load(stream)\n",
    "    except yaml.YAMLError as exc:\n",
    "        print(exc)\n",
    "\n",
    "\n",
    "with open(\"../metadata.yaml\") as stream:\n",
    "    try:\n",
    "        metadata = yaml.safe_load(stream)\n",
    "    except yaml.YAMLError as exc:\n",
    "        print(exc)\n",
    "\n",
    "\n",
    "service_credentials = {\n",
    "    \"apikey\": credentials[\"apikey\"],\n",
    "    \"url\": \"https://api.aiopenscale.cloud.ibm.com\",\n",
    "}\n",
    "\n",
    "DEPLOYMENT_UID = metadata[\"deployment_uid\"]\n",
    "MODEL_UID = metadata[\"model_uid\"]\n",
    "MODEL_NAME = metadata[\"project_name\"] + \"_\" + metadata[\"project_version\"]\n",
    "SPACE_ID = credentials[\"space_id\"]\n",
    "WOS_GUID = get_instance_guid(api_key=service_credentials[\"apikey\"])\n",
    "WOS_CREDENTIALS = {\n",
    "    \"instance_guid\": WOS_GUID,\n",
    "    \"apikey\": service_credentials[\"apikey\"],\n",
    "    \"url\": \"https://api.aiopenscale.cloud.ibm.com\",\n",
    "}\n",
    "\n",
    "if WOS_GUID is None:\n",
    "    print(\"Watson OpenScale GUID NOT FOUND\")\n",
    "else:\n",
    "    print(WOS_GUID)\n",
    "    \n",
    "ai_client = APIClient(aios_credentials=WOS_CREDENTIALS)\n",
    "print(ai_client.version)\n",
    "\n",
    "wml_credentials = {\"url\": credentials[\"url\"], \"apikey\": credentials[\"apikey\"]}\n",
    "\n",
    "wml_client = ibm_watson_machine_learning.APIClient(wml_credentials)\n",
    "\n",
    "wml_credentials = {\n",
    "    \"url\": credentials[\"url\"],\n",
    "    \"apikey\": credentials[\"apikey\"],\n",
    "    \"instance_id\": \"wml_local\",\n",
    "}\n",
    "\n",
    "wml_client.set.default_space(\"16148a4d-9055-4220-af26-0c0369cdf31a\")\n",
    "\n",
    "\n"
   ]
  },
  {
   "cell_type": "code",
   "execution_count": 2,
   "metadata": {},
   "outputs": [
    {
     "output_type": "stream",
     "name": "stdout",
     "text": [
      "Using existing internal datamart.\n",
      "Operation 'engine binding' is supported for Watson Machine Learning in Dallas or Frankfurt regions\n",
      "Warning during bind instance.\n",
      "Status code: 409, body: {\"errors\":[{\"code\":\"AIQCS0010W\",\"message\":\"Service Binding with this id is already defined\"}],\"trace\":\"NzBhNzQzNGItM2NkNC00ZWE0LWFhYjMtZjBmZjhiNTIzNGEx\"}\n"
     ]
    },
    {
     "output_type": "display_data",
     "data": {
      "text/plain": "<IPython.core.display.HTML object>",
      "text/html": "<HTML>\n        <body>\n            <h3>Service bindings</h3>\n            <table style='border: 1px solid #dddddd; font-family: Courier'>\n                <th style='border: 1px solid #dddddd'>uid</th><th style='border: 1px solid #dddddd'>name</th><th style='border: 1px solid #dddddd'>service_type</th><th style='border: 1px solid #dddddd'>created</th>\n                <tr><td style='border: 1px solid #dddddd'>wml_local</td><td style='border: 1px solid #dddddd'>Rain Australia</td><td style='border: 1px solid #dddddd'>watson_machine_learning</td><td style='border: 1px solid #dddddd'>2021-04-04T21:16:49.550Z</td></tr><tr><td style='border: 1px solid #dddddd'>974615e0-4c06-40a3-af1f-944192f7e472</td><td style='border: 1px solid #dddddd'>Rain Aus</td><td style='border: 1px solid #dddddd'>watson_machine_learning</td><td style='border: 1px solid #dddddd'>2021-04-01T18:34:08.733Z</td></tr>\n            </table>\n        </body>\n        </HTML>"
     },
     "metadata": {}
    },
    {
     "output_type": "stream",
     "name": "stdout",
     "text": [
      "Warning: Failure during getting artifacts for binding: wml_local. Failure during get deployments. (GET https://api.aiopenscale.cloud.ibm.com/v1/ml_instances/wml_local/deployments?datamart_id=7b220d7b-3196-43c3-8510-a4f710021a04&limit=1000)\nStatus code: 500, body: {\"trace\":\"java.lang.RuntimeException: AIQGS0023E : BindingOrInstanceId = wml_local, ServiceType = watson_machine_learning, SubscriptionId = null : GetDeployments failed org.apache.http.client.ClientProtocolException: AIQGS0167E : HTTP call failed (no of calls attempted = 1, method = GET, url = https://us-south.ml.cloud.ibm.com/v3/wml_instances/wml_local/deployments, status = 403)..\\n\\tat com.ibm.aios.mlgateway.discovery.impl.WMLDeployments.getDeploymentCollectionBySpaceId(WMLDeployments.java:399)\\n\\tat com.ibm.aios.mlgateway.discovery.impl.WMLDeployments.getDeploymentCollection(WMLDeployments.java:247)\\n\\tat com.ibm.aios.mlgateway.discovery.impl.WMLDeployments.getDeployments(WMLDeployments.java:224)\\n\\tat com.ibm.aios.mlgateway.api.server.impl.DeploymentCollectionFactory.getDeploymentCollection(DeploymentCollectionFactory.java:102)\\n\\tat com.ibm.aios.mlgateway.api.server.impl.V1ApiServiceImpl.getDeploymentsByBindingId(V1ApiServiceImpl.java:185)\\n\\tat com.ibm.aios.mlgateway.api.server.V1Api.getDeploymentsByBindingId(V1Api.java:75)\\n\\tat sun.reflect.GeneratedMethodAccessor185.invoke(Unknown Source)\\n\\tat sun.reflect.DelegatingMethodAccessorImpl.invoke(Unknown Source)\\n\\tat java.lang.reflect.Method.invoke(Unknown Source)\\n\\tat com.ibm.ws.jaxrs20.server.LibertyJaxRsServerFactoryBean.performInvocation(LibertyJaxRsServerFactoryBean.java:656)\\n\\tat com.ibm.ws.jaxrs20.server.LibertyJaxRsInvoker.performInvocation(LibertyJaxRsInvoker.java:160)\\n\\tat org.apache.cxf.service.invoker.AbstractInvoker.invoke(AbstractInvoker.java:96)\\n\\tat com.ibm.ws.jaxrs20.server.LibertyJaxRsInvoker.invoke(LibertyJaxRsInvoker.java:273)\\n\\tat org.apache.cxf.jaxrs.JAXRSInvoker.invoke(JAXRSInvoker.java:191)\\n\\tat com.ibm.ws.jaxrs20.server.LibertyJaxRsInvoker.invoke(LibertyJaxRsInvoker.java:444)\\n\\tat org.apache.cxf.jaxrs.JAXRSInvoker.invoke(JAXRSInvoker.java:101)\\n\\tat org.apache.cxf.interceptor.ServiceInvokerInterceptor$1.run(ServiceInvokerInterceptor.java:61)\\n\\tat org.apache.cxf.interceptor.ServiceInvokerInterceptor.handleMessage(ServiceInvokerInterceptor.java:99)\\n\\tat org.apache.cxf.phase.PhaseInterceptorChain.doIntercept(PhaseInterceptorChain.java:309)\\n\\tat org.apache.cxf.transport.ChainInitiationObserver.onMessage(ChainInitiationObserver.java:124)\\n\\tat org.apache.cxf.transport.http.AbstractHTTPDestination.invoke(AbstractHTTPDestination.java:271)\\n\\tat com.ibm.ws.jaxrs20.endpoint.AbstractJaxRsWebEndpoint.invoke(AbstractJaxRsWebEndpoint.java:136)\\n\\tat com.ibm.websphere.jaxrs.server.IBMRestServlet.handleRequest(IBMRestServlet.java:146)\\n\\tat com.ibm.websphere.jaxrs.server.IBMRestServlet.doGet(IBMRestServlet.java:112)\\n\\tat javax.servlet.http.HttpServlet.service(HttpServlet.java:687)\\n\\tat com.ibm.websphere.jaxrs.server.IBMRestServlet.service(IBMRestServlet.java:96)\\n\\tat com.ibm.ws.webcontainer.servlet.ServletWrapper.service(ServletWrapper.java:1225)\\n\\tat com.ibm.ws.webcontainer.servlet.ServletWrapper.handleRequest(ServletWrapper.java:729)\\n\\tat com.ibm.ws.webcontainer.servlet.ServletWrapper.handleRequest(ServletWrapper.java:426)\\n\\tat com.ibm.ws.webcontainer.filter.WebAppFilterChain.invokeTarget(WebAppFilterChain.java:182)\\n\\tat com.ibm.ws.webcontainer.filter.WebAppFilterChain.doFilter(WebAppFilterChain.java:93)\\n\\tat com.ibm.aios.service.common.auth.IAMTokenServletFilter.doFilter(IAMTokenServletFilter.java:420)\\n\\tat com.ibm.ws.webcontainer.filter.FilterInstanceWrapper.doFilter(FilterInstanceWrapper.java:201)\\n\\tat com.ibm.ws.webcontainer.filter.WebAppFilterChain.doFilter(WebAppFilterChain.java:90)\\n\\tat com.ibm.ws.webcontainer.filter.WebAppFilterManager.doFilter(WebAppFilterManager.java:1001)\\n\\tat com.ibm.ws.webcontainer.filter.WebAppFilterManager.invokeFilters(WebAppFilterManager.java:1139)\\n\\tat com.ibm.ws.webcontainer.webapp.WebApp.handleRequest(WebApp.java:5021)\\n\\tat com.ibm.ws.webcontainer.osgi.DynamicVirtualHost$2.handleRequest(DynamicVirtualHost.java:314)\\n\\tat com.ibm.ws.webcontainer.WebContainer.handleRequest(WebContainer.java:1007)\\n\\tat com.ibm.ws.webcontainer.osgi.DynamicVirtualHost$2.run(DynamicVirtualHost.java:279)\\n\\tat com.ibm.ws.http.dispatcher.internal.channel.HttpDispatcherLink$TaskWrapper.run(HttpDispatcherLink.java:1134)\\n\\tat com.ibm.ws.http.dispatcher.internal.channel.HttpDispatcherLink.wrapHandlerAndExecute(HttpDispatcherLink.java:415)\\n\\tat com.ibm.ws.http.dispatcher.internal.channel.HttpDispatcherLink.ready(HttpDispatcherLink.java:374)\\n\\tat com.ibm.ws.http.channel.internal.inbound.HttpInboundLink.handleDiscrimination(HttpInboundLink.java:551)\\n\\tat com.ibm.ws.http.channel.internal.inbound.HttpInboundLink.handleNewRequest(HttpInboundLink.java:484)\\n\\tat com.ibm.ws.http.channel.internal.inbound.HttpInboundLink.processRequest(HttpInboundLink.java:346)\\n\\tat com.ibm.ws.http.channel.internal.inbound.HttpInboundLink.ready(HttpInboundLink.java:317)\\n\\tat com.ibm.ws.channel.ssl.internal.SSLConnectionLink.determineNextChannel(SSLConnectionLink.java:1100)\\n\\tat com.ibm.ws.channel.ssl.internal.SSLConnectionLink$MyReadCompletedCallback.complete(SSLConnectionLink.java:675)\\n\\tat com.ibm.ws.channel.ssl.internal.SSLReadServiceContext$SSLReadCompletedCallback.complete(SSLReadServiceContext.java:1824)\\n\\tat com.ibm.ws.tcpchannel.internal.WorkQueueManager.requestComplete(WorkQueueManager.java:504)\\n\\tat com.ibm.ws.tcpchannel.internal.WorkQueueManager.attemptIO(WorkQueueManager.java:574)\\n\\tat com.ibm.ws.tcpchannel.internal.WorkQueueManager.workerRun(WorkQueueManager.java:958)\\n\\tat com.ibm.ws.tcpchannel.internal.WorkQueueManager$Worker.run(WorkQueueManager.java:1047)\\n\\tat com.ibm.ws.threading.internal.ExecutorServiceImpl$RunnableWrapper.run(ExecutorServiceImpl.java:239)\\n\\tat java.util.concurrent.ThreadPoolExecutor.runWorker(Unknown Source)\\n\\tat java.util.concurrent.ThreadPoolExecutor$Worker.run(Unknown Source)\\n\\tat java.lang.Thread.run(Unknown Source)\\nCaused by: org.apache.http.client.ClientProtocolException: AIQGS0167E : HTTP call failed (no of calls attempted = 1, method = GET, url = https://us-south.ml.cloud.ibm.com/v3/wml_instances/wml_local/deployments, status = 403).\\n\\tat com.ibm.aios.service.common.rest.HttpRest.runHttpCall(HttpRest.java:1248)\\n\\tat com.ibm.aios.service.common.rest.HttpRest.runGetCall(HttpRest.java:949)\\n\\tat com.ibm.aios.service.common.rest.HttpRest.doGetCallWithCustomHeader(HttpRest.java:881)\\n\\tat com.ibm.aios.service.common.rest.HttpRest.doGetCallWithCustomHeader(HttpRest.java:852)\\n\\tat com.ibm.aios.mlgateway.discovery.impl.WMLDeployments.getDeploymentCollectionBySpaceId(WMLDeployments.java:312)\\n\\t... 57 more\\nCaused by: org.apache.http.client.ClientProtocolException: {\\\"status\\\":403,\\\"reason\\\":\\\"Forbidden\\\",\\\"details\\\":{\\\"trace\\\":\\\"c3c3d939f04e029bdcc0d35725e5d821\\\",\\\"errors\\\":[{\\\"code\\\":\\\"forbidden\\\",\\\"message\\\":\\\"Authorized user does not have an access to this resource\\\"}]}}\\n\\tat com.ibm.aios.service.common.rest.HttpRest$2.handleResponse(HttpRest.java:240)\\n\\tat com.ibm.aios.service.common.rest.HttpRest$2.handleResponse(HttpRest.java:189)\\n\\tat org.apache.http.client.HttpClient$WrappedResponseHandler.handleResponse(HttpClient.java:206)\\n\\tat org.apache.http.client.HttpClient$WrappedResponseHandler.handleResponse(HttpClient.java:206)\\n\\tat org.apache.http.client.HttpClient$WrappedResponseHandler.handleResponse(HttpClient.java:206)\\n\\tat org.apache.http.impl.client.CloseableHttpClient.execute(CloseableHttpClient.java:223)\\n\\tat org.apache.http.impl.client.CloseableHttpClient.execute(CloseableHttpClient.java:165)\\n\\tat org.apache.http.impl.client.CloseableHttpClient.execute(CloseableHttpClient.java:140)\\n\\tat com.ibm.aios.service.common.rest.HttpRest.runHttpCall(HttpRest.java:1221)\\n\\t... 61 more\\n\",\"errors\":[{}]}\n"
     ]
    },
    {
     "output_type": "display_data",
     "data": {
      "text/plain": "<IPython.core.display.HTML object>",
      "text/html": "<HTML>\n        <body>\n            <h3>Available assets (binding_uid='wml_local')</h3>\n            <table style='border: 1px solid #dddddd; font-family: Courier'>\n                <th style='border: 1px solid #dddddd'>source_uid</th><th style='border: 1px solid #dddddd'>name</th><th style='border: 1px solid #dddddd'>created</th><th style='border: 1px solid #dddddd'>type</th><th style='border: 1px solid #dddddd'>frameworks</th><th style='border: 1px solid #dddddd'>binding_uid</th><th style='border: 1px solid #dddddd'>is_subscribed</th>\n                \n            </table>\n        </body>\n        </HTML>"
     },
     "metadata": {}
    }
   ],
   "source": [
    "\n",
    "KEEP_MY_INTERNAL_POSTGRES = True\n",
    "DB_CREDENTIALS = None\n",
    "try:\n",
    "    data_mart_details = ai_client.data_mart.get_details()\n",
    "    if (\n",
    "        \"internal_database\" in data_mart_details\n",
    "        and data_mart_details[\"internal_database\"]\n",
    "    ):\n",
    "        if KEEP_MY_INTERNAL_POSTGRES:\n",
    "            print(\"Using existing internal datamart.\")\n",
    "        else:\n",
    "            if DB_CREDENTIALS is None:\n",
    "                print(\n",
    "                    \"No postgres credentials supplied. Using existing internal datamart\"\n",
    "                )\n",
    "            else:\n",
    "                print(\"Switching to external datamart\")\n",
    "                ai_client.data_mart.delete(force=True)\n",
    "                ai_client.data_mart.setup(db_credentials=DB_CREDENTIALS)\n",
    "    else:\n",
    "        print(\"Using existing external datamart\")\n",
    "except:\n",
    "    if DB_CREDENTIALS is None:\n",
    "        print(\"Setting up internal datamart\")\n",
    "        ai_client.data_mart.setup(internal_db=True)\n",
    "    else:\n",
    "        print(\"Setting up external datamart\")\n",
    "        try:\n",
    "            ai_client.data_mart.setup(db_credentials=DB_CREDENTIALS)\n",
    "        except:\n",
    "            print(\"Setup failed, trying Db2 setup\")\n",
    "            ai_client.data_mart.setup(\n",
    "                db_credentials=DB_CREDENTIALS, schema=DB_CREDENTIALS[\"username\"]\n",
    "            )\n",
    "data_mart_details = ai_client.data_mart.get_details()\n",
    "\n",
    "binding_uid = ai_client.data_mart.bindings.add(\n",
    "    \"Rain Australia\", WatsonMachineLearningInstance(wml_credentials)\n",
    ")\n",
    "\n",
    "bindings_details = ai_client.data_mart.bindings.get_details()\n",
    "\n",
    "if binding_uid is None:\n",
    "    binding_uid = [\n",
    "        binding[\"metadata\"][\"guid\"]\n",
    "        for binding in bindings_details[\"service_bindings\"]\n",
    "        if binding[\"entity\"][\"name\"] == \"WML Cloud Instance\"\n",
    "    ][0]\n",
    "ai_client.data_mart.bindings.list()\n",
    "\n",
    "ai_client.data_mart.bindings.list_assets(binding_uid=binding_uid)"
   ]
  },
  {
   "cell_type": "code",
   "execution_count": 3,
   "metadata": {},
   "outputs": [],
   "source": [
    "subscriptions_uids = ai_client.data_mart.subscriptions.get_uids()\n",
    "# for subscription in subscriptions_uids:\n",
    "#     sub_name = ai_client.data_mart.subscriptions.get_details(subscription)['entity']['asset']['name']\n",
    "#     if sub_name == MODEL_NAME:\n",
    "#         ai_client.data_mart.subscriptions.delete(subscription)\n",
    "#         print('Deleted existing subscription for', MODEL_NAME)"
   ]
  },
  {
   "cell_type": "code",
   "execution_count": 4,
   "metadata": {},
   "outputs": [
    {
     "output_type": "stream",
     "name": "stdout",
     "text": [
      "Subscription already exists; get the existing one\n"
     ]
    }
   ],
   "source": [
    "# subscription = ai_client.data_mart.subscriptions.add(WatsonMachineLearningAsset(\n",
    "#     MODEL_UID,\n",
    "#     problem_type=ProblemType.BINARY_CLASSIFICATION,\n",
    "#     input_data_type=InputDataType.STRUCTURED,\n",
    "#     label_column='RainTomorrow',\n",
    "#     prediction_column='predictedLabel',\n",
    "#     probability_column='probability',\n",
    "#     transaction_id_column='transaction_id',\n",
    "#     feature_columns = [\"Humidity3pm\", \"Humidity9am\", \"MaxTemp\", \"MinTemp\", \"Pressure3pm\", \"Pressure9am\", \"RainToday\", \"Rainfall\", \"Temp3pm\", \"Temp9am\", \"WindDir3pm_E\", \"WindDir3pm_ENE\", \"WindDir3pm_ESE\", \"WindDir3pm_N\", \"WindDir3pm_NE\", \"WindDir3pm_NNE\", \"WindDir3pm_NNW\", \"WindDir3pm_NW\", \"WindDir3pm_S\", \"WindDir3pm_SE\", \"WindDir3pm_SSE\", \"WindDir3pm_SSW\", \"WindDir3pm_SW\", \"WindDir3pm_W\", \"WindDir3pm_WNW\", \"WindDir3pm_WSW\", \"WindDir9am_E\", \"WindDir9am_ENE\", \"WindDir9am_ESE\", \"WindDir9am_N\", \"WindDir9am_NE\", \"WindDir9am_NNE\", \"WindDir9am_NNW\", \"WindDir9am_NW\", \"WindDir9am_S\", \"WindDir9am_SE\", \"WindDir9am_SSE\", \"WindDir9am_SSW\", \"WindDir9am_SW\", \"WindDir9am_W\", \"WindDir9am_WNW\", \"WindDir9am_WSW\", \"WindGustDir_E\", \"WindGustDir_ENE\", \"WindGustDir_ESE\", \"WindGustDir_N\", \"WindGustDir_NE\", \"WindGustDir_NNE\", \"WindGustDir_NNW\", \"WindGustDir_NW\", \"WindGustDir_S\", \"WindGustDir_SE\", \"WindGustDir_SSE\", \"WindGustDir_SSW\", \"WindGustDir_SW\", \"WindGustDir_W\", \"WindGustDir_WNW\", \"WindGustDir_WSW\", \"WindGustSpeed\", \"WindSpeed3pm\", \"WindSpeed9am\"],\n",
    "#     categorical_columns = [\"RainToday\", \"WindDir3pm_E\", \"WindDir3pm_ENE\", \"WindDir3pm_ESE\", \"WindDir3pm_N\", \"WindDir3pm_NE\", \"WindDir3pm_NNE\", \"WindDir3pm_NNW\", \"WindDir3pm_NW\", \"WindDir3pm_S\", \"WindDir3pm_SE\", \"WindDir3pm_SSE\", \"WindDir3pm_SSW\", \"WindDir3pm_SW\", \"WindDir3pm_W\", \"WindDir3pm_WNW\", \"WindDir3pm_WSW\", \"WindDir9am_E\", \"WindDir9am_ENE\", \"WindDir9am_ESE\", \"WindDir9am_N\", \"WindDir9am_NE\", \"WindDir9am_NNE\", \"WindDir9am_NNW\", \"WindDir9am_NW\", \"WindDir9am_S\", \"WindDir9am_SE\", \"WindDir9am_SSE\", \"WindDir9am_SSW\", \"WindDir9am_SW\", \"WindDir9am_W\", \"WindDir9am_WNW\", \"WindDir9am_WSW\", \"WindGustDir_E\", \"WindGustDir_ENE\", \"WindGustDir_ESE\", \"WindGustDir_N\", \"WindGustDir_NE\", \"WindGustDir_NNE\", \"WindGustDir_NNW\", \"WindGustDir_NW\", \"WindGustDir_S\", \"WindGustDir_SE\", \"WindGustDir_SSE\", \"WindGustDir_SSW\", \"WindGustDir_SW\", \"WindGustDir_W\", \"WindGustDir_WNW\", \"WindGustDir_WSW\", \"WindGustSpeed\", \"WindSpeed3pm\", \"WindSpeed9am\"]\n",
    "# ))\n",
    "\n",
    "subscription = None\n",
    "\n",
    "if subscription is None:\n",
    "    print('Subscription already exists; get the existing one')\n",
    "    subscriptions_uids = ai_client.data_mart.subscriptions.get_uids()\n",
    "\n",
    "    for sub in subscriptions_uids:\n",
    "        if ai_client.data_mart.subscriptions.get_details(sub)['entity']['asset']['name'] == MODEL_NAME:\n",
    "            subscription = ai_client.data_mart.subscriptions.get(sub)"
   ]
  },
  {
   "cell_type": "code",
   "execution_count": 5,
   "metadata": {},
   "outputs": [
    {
     "output_type": "display_data",
     "data": {
      "text/plain": "<IPython.core.display.HTML object>",
      "text/html": "<HTML>\n        <body>\n            <h3>Subscriptions</h3>\n            <table style='border: 1px solid #dddddd; font-family: Courier'>\n                <th style='border: 1px solid #dddddd'>uid</th><th style='border: 1px solid #dddddd'>name</th><th style='border: 1px solid #dddddd'>type</th><th style='border: 1px solid #dddddd'>binding_uid</th><th style='border: 1px solid #dddddd'>created</th>\n                <tr><td style='border: 1px solid #dddddd'>bb7a45c3-15ad-4932-aeb8-8d32d54b8b05</td><td style='border: 1px solid #dddddd'>Rain_aus_v0.3</td><td style='border: 1px solid #dddddd'>model</td><td style='border: 1px solid #dddddd'>974615e0-4c06-40a3-af1f-944192f7e472</td><td style='border: 1px solid #dddddd'>2021-04-04T21:23:38.668Z</td></tr>\n            </table>\n        </body>\n        </HTML>"
     },
     "metadata": {}
    }
   ],
   "source": [
    "subscriptions_uids = ai_client.data_mart.subscriptions.get_uids()\n",
    "ai_client.data_mart.subscriptions.list()"
   ]
  },
  {
   "cell_type": "code",
   "execution_count": 8,
   "metadata": {},
   "outputs": [
    {
     "output_type": "stream",
     "name": "stdout",
     "text": [
      "https://us-south.ml.cloud.ibm.com/ml/v4/deployments/e02e481d-4e56-470f-baa9-ae84a583c0a8/predictions\n"
     ]
    }
   ],
   "source": [
    "\n",
    "for deployment in wml_client.deployments.get_details()['resources']:\n",
    "    if DEPLOYMENT_UID in deployment['metadata']['id']:\n",
    "\n",
    "        scoring_endpoint = deployment['entity']['status']['online_url']['url']\n",
    "        \n",
    "print(scoring_endpoint)"
   ]
  },
  {
   "cell_type": "code",
   "execution_count": 13,
   "metadata": {},
   "outputs": [],
   "source": [
    "data = pd.read_csv(\"../data/weatherAUS_processed.csv\")\n",
    "\n",
    "X = data.iloc[:, :-1]\n",
    "y = data[data.columns[-1]]\n",
    "X_train, X_test, y_train, y_test = train_test_split(\n",
    "    X, y, test_size=0.3, random_state=0\n",
    ")\n",
    "\n",
    "payload_scoring = {\n",
    "    \"input_data\": [\n",
    "        {\n",
    "            \"fields\": X.columns.to_numpy().tolist(),\n",
    "            \"values\": X_test.to_numpy().tolist(),\n",
    "        }\n",
    "    ]\n",
    "}"
   ]
  },
  {
   "cell_type": "code",
   "execution_count": 14,
   "metadata": {},
   "outputs": [],
   "source": [
    "scoring_response = wml_client.deployments.score(DEPLOYMENT_UID, payload_scoring)\n",
    "\n",
    "# scoring_response"
   ]
  },
  {
   "cell_type": "code",
   "execution_count": 26,
   "metadata": {},
   "outputs": [
    {
     "output_type": "stream",
     "name": "stdout",
     "text": [
      "{'accuracy': 0.8464349993077669, 'recall': 0.9659438322076075, 'precision': 0.8555415617128463, 'f1': 0.907396894306228}\n"
     ]
    }
   ],
   "source": [
    "pred_values = np.squeeze(scoring_response[\"predictions\"][0][\"values\"])\n",
    "y_pred_values = [i[0] for i in pred_values]\n",
    "\n",
    "def comb_eval(y, y_pred):\n",
    "    acc = accuracy_score(y, y_pred)\n",
    "    recall = recall_score(y, y_pred)\n",
    "    precision = precision_score(y, y_pred)\n",
    "    f1 = f1_score(y, y_pred)\n",
    "\n",
    "    return {\"accuracy\": acc, \"recall\": recall, \"precision\": precision, \"f1\": f1}\n",
    "\n",
    "eval = comb_eval(y_test, y_pred_values)\n",
    "print(eval)\n"
   ]
  },
  {
   "cell_type": "code",
   "execution_count": 24,
   "metadata": {},
   "outputs": [
    {
     "output_type": "error",
     "ename": "ApiRequestFailure",
     "evalue": "Failure during payload logging get total count. (GET https://api.aiopenscale.cloud.ibm.com/v1/data_marts/7b220d7b-3196-43c3-8510-a4f710021a04/scoring_transactions?subscription_id=bb7a45c3-15ad-4932-aeb8-8d32d54b8b05&limit=1&include_total_count=true)\nStatus code: 400, body: {\"errors\":[{\"code\":\"AIQPO0009E\",\"message\":\"There is no configuration for payload logging or payload logging was not enabled\"}],\"trace\":\"YzVlOTZjNDktMDBlNC00M2Q3LWJhNmMtYjE3ZTM1ZmIwZGJj\"}",
     "traceback": [
      "\u001b[0;31m---------------------------------------------------------------------------\u001b[0m",
      "\u001b[0;31mApiRequestFailure\u001b[0m                         Traceback (most recent call last)",
      "\u001b[0;32m<ipython-input-24-d5f5e2ee1ae6>\u001b[0m in \u001b[0;36m<module>\u001b[0;34m\u001b[0m\n\u001b[0;32m----> 1\u001b[0;31m \u001b[0msubscription\u001b[0m\u001b[0;34m.\u001b[0m\u001b[0mpayload_logging\u001b[0m\u001b[0;34m.\u001b[0m\u001b[0mget_records_count\u001b[0m\u001b[0;34m(\u001b[0m\u001b[0;34m)\u001b[0m\u001b[0;34m\u001b[0m\u001b[0;34m\u001b[0m\u001b[0m\n\u001b[0m",
      "\u001b[0;32m~/.local/lib/python3.6/site-packages/ibm_ai_openscale/base_classes/configuration/payload_logging.py\u001b[0m in \u001b[0;36mget_records_count\u001b[0;34m(self)\u001b[0m\n\u001b[1;32m    252\u001b[0m         )\n\u001b[1;32m    253\u001b[0m \u001b[0;34m\u001b[0m\u001b[0m\n\u001b[0;32m--> 254\u001b[0;31m         \u001b[0;32mreturn\u001b[0m \u001b[0mhandle_response\u001b[0m\u001b[0;34m(\u001b[0m\u001b[0;36m200\u001b[0m\u001b[0;34m,\u001b[0m \u001b[0;34mu'payload logging get total count'\u001b[0m\u001b[0;34m,\u001b[0m \u001b[0mresponse\u001b[0m\u001b[0;34m)\u001b[0m\u001b[0;34m[\u001b[0m\u001b[0;34m'total_count'\u001b[0m\u001b[0;34m]\u001b[0m\u001b[0;34m\u001b[0m\u001b[0;34m\u001b[0m\u001b[0m\n\u001b[0m",
      "\u001b[0;32m~/.local/lib/python3.6/site-packages/ibm_ai_openscale/utils/utils.py\u001b[0m in \u001b[0;36mhandle_response\u001b[0;34m(expected_status_code, operationName, response, json_response)\u001b[0m\n\u001b[1;32m    136\u001b[0m         \u001b[0;32mraise\u001b[0m \u001b[0mApiRequestWarning\u001b[0m\u001b[0;34m(\u001b[0m\u001b[0;34mu'Warning during {}.'\u001b[0m\u001b[0;34m.\u001b[0m\u001b[0mformat\u001b[0m\u001b[0;34m(\u001b[0m\u001b[0moperationName\u001b[0m\u001b[0;34m)\u001b[0m\u001b[0;34m,\u001b[0m \u001b[0mresponse\u001b[0m\u001b[0;34m)\u001b[0m\u001b[0;34m\u001b[0m\u001b[0;34m\u001b[0m\u001b[0m\n\u001b[1;32m    137\u001b[0m     \u001b[0;32melse\u001b[0m\u001b[0;34m:\u001b[0m\u001b[0;34m\u001b[0m\u001b[0;34m\u001b[0m\u001b[0m\n\u001b[0;32m--> 138\u001b[0;31m         \u001b[0;32mraise\u001b[0m \u001b[0mApiRequestFailure\u001b[0m\u001b[0;34m(\u001b[0m\u001b[0;34mu'Failure during {}.'\u001b[0m\u001b[0;34m.\u001b[0m\u001b[0mformat\u001b[0m\u001b[0;34m(\u001b[0m\u001b[0moperationName\u001b[0m\u001b[0;34m)\u001b[0m\u001b[0;34m,\u001b[0m \u001b[0mresponse\u001b[0m\u001b[0;34m)\u001b[0m\u001b[0;34m\u001b[0m\u001b[0;34m\u001b[0m\u001b[0m\n\u001b[0m\u001b[1;32m    139\u001b[0m \u001b[0;34m\u001b[0m\u001b[0m\n\u001b[1;32m    140\u001b[0m \u001b[0;34m\u001b[0m\u001b[0m\n",
      "\u001b[0;31mApiRequestFailure\u001b[0m: Failure during payload logging get total count. (GET https://api.aiopenscale.cloud.ibm.com/v1/data_marts/7b220d7b-3196-43c3-8510-a4f710021a04/scoring_transactions?subscription_id=bb7a45c3-15ad-4932-aeb8-8d32d54b8b05&limit=1&include_total_count=true)\nStatus code: 400, body: {\"errors\":[{\"code\":\"AIQPO0009E\",\"message\":\"There is no configuration for payload logging or payload logging was not enabled\"}],\"trace\":\"YzVlOTZjNDktMDBlNC00M2Q3LWJhNmMtYjE3ZTM1ZmIwZGJj\"}"
     ]
    }
   ],
   "source": [
    "subscription.payload_logging.get_records_count()"
   ]
  },
  {
   "cell_type": "code",
   "execution_count": 27,
   "metadata": {},
   "outputs": [
    {
     "output_type": "error",
     "ename": "ApiRequestFailure",
     "evalue": "Failure during payload logging get total count. (GET https://api.aiopenscale.cloud.ibm.com/v1/data_marts/7b220d7b-3196-43c3-8510-a4f710021a04/scoring_transactions?subscription_id=bb7a45c3-15ad-4932-aeb8-8d32d54b8b05&limit=1&include_total_count=true)\nStatus code: 400, body: {\"errors\":[{\"code\":\"AIQPO0009E\",\"message\":\"There is no configuration for payload logging or payload logging was not enabled\"}],\"trace\":\"Njc3ZThhZWMtYjNkOC00MjE3LWFhZDYtOGRhM2Q0YWI5MTkz\"}",
     "traceback": [
      "\u001b[0;31m---------------------------------------------------------------------------\u001b[0m",
      "\u001b[0;31mApiRequestFailure\u001b[0m                         Traceback (most recent call last)",
      "\u001b[0;32m<ipython-input-27-7d63ed314e80>\u001b[0m in \u001b[0;36m<module>\u001b[0;34m\u001b[0m\n\u001b[0;32m----> 1\u001b[0;31m \u001b[0msubscription\u001b[0m\u001b[0;34m.\u001b[0m\u001b[0mquality_monitoring\u001b[0m\u001b[0;34m.\u001b[0m\u001b[0menable\u001b[0m\u001b[0;34m(\u001b[0m\u001b[0mthreshold\u001b[0m\u001b[0;34m=\u001b[0m\u001b[0;36m0.7\u001b[0m\u001b[0;34m,\u001b[0m \u001b[0mmin_records\u001b[0m\u001b[0;34m=\u001b[0m\u001b[0;36m50\u001b[0m\u001b[0;34m)\u001b[0m\u001b[0;34m\u001b[0m\u001b[0;34m\u001b[0m\u001b[0m\n\u001b[0m",
      "\u001b[0;32m~/.local/lib/python3.6/site-packages/ibm_ai_openscale/base_classes/configuration/quality_monitoring.py\u001b[0m in \u001b[0;36menable\u001b[0;34m(self, threshold, min_records, max_records, **kwargs)\u001b[0m\n\u001b[1;32m     48\u001b[0m                                  reason='Asset properties should be specified using subscriptions.add() or subscription.update() methods.')\n\u001b[1;32m     49\u001b[0m \u001b[0;34m\u001b[0m\u001b[0m\n\u001b[0;32m---> 50\u001b[0;31m         \u001b[0;32mif\u001b[0m \u001b[0mself\u001b[0m\u001b[0;34m.\u001b[0m\u001b[0m_subscription\u001b[0m\u001b[0;34m.\u001b[0m\u001b[0mpayload_logging\u001b[0m\u001b[0;34m.\u001b[0m\u001b[0mget_records_count\u001b[0m\u001b[0;34m(\u001b[0m\u001b[0;34m)\u001b[0m \u001b[0;34m==\u001b[0m \u001b[0;36m0\u001b[0m\u001b[0;34m:\u001b[0m\u001b[0;34m\u001b[0m\u001b[0;34m\u001b[0m\u001b[0m\n\u001b[0m\u001b[1;32m     51\u001b[0m             \u001b[0;32mraise\u001b[0m \u001b[0mMissingPayload\u001b[0m\u001b[0;34m(\u001b[0m\u001b[0mself\u001b[0m\u001b[0;34m.\u001b[0m\u001b[0m__class__\u001b[0m\u001b[0;34m.\u001b[0m\u001b[0m__name__\u001b[0m\u001b[0;34m)\u001b[0m\u001b[0;34m\u001b[0m\u001b[0;34m\u001b[0m\u001b[0m\n\u001b[1;32m     52\u001b[0m \u001b[0;34m\u001b[0m\u001b[0m\n",
      "\u001b[0;32m~/.local/lib/python3.6/site-packages/ibm_ai_openscale/base_classes/configuration/payload_logging.py\u001b[0m in \u001b[0;36mget_records_count\u001b[0;34m(self)\u001b[0m\n\u001b[1;32m    252\u001b[0m         )\n\u001b[1;32m    253\u001b[0m \u001b[0;34m\u001b[0m\u001b[0m\n\u001b[0;32m--> 254\u001b[0;31m         \u001b[0;32mreturn\u001b[0m \u001b[0mhandle_response\u001b[0m\u001b[0;34m(\u001b[0m\u001b[0;36m200\u001b[0m\u001b[0;34m,\u001b[0m \u001b[0;34mu'payload logging get total count'\u001b[0m\u001b[0;34m,\u001b[0m \u001b[0mresponse\u001b[0m\u001b[0;34m)\u001b[0m\u001b[0;34m[\u001b[0m\u001b[0;34m'total_count'\u001b[0m\u001b[0;34m]\u001b[0m\u001b[0;34m\u001b[0m\u001b[0;34m\u001b[0m\u001b[0m\n\u001b[0m",
      "\u001b[0;32m~/.local/lib/python3.6/site-packages/ibm_ai_openscale/utils/utils.py\u001b[0m in \u001b[0;36mhandle_response\u001b[0;34m(expected_status_code, operationName, response, json_response)\u001b[0m\n\u001b[1;32m    136\u001b[0m         \u001b[0;32mraise\u001b[0m \u001b[0mApiRequestWarning\u001b[0m\u001b[0;34m(\u001b[0m\u001b[0;34mu'Warning during {}.'\u001b[0m\u001b[0;34m.\u001b[0m\u001b[0mformat\u001b[0m\u001b[0;34m(\u001b[0m\u001b[0moperationName\u001b[0m\u001b[0;34m)\u001b[0m\u001b[0;34m,\u001b[0m \u001b[0mresponse\u001b[0m\u001b[0;34m)\u001b[0m\u001b[0;34m\u001b[0m\u001b[0;34m\u001b[0m\u001b[0m\n\u001b[1;32m    137\u001b[0m     \u001b[0;32melse\u001b[0m\u001b[0;34m:\u001b[0m\u001b[0;34m\u001b[0m\u001b[0;34m\u001b[0m\u001b[0m\n\u001b[0;32m--> 138\u001b[0;31m         \u001b[0;32mraise\u001b[0m \u001b[0mApiRequestFailure\u001b[0m\u001b[0;34m(\u001b[0m\u001b[0;34mu'Failure during {}.'\u001b[0m\u001b[0;34m.\u001b[0m\u001b[0mformat\u001b[0m\u001b[0;34m(\u001b[0m\u001b[0moperationName\u001b[0m\u001b[0;34m)\u001b[0m\u001b[0;34m,\u001b[0m \u001b[0mresponse\u001b[0m\u001b[0;34m)\u001b[0m\u001b[0;34m\u001b[0m\u001b[0;34m\u001b[0m\u001b[0m\n\u001b[0m\u001b[1;32m    139\u001b[0m \u001b[0;34m\u001b[0m\u001b[0m\n\u001b[1;32m    140\u001b[0m \u001b[0;34m\u001b[0m\u001b[0m\n",
      "\u001b[0;31mApiRequestFailure\u001b[0m: Failure during payload logging get total count. (GET https://api.aiopenscale.cloud.ibm.com/v1/data_marts/7b220d7b-3196-43c3-8510-a4f710021a04/scoring_transactions?subscription_id=bb7a45c3-15ad-4932-aeb8-8d32d54b8b05&limit=1&include_total_count=true)\nStatus code: 400, body: {\"errors\":[{\"code\":\"AIQPO0009E\",\"message\":\"There is no configuration for payload logging or payload logging was not enabled\"}],\"trace\":\"Njc3ZThhZWMtYjNkOC00MjE3LWFhZDYtOGRhM2Q0YWI5MTkz\"}"
     ]
    }
   ],
   "source": [
    "subscription.quality_monitoring.enable(threshold=0.7, min_records=50)\n"
   ]
  },
  {
   "cell_type": "code",
   "execution_count": null,
   "metadata": {},
   "outputs": [],
   "source": []
  }
 ]
}